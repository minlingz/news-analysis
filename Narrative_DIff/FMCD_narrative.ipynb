{
 "cells": [
  {
   "cell_type": "code",
   "execution_count": 1,
   "metadata": {},
   "outputs": [],
   "source": [
    "import torch\n",
    "import torch.nn as nn\n",
    "import torch.optim as optim\n",
    "import numpy as np\n",
    "from typing import List, Tuple\n",
    "\n",
    "\n",
    "class FactorModel(nn.Module):\n",
    "    def __init__(self, N: int, K: List[int], d: int):\n",
    "        super(FactorModel, self).__init__()\n",
    "        self.N = N  # Number of questions\n",
    "        self.K = K  # List of number of categorical answers for each question\n",
    "        self.d = d  # Latent dimension\n",
    "        self.W = nn.ModuleList([nn.Linear(d, K[i] - 1, bias=False) for i in range(N)])\n",
    "        self.biases = nn.ParameterList(\n",
    "            [nn.Parameter(torch.randn(K[i] - 1)) for i in range(N)]\n",
    "        )\n",
    "\n",
    "    def forward(self, v: torch.Tensor) -> List[torch.Tensor]:\n",
    "        logits = [self.W[n](v) + self.biases[n] for n in range(self.N)]\n",
    "        # Append zero logits for the last category to each question's logits\n",
    "        logits = [\n",
    "            torch.cat((logit, torch.zeros(logit.size(0), 1).to(logit.device)), dim=1)\n",
    "            for logit in logits\n",
    "        ]\n",
    "        return logits\n",
    "\n",
    "    def predict_proba(self, v: torch.Tensor) -> List[torch.Tensor]:\n",
    "        logits = self.forward(v)  # List of logits for each question\n",
    "        probabilities = [torch.softmax(logit, dim=-1) for logit in logits]\n",
    "        return probabilities\n",
    "\n",
    "\n",
    "def loss_function(\n",
    "    model: FactorModel,\n",
    "    v: torch.Tensor,\n",
    "    answers: torch.Tensor,\n",
    "    lambda1: float,\n",
    "    lambda2: float,\n",
    ") -> torch.Tensor:\n",
    "\n",
    "    criterion = nn.NLLLoss(reduction=\"sum\")\n",
    "    logits = model.forward(v)\n",
    "\n",
    "    total_loss = 0\n",
    "    for n in range(model.N):\n",
    "        log_probs = nn.functional.log_softmax(logits[n], dim=1)\n",
    "        total_loss += criterion(log_probs, answers[:, n])\n",
    "    nll_loss = total_loss.clone()\n",
    "    # L2 Regularization\n",
    "    l2_reg = sum(torch.norm(W.weight, 2) ** 2 for W in model.W)\n",
    "    total_loss += lambda1 * l2_reg\n",
    "    total_loss += lambda2 * torch.norm(v, 2) ** 2\n",
    "    return total_loss, nll_loss\n",
    "\n",
    "\n",
    "def train_model(\n",
    "    model: FactorModel,\n",
    "    answers: torch.Tensor,\n",
    "    epochs: int = 1000,\n",
    "    lr: float = 0.01,\n",
    "    lambda1: float = 0.01,\n",
    "    lambda2: float = 0.01,\n",
    ") -> Tuple[FactorModel, torch.Tensor]:\n",
    "\n",
    "    v = torch.randn(len(answers), model.d, requires_grad=True)\n",
    "\n",
    "    # optimizer = optim.Adam(model.parameters(), lr=lr)\n",
    "    optimizer = optim.Adam(list(model.parameters()) + [v], lr=lr)\n",
    "    for epoch in range(epochs):\n",
    "        optimizer.zero_grad()\n",
    "        loss, nllloss = loss_function(model, v, answers, lambda1, lambda2)\n",
    "        loss.backward()\n",
    "        optimizer.step()\n",
    "        # if epoch % 100 == 0:\n",
    "        # print(f\"Epoch {epoch}, Loss: {loss.item()}, nll_loss: {nllloss.item()}\")\n",
    "    print(\n",
    "        f\"d: {model.d}, Epoch {epoch}, Loss: {loss.item()}, nll_loss: {nllloss.item()}\"\n",
    "    )\n",
    "    return model, v"
   ]
  },
  {
   "cell_type": "code",
   "execution_count": 2,
   "metadata": {},
   "outputs": [],
   "source": [
    "import json\n",
    "\n",
    "with open(\"narrative_questions.json\") as f:\n",
    "    data = json.load(f)\n",
    "Q = data.values()\n",
    "K = []\n",
    "for q in Q:\n",
    "    choice = q[\"choices\"].values()\n",
    "    K.append(len(choice))"
   ]
  },
  {
   "cell_type": "code",
   "execution_count": 3,
   "metadata": {},
   "outputs": [
    {
     "data": {
      "text/plain": [
       "['narrative_QnA_summary_Russo_Ukrainian_War_eng.json',\n",
       " 'narrative_QnA_summary_Russo_Ukrainian_War_zho.json']"
      ]
     },
     "execution_count": 3,
     "metadata": {},
     "output_type": "execute_result"
    }
   ],
   "source": [
    "# get the file name that starts with \"QnA\"\n",
    "import os\n",
    "import re\n",
    "\n",
    "file_list = os.listdir(\".\")\n",
    "file_list.sort()\n",
    "file_list = [f for f in file_list if re.match(r\"^narrative_QnA\", f)]\n",
    "# save the file list to csv file:\n",
    "import pandas as pd\n",
    "\n",
    "df = pd.DataFrame(file_list, columns=[\"file_name\"])\n",
    "df.to_csv(\"Narrative_QnA_file_list.csv\", index=False)\n",
    "file_list"
   ]
  },
  {
   "cell_type": "code",
   "execution_count": 4,
   "metadata": {},
   "outputs": [],
   "source": [
    "import json\n",
    "import numpy as np\n",
    "\n",
    "\n",
    "def extract_answers(file):\n",
    "    with open(file) as f:\n",
    "        data = json.load(f)\n",
    "\n",
    "    # Initialize a list to store the extracted values\n",
    "    answers = []\n",
    "\n",
    "    # Iterate through the JSON objects to extract `post_LLM_answer`\n",
    "    for item in data:\n",
    "\n",
    "        if \"answers\" in item:\n",
    "            # get the value under the key `answers`\n",
    "            answer = item[\"answers\"]\n",
    "            answers.append(list(answer.values()))\n",
    "    for a in answers:\n",
    "        print(a)\n",
    "    # convert the list of extracted values to a numpy array\n",
    "    answers = np.array(answers, dtype=object)\n",
    "    answers = np.where(answers == \"A\", 0, answers)\n",
    "    answers = np.where(answers == \"B\", 1, answers)\n",
    "    answers = np.where(answers == \"C\", 2, answers)\n",
    "    answers = np.where(answers == \"D\", 3, answers)\n",
    "    answers = np.where(answers == \"E\", 4, answers)\n",
    "    # answers = np.where(answers == \".\", 0, answers)\n",
    "    # find the answer that is \".\"\n",
    "    # idx = np.where(answers == \".\")\n",
    "    # idx = list(zip(*idx))\n",
    "    answers = answers.astype(int)\n",
    "    return answers"
   ]
  },
  {
   "cell_type": "code",
   "execution_count": 5,
   "metadata": {},
   "outputs": [
    {
     "name": "stdout",
     "output_type": "stream",
     "text": [
      "['A', 'A', 'A', 'A', 'A', 'A', 'B', 'A', 'A', 'A', 'A']\n",
      "['B', 'A', 'B', 'A', 'A', 'A', 'A', 'A', 'A', 'A', 'A']\n",
      "['A', 'A', 'A', 'A', 'A', 'A', 'A', 'A', 'A', 'A', 'A']\n",
      "['A', 'A', 'A', 'A', 'A', 'A', 'A', 'A', 'A', 'A', 'A']\n",
      "['C', 'C', 'C', 'C', 'C', 'C', 'C', 'C', 'C', 'C', 'C']\n",
      "['C', 'C', 'C', 'C', 'C', 'C', 'A', 'A', 'A', 'A', 'A']\n",
      "['C', 'C', 'C', 'C', 'C', 'C', 'C', 'C', 'C', 'C', 'C']\n",
      "['C', 'C', 'C', 'C', 'C', 'C', 'C', 'C', 'C', 'C', 'C']\n",
      "['C', 'C', 'C', 'C', 'C', 'C', 'C', 'C', 'C', 'C', 'C']\n",
      "['C', 'C', 'C', 'C', 'C', 'C', 'A', 'A', 'A', 'A', 'A']\n",
      "['B', 'B', 'B', 'A', 'A', 'B', 'B', 'B', 'A', 'A', 'A']\n",
      "['C', 'C', 'C', 'C', 'C', 'C', 'C', 'C', 'C', 'C', 'C']\n",
      "['C', 'C', 'C', 'C', 'C', 'C', 'C', 'C', 'C', 'C', 'C']\n",
      "['A', 'A', 'A', 'A', 'A', 'A', 'A', 'A', 'A', 'A', 'A']\n",
      "['C', 'C', 'C', 'C', 'C', 'C', 'C', 'C', 'C', 'C', 'C']\n",
      "['C', 'C', 'C', 'C', 'C', 'C', 'C', 'C', 'C', 'C', 'C']\n",
      "['C', 'C', 'C', 'C', 'C', 'C', 'C', 'C', 'C', 'C', 'C']\n",
      "['C', 'C', 'C', 'C', 'A', 'C', 'B', 'B', 'A', 'A', 'A']\n",
      "['C', 'C', 'C', 'C', 'C', 'C', 'C', 'B', 'A', 'A', 'A']\n",
      "['C', 'C', 'C', 'C', 'C', 'C', 'A', 'A', 'A', 'C', 'A']\n",
      "['A', 'A', 'A', 'A', 'A', 'A', 'A', 'A', 'A', 'A', 'A']\n",
      "['C', 'C', 'C', 'C', 'C', 'C', 'C', 'C', 'C', 'C', 'C']\n",
      "['C', 'C', 'C', 'C', 'C', 'C', 'C', 'C', 'C', 'C', 'C']\n",
      "['C', 'C', 'C', 'C', 'C', 'C', 'C', 'C', 'C', 'C', 'C']\n",
      "['C', 'C', 'C', 'C', 'C', 'C', 'C', 'C', 'C', 'C', 'A']\n",
      "['A', 'A', 'A', 'A', 'A', 'A', 'A', 'A', 'A', 'A', 'A']\n",
      "['C', 'C', 'C', 'C', 'C', 'C', 'C', 'C', 'C', 'C', 'A']\n",
      "['C', 'C', 'C', 'C', 'C', 'C', 'B', 'B', 'A', 'A', 'A']\n",
      "['B', 'A', 'B', 'A', 'A', 'A', 'A', 'A', 'A', 'A', 'B']\n",
      "['C', 'C', 'C', 'C', 'C', 'C', 'A', 'A', 'A', 'A', 'A']\n",
      "['C', 'C', 'C', 'C', 'C', 'C', 'B', 'B', 'B', 'B', 'A']\n",
      "['A', 'A', 'A', 'A', 'A', 'A', 'A', 'A', 'A', 'A', 'A']\n",
      "['C', 'C', 'C', 'C', 'A', 'A', 'B', 'B', 'A', 'A', 'A']\n",
      "['B', 'A', 'B', 'A', 'A', 'B', 'B', 'B', 'B', 'A', 'A']\n",
      "['C', 'C', 'C', 'C', 'C', 'C', 'C', 'C', 'C', 'C', 'C']\n",
      "['A', 'C', 'C', 'C', 'C', 'C', 'C', 'C', 'C', 'C', 'C']\n",
      "['C', 'C', 'C', 'C', 'C', 'C', 'C', 'C', 'A', 'A', 'A']\n",
      "['C', 'C', 'C', 'C', 'C', 'C', 'C', 'B', 'A', 'A', 'A']\n",
      "['C', 'C', 'C', 'C', 'B', 'C', 'C', 'C', 'C', 'A', 'B']\n",
      "['C', 'C', 'C', 'C', 'C', 'C', 'C', 'C', 'C', 'C', 'C']\n",
      "['C', 'C', 'C', 'C', 'C', 'C', 'C', 'C', 'C', 'C', 'C']\n",
      "['C', 'C', 'C', 'C', 'C', 'C', 'C', 'C', 'C', 'C', 'C']\n",
      "['C', 'C', 'C', 'C', 'C', 'C', 'C', 'B', 'A', 'A', 'A']\n",
      "['C', 'C', 'C', 'C', 'C', 'C', 'A', 'A', 'A', 'A', 'A']\n",
      "['C', 'C', 'C', 'C', 'C', 'C', 'C', 'C', 'C', 'C', 'C']\n",
      "['C', 'C', 'C', 'C', 'C', 'C', 'C', 'C', 'C', 'C', 'C']\n",
      "['A', 'A', 'A', 'A', 'A', 'A', 'A', 'A', 'A', 'A', 'A']\n",
      "['C', 'C', 'C', 'C', 'C', 'C', 'C', 'C', 'C', 'C', 'C']\n",
      "['A', 'A', 'A', 'A', 'A', 'A', 'A', 'A', 'A', 'A', 'A']\n",
      "['C', 'C', 'C', 'C', 'C', 'C', 'C', 'C', 'C', 'C', 'C']\n",
      "['C', 'C', 'C', 'C', 'B', 'C', 'A', 'A', 'A', 'A', 'A']\n",
      "['C', 'C', 'C', 'C', 'C', 'C', 'C', 'C', 'C', 'C', 'A']\n",
      "['C', 'C', 'C', 'C', 'C', 'C', 'C', 'C', 'C', 'C', 'C']\n",
      "['C', 'C', 'C', 'C', 'C', 'C', 'A', 'A', 'A', 'A', 'A']\n",
      "['C', 'C', 'C', 'C', 'C', 'C', 'C', 'C', 'C', 'C', 'C']\n",
      "['C', 'C', 'C', 'C', 'C', 'C', 'C', 'C', 'C', 'C', 'C']\n",
      "['B', 'A', 'B', 'A', 'A', 'A', 'A', 'A', 'A', 'A', 'A']\n",
      "['C', 'C', 'C', 'C', 'C', 'C', 'C', 'C', 'C', 'C', 'C']\n",
      "['C', 'C', 'C', 'C', 'C', 'C', 'C', 'C', 'C', 'C', 'C']\n",
      "['C', 'C', 'C', 'C', 'C', 'C', 'C', 'C', 'C', 'C', 'C']\n",
      "['C', 'C', 'C', 'C', 'C', 'C', 'A', 'A', 'A', 'A', 'A']\n",
      "['A', 'A', 'A', 'A', 'A', 'A', 'A', 'A', 'A', 'A', 'A']\n",
      "['B', 'A', 'B', 'A', 'A', 'B', 'B', 'B', 'A', 'A', 'B']\n",
      "['B', 'B', 'B', 'A', 'A', 'B', 'A', 'A', 'A', 'A', 'A']\n",
      "['C', 'C', 'C', 'C', 'C', 'C', 'C', 'C', 'C', 'C', 'C']\n",
      "['A', 'A', 'A', 'A', 'A', 'A', 'A', 'A', 'A', 'A', 'A']\n",
      "['B', 'B', 'B', 'B', 'A', 'B', 'A', 'A', 'A', 'A', 'B']\n",
      "['C', 'C', 'C', 'C', 'C', 'C', 'C', 'C', 'C', 'C', 'C']\n",
      "['B', 'B', 'B', 'B', 'A', 'B', 'A', 'B', 'B', 'A', 'B']\n",
      "['C', 'C', 'C', 'C', 'C', 'C', 'A', 'A', 'A', 'A', 'A']\n",
      "['C', 'C', 'C', 'C', 'C', 'C', 'A', 'A', 'A', 'A', 'A']\n",
      "['C', 'C', 'C', 'C', 'C', 'C', 'C', 'C', 'C', 'C', 'C']\n",
      "['A', 'A', 'A', 'A', 'A', 'A', 'A', 'A', 'A', 'A', 'A']\n",
      "['A', 'A', 'A', 'A', 'B', 'A', 'A', 'A', 'A', 'A', 'A']\n",
      "['C', 'C', 'C', 'C', 'C', 'C', 'A', 'A', 'A', 'A', 'A']\n",
      "['C', 'C', 'C', 'C', 'C', 'C', 'C', 'C', 'C', 'C', 'C']\n",
      "['C', 'C', 'C', 'C', 'C', 'C', 'C', 'C', 'C', 'C', 'C']\n",
      "['C', 'C', 'C', 'C', 'C', 'C', 'C', 'C', 'C', 'C', 'C']\n",
      "['C', 'C', 'C', 'C', 'B', 'C', 'A', 'B', 'B', 'A', 'A']\n",
      "['A', 'A', 'A', 'A', 'A', 'A', 'A', 'A', 'A', 'A', 'A']\n",
      "['C', 'C', 'C', 'C', 'C', 'C', 'C', 'C', 'C', 'C', 'C']\n",
      "['C', 'C', 'C', 'C', 'C', 'C', 'C', 'C', 'C', 'C', 'C']\n",
      "['C', 'C', 'C', 'C', 'C', 'C', 'C', 'C', 'C', 'C', 'C']\n",
      "['C', 'C', 'C', 'C', 'C', 'C', 'C', 'C', 'C', 'C', 'A']\n",
      "['C', 'C', 'C', 'C', 'C', 'C', 'C', 'C', 'C', 'C', 'C']\n",
      "['C', 'C', 'C', 'C', 'C', 'C', 'C', 'C', 'C', 'C', 'A']\n",
      "['C', 'C', 'C', 'C', 'C', 'C', 'A', 'A', 'A', 'A', 'A']\n",
      "['A', 'A', 'A', 'A', 'A', 'A', 'A', 'A', 'A', 'A', 'A']\n",
      "['C', 'C', 'C', 'C', 'C', 'C', 'A', 'B', 'A', 'A', 'A']\n",
      "['C', 'C', 'C', 'C', 'C', 'C', 'A', 'A', 'A', 'A', 'A']\n",
      "['C', 'C', 'C', 'C', 'C', 'C', 'C', 'C', 'A', 'B', 'A']\n",
      "['A', 'B', 'A', 'A', 'A', 'A', 'B', 'B', 'A', 'A', 'A']\n",
      "['C', 'C', 'C', 'C', 'C', 'C', 'C', 'C', 'C', 'C', 'A']\n",
      "['C', 'C', 'C', 'C', 'C', 'C', 'C', 'C', 'C', 'C', 'C']\n",
      "['C', 'C', 'C', 'C', 'C', 'C', 'A', 'A', 'A', 'A', 'A']\n",
      "['C', 'C', 'C', 'C', 'C', 'C', 'C', 'C', 'C', 'C', 'C']\n",
      "['A', 'A', 'A', 'A', 'A', 'A', 'B', 'B', 'A', 'A', 'A']\n",
      "['C', 'C', 'C', 'C', 'C', 'C', 'C', 'C', 'C', 'C', 'C']\n",
      "['C', 'C', 'C', 'C', 'C', 'C', 'C', 'C', 'C', 'C', 'C']\n",
      "['C', 'C', 'C', 'C', 'C', 'C', 'C', 'C', 'C', 'C', 'C']\n",
      "['C', 'C', 'C', 'C', 'C', 'C', 'C', 'C', 'C', 'C', 'C']\n",
      "['C', 'C', 'C', 'C', 'C', 'C', 'C', 'C', 'C', 'C', 'C']\n",
      "['C', 'C', 'C', 'C', 'B', 'C', 'A', 'A', 'A', 'A', 'A']\n",
      "['B', 'B', 'B', 'B', 'B', 'B', 'B', 'B', 'B', 'B', 'B']\n",
      "['A', 'A', 'A', 'A', 'B', 'A', 'A', 'A', 'A', 'A', 'A']\n",
      "['C', 'C', 'C', 'C', 'C', 'C', 'C', 'C', 'C', 'C', 'C']\n",
      "['C', 'B', 'C', 'C', 'C', 'B', 'A', 'B', 'B', 'B', 'A']\n",
      "['C', 'C', 'C', 'C', 'B', 'C', 'C', 'C', 'C', 'C', 'A']\n",
      "['C', 'C', 'C', 'C', 'C', 'C', 'C', 'C', 'C', 'C', 'C']\n",
      "['C', 'C', 'C', 'C', 'C', 'C', 'C', 'C', 'C', 'C', 'C']\n",
      "['C', 'C', 'C', 'C', 'B', 'B', 'A', 'B', 'B', 'A', 'B']\n",
      "['C', 'A', 'C', 'C', 'C', 'C', 'A', 'A', 'A', 'A', 'A']\n",
      "['C', 'A', 'C', 'C', 'C', 'C', 'A', 'A', 'A', 'A', 'A']\n",
      "['A', 'A', 'A', 'A', 'A', 'A', 'A', 'A', 'A', 'A', 'A']\n",
      "['B', 'B', 'B', 'B', 'A', 'B', 'B', 'A', 'A', 'A', 'A']\n",
      "['C', 'C', 'C', 'C', 'C', 'C', 'C', 'C', 'C', 'C', 'C']\n",
      "['B', 'B', 'B', 'A', 'A', 'B', 'A', 'A', 'A', 'A', 'A']\n",
      "['B', 'B', 'B', 'A', 'A', 'B', 'A', 'A', 'A', 'A', 'A']\n",
      "['A', 'A', 'A', 'A', 'A', 'A', 'A', 'A', 'A', 'A', 'A']\n",
      "['B', 'B', 'B', 'B', 'A', 'B', 'B', 'B', 'A', 'A', 'A']\n",
      "['C', 'C', 'C', 'C', 'C', 'C', 'C', 'C', 'C', 'C', 'A']\n",
      "['B', 'B', 'B', 'B', 'B', 'B', 'B', 'B', 'B', 'B', 'B']\n",
      "['C', 'C', 'C', 'C', 'C', 'C', 'C', 'C', 'C', 'C', 'C']\n",
      "['C', 'C', 'C', 'C', 'C', 'C', 'C', 'C', 'C', 'C', 'C']\n",
      "['B', 'B', 'B', 'B', 'B', 'B', 'A', 'B', 'A', 'A', 'A']\n",
      "['C', 'C', 'C', 'C', 'C', 'C', 'A', 'A', 'A', 'A', 'A']\n",
      "['C', 'C', 'C', 'C', 'C', 'C', 'C', 'C', 'C', 'C', 'C']\n",
      "['C', 'C', 'C', 'C', 'C', 'C', 'C', 'C', 'C', 'C', 'C']\n",
      "['C', 'C', 'C', 'C', 'C', 'C', 'A', 'A', 'A', 'A', 'A']\n",
      "['C', 'C', 'C', 'C', 'B', 'C', 'A', 'A', 'A', 'A', 'A']\n",
      "['C', 'C', 'C', 'C', 'C', 'C', 'C', 'C', 'C', 'C', 'C']\n",
      "['C', 'C', 'C', 'C', 'B', 'C', 'A', 'A', 'A', 'A', 'A']\n",
      "['C', 'C', 'C', 'C', 'C', 'C', 'C', 'C', 'C', 'C', 'C']\n",
      "['A', 'A', 'A', 'A', 'A', 'A', 'A', 'A', 'A', 'A', 'B']\n",
      "['C', 'C', 'C', 'C', 'C', 'C', 'A', 'A', 'A', 'A', 'A']\n",
      "['C', 'C', 'C', 'C', 'C', 'C', 'A', 'A', 'A', 'A', 'A']\n",
      "['C', 'C', 'C', 'C', 'C', 'C', 'C', 'C', 'C', 'C', 'C']\n",
      "['C', 'C', 'C', 'C', 'C', 'C', 'C', 'C', 'C', 'C', 'C']\n",
      "['C', 'C', 'C', 'C', 'C', 'C', 'C', 'C', 'C', 'C', 'C']\n",
      "['B', 'B', 'B', 'B', 'B', 'B', 'B', 'B', 'B', 'B', 'B']\n",
      "['C', 'C', 'C', 'C', 'B', 'C', 'A', 'B', 'A', 'A', 'A']\n",
      "['C', 'C', 'C', 'C', 'C', 'C', 'A', 'A', 'A', 'A', 'A']\n",
      "['C', 'C', 'C', 'C', 'C', 'C', 'C', 'C', 'C', 'C', 'C']\n",
      "['A', 'A', 'A', 'A', 'A', 'A', 'B', 'B', 'A', 'A', 'A']\n",
      "['C', 'C', 'C', 'C', 'C', 'C', 'C', 'C', 'C', 'C', 'C']\n",
      "['B', 'B', 'B', 'B', 'B', 'B', 'B', 'B', 'B', 'B', 'B']\n",
      "['C', 'C', 'C', 'C', 'C', 'C', 'A', 'A', 'A', 'A', 'A']\n",
      "['C', 'C', 'C', 'C', 'C', 'C', 'C', 'C', 'C', 'C', 'C']\n",
      "['C', 'C', 'C', 'C', 'C', 'C', 'C', 'C', 'C', 'C', 'C']\n",
      "['C', 'C', 'C', 'C', 'C', 'C', 'C', 'C', 'C', 'C', 'C']\n",
      "['C', 'C', 'C', 'C', 'C', 'C', 'C', 'C', 'C', 'C', 'C']\n",
      "['B', 'B', 'B', 'B', 'A', 'B', 'A', 'B', 'A', 'A', 'A']\n",
      "['C', 'C', 'C', 'C', 'C', 'C', 'B', 'B', 'A', 'A', 'A']\n",
      "['B', 'B', 'B', 'A', 'A', 'B', 'A', 'A', 'A', 'A', 'A']\n",
      "['C', 'C', 'C', 'C', 'B', 'C', 'A', 'A', 'A', 'A', 'A']\n",
      "['C', 'A', 'C', 'C', 'C', 'C', 'A', 'B', 'B', 'B', 'B']\n",
      "['C', 'C', 'C', 'C', 'C', 'C', 'C', 'C', 'C', 'C', 'C']\n",
      "['C', 'C', 'C', 'C', 'C', 'C', 'C', 'C', 'C', 'C', 'C']\n",
      "['A', 'A', 'A', 'A', 'A', 'A', 'A', 'A', 'A', 'A', 'A']\n",
      "['A', 'A', 'A', 'A', 'A', 'A', 'A', 'A', 'A', 'A', 'A']\n",
      "['B', 'B', 'B', 'B', 'A', 'B', 'B', 'B', 'A', 'A', 'A']\n",
      "['A', 'A', 'A', 'A', 'A', 'A', 'A', 'A', 'A', 'A', 'A']\n",
      "['A', 'A', 'A', 'A', 'A', 'A', 'A', 'A', 'A', 'A', 'A']\n",
      "['C', 'C', 'C', 'C', 'C', 'C', 'C', 'C', 'C', 'C', 'C']\n",
      "['C', 'C', 'C', 'C', 'B', 'C', 'C', 'C', 'C', 'C', 'C']\n",
      "['A', 'A', 'A', 'A', 'A', 'A', 'A', 'A', 'A', 'A', 'A']\n",
      "['C', 'C', 'C', 'C', 'C', 'C', 'C', 'C', 'A', 'A', 'A']\n",
      "['C', 'C', 'C', 'C', 'C', 'C', 'C', 'C', 'C', 'C', 'C']\n",
      "['C', 'C', 'C', 'C', 'C', 'C', 'C', 'C', 'C', 'C', 'C']\n",
      "['C', 'C', 'C', 'C', 'C', 'C', 'C', 'C', 'C', 'C', 'C']\n",
      "['C', 'C', 'C', 'C', 'C', 'C', 'C', 'C', 'C', 'C', 'C']\n",
      "['C', 'C', 'C', 'C', 'C', 'C', 'C', 'C', 'C', 'C', 'C']\n",
      "['C', 'C', 'C', 'C', 'C', 'C', 'C', 'C', 'C', 'C', 'C']\n",
      "['C', 'C', 'C', 'C', 'C', 'C', 'A', 'B', 'A', 'A', 'A']\n",
      "['C', 'C', 'C', 'C', 'C', 'C', 'C', 'C', 'C', 'C', 'C']\n",
      "['C', 'C', 'C', 'C', 'C', 'C', 'C', 'C', 'C', 'C', 'C']\n",
      "['C', 'C', 'C', 'C', 'B', 'C', 'C', 'C', 'C', 'A', 'A']\n",
      "['C', 'C', 'C', 'C', 'C', 'C', 'C', 'C', 'C', 'C', 'C']\n",
      "['B', 'B', 'B', 'B', 'A', 'B', 'A', 'B', 'A', 'A', 'B']\n",
      "['C', 'B', 'C', 'C', 'C', 'B', 'B', 'B', 'B', 'B', 'B']\n",
      "['C', 'C', 'C', 'C', 'C', 'C', 'C', 'C', 'C', 'C', 'C']\n",
      "['C', 'C', 'C', 'C', 'C', 'C', 'C', 'C', 'C', 'C', 'C']\n",
      "['C', 'C', 'C', 'C', 'C', 'C', 'C', 'C', 'C', 'C', 'C']\n",
      "['C', 'C', 'C', 'C', 'C', 'C', 'C', 'C', 'C', 'C', 'C']\n",
      "['C', 'C', 'C', 'C', 'B', 'C', 'A', 'B', 'A', 'B', 'B']\n",
      "['B', 'B', 'B', 'B', 'A', 'B', 'B', 'B', 'B', 'B', 'B']\n",
      "['C', 'C', 'C', 'C', 'C', 'C', 'C', 'C', 'C', 'C', 'C']\n",
      "['C', 'C', 'C', 'C', 'C', 'C', 'C', 'C', 'C', 'C', 'C']\n",
      "['C', 'C', 'C', 'C', 'C', 'C', 'A', 'C', 'B', 'C', 'A']\n",
      "['C', 'C', 'C', 'C', 'C', 'C', 'C', 'C', 'C', 'C', 'C']\n",
      "['A', 'A', 'A', 'A', 'A', 'A', 'A', 'A', 'A', 'A', 'A']\n",
      "['A', 'A', 'A', 'A', 'A', 'A', 'A', 'A', 'A', 'A', 'A']\n",
      "['A', 'A', 'A', 'A', 'A', 'A', 'A', 'A', 'A', 'A', 'A']\n",
      "['A', 'A', 'A', 'A', 'A', 'A', 'A', 'A', 'A', 'A', 'A']\n",
      "['C', 'C', 'C', 'C', 'C', 'C', 'A', 'A', 'A', 'A', 'A']\n",
      "['B', 'B', 'B', 'B', 'A', 'B', 'A', 'A', 'A', 'A', 'A']\n",
      "['C', 'C', 'C', 'C', 'C', 'C', 'C', 'C', 'C', 'C', 'C']\n",
      "['B', 'B', 'B', 'B', 'A', 'B', 'A', 'B', 'B', 'B', 'B']\n",
      "['C', 'C', 'C', 'C', 'C', 'C', 'C', 'C', 'C', 'C', 'C']\n",
      "['B', 'B', 'B', 'B', 'A', 'B', 'A', 'B', 'A', 'B', 'A']\n"
     ]
    },
    {
     "data": {
      "text/plain": [
       "2"
      ]
     },
     "execution_count": 5,
     "metadata": {},
     "output_type": "execute_result"
    }
   ],
   "source": [
    "answers = []\n",
    "for file in file_list:\n",
    "    answer = extract_answers(file)\n",
    "    answers.append(answer)\n",
    "answers = np.array(answers)\n",
    "\n",
    "# reshape answers to 600,80\n",
    "answers = answers.reshape(200, len(K))\n",
    "answers.max()"
   ]
  },
  {
   "cell_type": "code",
   "execution_count": 6,
   "metadata": {},
   "outputs": [
    {
     "name": "stdout",
     "output_type": "stream",
     "text": [
      "[3, 3, 3, 3, 3, 3, 3, 3, 3, 3, 3]\n"
     ]
    }
   ],
   "source": [
    "print(K)"
   ]
  },
  {
   "cell_type": "code",
   "execution_count": 7,
   "metadata": {},
   "outputs": [],
   "source": [
    "ans_max = list(answers.max(axis=0) + 1)\n",
    "for i in range(len(ans_max)):\n",
    "    if ans_max[i] > K[i]:\n",
    "        print(i + 1, ans_max[i], K[i])"
   ]
  },
  {
   "cell_type": "code",
   "execution_count": 8,
   "metadata": {},
   "outputs": [],
   "source": [
    "import torch\n",
    "\n",
    "answers = torch.tensor(answers, dtype=torch.long)"
   ]
  },
  {
   "cell_type": "code",
   "execution_count": 9,
   "metadata": {},
   "outputs": [],
   "source": [
    "import pandas as pd\n",
    "\n",
    "# read the label file\n",
    "labels_T = pd.read_csv(\"../CA/labels_4o.csv\", header=None, names=[\"label\"])\n",
    "labels_T = labels_T.astype(int)\n",
    "# get the label index if labe is 1\n",
    "label_index = list(labels_T[labels_T[\"label\"] == 1].index)\n",
    "answers = answers[label_index]"
   ]
  },
  {
   "cell_type": "code",
   "execution_count": 10,
   "metadata": {},
   "outputs": [],
   "source": [
    "N = len(K)  # Number of questions\n",
    "\n",
    "M = answers.shape[0]  # Number of articles"
   ]
  },
  {
   "cell_type": "code",
   "execution_count": 11,
   "metadata": {},
   "outputs": [
    {
     "data": {
      "text/plain": [
       "(11, 54)"
      ]
     },
     "execution_count": 11,
     "metadata": {},
     "output_type": "execute_result"
    }
   ],
   "source": [
    "N, M"
   ]
  },
  {
   "cell_type": "code",
   "execution_count": 12,
   "metadata": {},
   "outputs": [
    {
     "data": {
      "text/plain": [
       "54"
      ]
     },
     "execution_count": 12,
     "metadata": {},
     "output_type": "execute_result"
    }
   ],
   "source": [
    "len(answers)"
   ]
  },
  {
   "cell_type": "code",
   "execution_count": 13,
   "metadata": {},
   "outputs": [
    {
     "name": "stderr",
     "output_type": "stream",
     "text": [
      "/Users/minlingzhou/miniconda3/envs/my-env/lib/python3.11/site-packages/transformers/utils/generic.py:441: UserWarning: torch.utils._pytree._register_pytree_node is deprecated. Please use torch.utils._pytree.register_pytree_node instead.\n",
      "  _torch_pytree._register_pytree_node(\n"
     ]
    },
    {
     "name": "stdout",
     "output_type": "stream",
     "text": [
      "d: 4, Epoch 7999, Loss: 10.73719310760498, nll_loss: 1.8149842023849487\n",
      "d: 3, Epoch 7999, Loss: 25.630123138427734, nll_loss: 12.872906684875488\n"
     ]
    }
   ],
   "source": [
    "epo = 8000\n",
    "\n",
    "# for d in [3] + list(range(5, 41, 5)):\n",
    "\n",
    "for d in [4, 3]:\n",
    "    model = FactorModel(N, K, d)\n",
    "    trained_model, v = train_model(\n",
    "        model, answers, epochs=epo, lr=0.01, lambda1=0.01, lambda2=0.01\n",
    "    )\n",
    "    # Extract the latent vectors v\n",
    "    latent_vectors = v.detach().numpy()\n",
    "    # save the latent vectors to csv file\n",
    "    np.savetxt(\n",
    "        f\"narrative_latent_vectors_{d}.csv\",\n",
    "        latent_vectors,\n",
    "        delimiter=\",\",\n",
    "    )"
   ]
  },
  {
   "cell_type": "code",
   "execution_count": 14,
   "metadata": {},
   "outputs": [
    {
     "data": {
      "image/png": "[encoded data removed]",
      "text/plain": [
       "<Figure size 1000x800 with 1 Axes>"
      ]
     },
     "metadata": {},
     "output_type": "display_data"
    }
   ],
   "source": [
    "import torch\n",
    "import numpy as np\n",
    "import matplotlib.pyplot as plt\n",
    "from sklearn.manifold import TSNE\n",
    "from sklearn.preprocessing import StandardScaler\n",
    "\n",
    "# Normalize the latent vectors\n",
    "# scaler = StandardScaler()\n",
    "# latent_vectors_normalized = scaler.fit_transform(latent_vectors)\n",
    "\n",
    "# Apply t-SNE to reduce dimensionality to 2D\n",
    "tsne = TSNE(n_components=2, random_state=42)\n",
    "\n",
    "v_2d = tsne.fit_transform(latent_vectors)\n",
    "\n",
    "# Plot the 2D embeddings with the inedx of each point\n",
    "plt.figure(figsize=(10, 8))\n",
    "\n",
    "for index, (x, y) in enumerate(v_2d):\n",
    "    if index >= 26:\n",
    "        plt.scatter(\n",
    "            x,\n",
    "            y,\n",
    "            alpha=0.8,\n",
    "            color=\"red\",\n",
    "            s=10,\n",
    "            label=\"Chinese\" if index == 26 else \"\",\n",
    "            # marker=\"s\" if index in label_index else \".\",\n",
    "        )\n",
    "    else:\n",
    "        plt.scatter(\n",
    "            x,\n",
    "            y,\n",
    "            alpha=0.8,\n",
    "            color=\"blue\",\n",
    "            s=10,\n",
    "            label=\"English\" if index == 0 else \"\",\n",
    "            # marker=\"s\" if index in label_index else \".\",\n",
    "        )\n",
    "    # plt.text(x, y, str(index), fontsize=9, color=\"blue\")\n",
    "\n",
    "plt.title(\n",
    "    f\"t-SNE visualization of document embeddings \\n {d} dimensions, {N} questions, {M} articles, {epo} epochs\"\n",
    ")\n",
    "\n",
    "plt.xlabel(\"t-SNE component 1\")\n",
    "plt.ylabel(\"t-SNE component 2\")\n",
    "plt.legend()\n",
    "plt.show()"
   ]
  },
  {
   "cell_type": "code",
   "execution_count": 15,
   "metadata": {},
   "outputs": [
    {
     "data": {
      "image/png": "[encoded data removed]",
      "text/plain": [
       "<Figure size 640x480 with 1 Axes>"
      ]
     },
     "metadata": {},
     "output_type": "display_data"
    },
    {
     "name": "stdout",
     "output_type": "stream",
     "text": [
      "Elbow point (knee) is at index: 53, distance: 1.029742260976651\n"
     ]
    }
   ],
   "source": [
    "from sklearn.neighbors import NearestNeighbors\n",
    "from kneed import KneeLocator\n",
    "\n",
    "# Compute k-nearest neighbors (k is set to min_samples)\n",
    "min_samples = 5\n",
    "neigh = NearestNeighbors(n_neighbors=min_samples)\n",
    "nbrs = neigh.fit(v_2d)\n",
    "distances, indices = nbrs.kneighbors(v_2d)\n",
    "\n",
    "# Sort distances to the k-th nearest neighbor\n",
    "distances = np.sort(distances[:, min_samples - 1])\n",
    "\n",
    "x = np.arange(len(distances))\n",
    "kneedle = KneeLocator(x, distances, curve=\"convex\", direction=\"increasing\")\n",
    "\n",
    "# Plot the results\n",
    "plt.plot(x, distances, label=\"K-Distance Graph\")\n",
    "plt.axvline(x=kneedle.knee, color=\"r\", linestyle=\"--\", label=\"Elbow Point\")\n",
    "plt.xlabel(\"Points sorted by distance\")\n",
    "plt.ylabel(\"Distance to k-th nearest neighbor\")\n",
    "plt.title(\"K-Distance Graph with Elbow Point\")\n",
    "plt.legend()\n",
    "plt.show()\n",
    "\n",
    "# Print the knee point\n",
    "print(\n",
    "    f\"Elbow point (knee) is at index: {kneedle.knee}, distance: {distances[kneedle.knee]}\"\n",
    ")"
   ]
  },
  {
   "cell_type": "code",
   "execution_count": 16,
   "metadata": {},
   "outputs": [],
   "source": [
    "from sklearn.cluster import DBSCAN\n",
    "\n",
    "dbscan = DBSCAN(eps=distances[kneedle.knee], min_samples=min_samples)\n",
    "labels = dbscan.fit_predict(v_2d)"
   ]
  },
  {
   "cell_type": "code",
   "execution_count": 17,
   "metadata": {},
   "outputs": [
    {
     "data": {
      "image/png": "[encoded data removed]",
      "text/plain": [
       "<Figure size 1000x800 with 1 Axes>"
      ]
     },
     "metadata": {},
     "output_type": "display_data"
    }
   ],
   "source": [
    "plt.figure(figsize=(10, 8))\n",
    "for y in np.unique(labels):\n",
    "    plt.scatter(\n",
    "        v_2d[labels == y, 0], v_2d[labels == y, 1], label=f\"{y}\", s=10, marker=\"o\"\n",
    "    )\n",
    "\n",
    "plt.xlabel(\"t-SNE 1\")\n",
    "plt.ylabel(\"t-SNE 2\")\n",
    "plt.title(\n",
    "    f\"t-SNE visualization of document embeddings \\n {d} dimensions, {N} questions, {M} articles, {epo} epochs\"\n",
    ")\n",
    "plt.legend(title=\"Label\", loc=\"upper left\", bbox_to_anchor=(1, 1), ncol=1)\n",
    "plt.tight_layout()\n",
    "plt.show()"
   ]
  },
  {
   "cell_type": "code",
   "execution_count": 18,
   "metadata": {},
   "outputs": [
    {
     "name": "stdout",
     "output_type": "stream",
     "text": [
      "Label 0\n",
      "tensor([[1, 0, 1, 0, 0, 0, 0, 0, 0, 0, 0],\n",
      "        [0, 0, 0, 0, 0, 0, 0, 0, 0, 0, 0],\n",
      "        [0, 0, 0, 0, 0, 0, 0, 0, 0, 0, 0],\n",
      "        [2, 2, 2, 2, 2, 2, 0, 0, 0, 0, 0],\n",
      "        [1, 1, 1, 0, 0, 1, 1, 1, 0, 0, 0],\n",
      "        [0, 0, 0, 0, 0, 0, 0, 0, 0, 0, 0],\n",
      "        [2, 2, 2, 2, 2, 2, 2, 2, 2, 2, 2],\n",
      "        [0, 0, 0, 0, 0, 0, 0, 0, 0, 0, 0],\n",
      "        [0, 0, 0, 0, 0, 0, 0, 0, 0, 0, 0],\n",
      "        [1, 0, 1, 0, 0, 0, 0, 0, 0, 0, 1],\n",
      "        [0, 0, 0, 0, 0, 0, 0, 0, 0, 0, 0],\n",
      "        [1, 0, 1, 0, 0, 1, 1, 1, 1, 0, 0],\n",
      "        [0, 0, 0, 0, 0, 0, 0, 0, 0, 0, 0],\n",
      "        [0, 0, 0, 0, 0, 0, 0, 0, 0, 0, 0],\n",
      "        [2, 2, 2, 2, 2, 2, 0, 0, 0, 0, 0],\n",
      "        [1, 0, 1, 0, 0, 0, 0, 0, 0, 0, 0],\n",
      "        [0, 0, 0, 0, 0, 0, 0, 0, 0, 0, 0],\n",
      "        [1, 0, 1, 0, 0, 1, 1, 1, 0, 0, 1],\n",
      "        [1, 1, 1, 0, 0, 1, 0, 0, 0, 0, 0],\n",
      "        [0, 0, 0, 0, 0, 0, 0, 0, 0, 0, 0],\n",
      "        [1, 1, 1, 1, 0, 1, 0, 1, 1, 0, 1],\n",
      "        [2, 2, 2, 2, 2, 2, 0, 0, 0, 0, 0],\n",
      "        [0, 0, 0, 0, 1, 0, 0, 0, 0, 0, 0],\n",
      "        [0, 0, 0, 0, 0, 0, 0, 0, 0, 0, 0],\n",
      "        [0, 0, 0, 0, 0, 0, 0, 0, 0, 0, 0],\n",
      "        [0, 1, 0, 0, 0, 0, 1, 1, 0, 0, 0],\n",
      "        [1, 1, 1, 1, 1, 1, 1, 1, 1, 1, 1],\n",
      "        [0, 0, 0, 0, 1, 0, 0, 0, 0, 0, 0],\n",
      "        [2, 2, 2, 2, 2, 2, 2, 2, 2, 2, 2],\n",
      "        [2, 1, 2, 2, 2, 1, 0, 1, 1, 1, 0],\n",
      "        [2, 0, 2, 2, 2, 2, 0, 0, 0, 0, 0],\n",
      "        [2, 0, 2, 2, 2, 2, 0, 0, 0, 0, 0],\n",
      "        [1, 1, 1, 1, 0, 1, 1, 0, 0, 0, 0],\n",
      "        [1, 1, 1, 0, 0, 1, 0, 0, 0, 0, 0],\n",
      "        [1, 1, 1, 0, 0, 1, 0, 0, 0, 0, 0],\n",
      "        [0, 0, 0, 0, 0, 0, 0, 0, 0, 0, 0],\n",
      "        [1, 1, 1, 1, 1, 1, 0, 1, 0, 0, 0],\n",
      "        [2, 2, 2, 2, 2, 2, 2, 2, 2, 2, 2],\n",
      "        [0, 0, 0, 0, 0, 0, 0, 0, 0, 0, 1],\n",
      "        [0, 0, 0, 0, 0, 0, 1, 1, 0, 0, 0],\n",
      "        [1, 1, 1, 1, 1, 1, 1, 1, 1, 1, 1],\n",
      "        [1, 1, 1, 0, 0, 1, 0, 0, 0, 0, 0],\n",
      "        [2, 0, 2, 2, 2, 2, 0, 1, 1, 1, 1],\n",
      "        [0, 0, 0, 0, 0, 0, 0, 0, 0, 0, 0],\n",
      "        [0, 0, 0, 0, 0, 0, 0, 0, 0, 0, 0],\n",
      "        [1, 1, 1, 1, 0, 1, 1, 1, 0, 0, 0],\n",
      "        [0, 0, 0, 0, 0, 0, 0, 0, 0, 0, 0],\n",
      "        [0, 0, 0, 0, 0, 0, 0, 0, 0, 0, 0],\n",
      "        [0, 0, 0, 0, 0, 0, 0, 0, 0, 0, 0],\n",
      "        [1, 1, 1, 1, 0, 1, 0, 1, 0, 0, 1],\n",
      "        [1, 1, 1, 1, 0, 1, 1, 1, 1, 1, 1],\n",
      "        [0, 0, 0, 0, 0, 0, 0, 0, 0, 0, 0],\n",
      "        [0, 0, 0, 0, 0, 0, 0, 0, 0, 0, 0],\n",
      "        [0, 0, 0, 0, 0, 0, 0, 0, 0, 0, 0]])\n"
     ]
    }
   ],
   "source": [
    "# print the answers that has the same label\n",
    "for i in range(labels.max() + 1):\n",
    "    print(f\"Label {i}\")\n",
    "    print(answers[labels == i])"
   ]
  },
  {
   "cell_type": "code",
   "execution_count": 19,
   "metadata": {},
   "outputs": [
    {
     "name": "stdout",
     "output_type": "stream",
     "text": [
      "Question 1\n",
      "(array([0, 1, 2]), array([26, 18, 10]))\n",
      "Question 2\n",
      "(array([0, 1, 2]), array([33, 15,  6]))\n",
      "Question 3\n",
      "(array([0, 1, 2]), array([26, 18, 10]))\n",
      "Question 4\n",
      "(array([0, 1, 2]), array([36,  8, 10]))\n",
      "Question 5\n",
      "(array([0, 1, 2]), array([39,  5, 10]))\n",
      "Question 6\n",
      "(array([0, 1, 2]), array([29, 16,  9]))\n",
      "Question 7\n",
      "(array([0, 1, 2]), array([41, 10,  3]))\n",
      "Question 8\n",
      "(array([0, 1, 2]), array([37, 14,  3]))\n",
      "Question 9\n",
      "(array([0, 1, 2]), array([44,  7,  3]))\n",
      "Question 10\n",
      "(array([0, 1, 2]), array([46,  5,  3]))\n",
      "Question 11\n",
      "(array([0, 1, 2]), array([42,  9,  3]))\n"
     ]
    }
   ],
   "source": [
    "# count the number of 0,1,2,3,4 in each question\n",
    "for i in range(answers.shape[1]):\n",
    "    print(f\"Question {i+1}\")\n",
    "    print(np.unique(answers[:, i], return_counts=True))"
   ]
  },
  {
   "cell_type": "code",
   "execution_count": 20,
   "metadata": {},
   "outputs": [
    {
     "name": "stdout",
     "output_type": "stream",
     "text": [
      "Label 0\n",
      "[ 0  1  2  3  4  5  6  7  8  9 10 11 12 13 14 15 16 17 18 19 20 21 22 23\n",
      " 24 25 26 27 28 29 30 31 32 33 34 35 36 37 38 39 40 41 42 43 44 45 46 47\n",
      " 48 49 50 51 52 53]\n"
     ]
    }
   ],
   "source": [
    "# print the index of the articles that has the same label\n",
    "for i in range(labels.max() + 1):\n",
    "    print(f\"Label {i}\")\n",
    "    print(np.where(labels == i)[0])"
   ]
  }
 ],
 "metadata": {
  "kernelspec": {
   "display_name": "base",
   "language": "python",
   "name": "python3"
  },
  "language_info": {
   "codemirror_mode": {
    "name": "ipython",
    "version": 3
   },
   "file_extension": ".py",
   "mimetype": "text/x-python",
   "name": "python",
   "nbconvert_exporter": "python",
   "pygments_lexer": "ipython3",
   "version": "3.11.5"
  }
 },
 "nbformat": 4,
 "nbformat_minor": 2
}
