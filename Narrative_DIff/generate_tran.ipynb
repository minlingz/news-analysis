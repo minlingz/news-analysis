{
 "cells": [
  {
   "cell_type": "code",
   "execution_count": 1,
   "metadata": {},
   "outputs": [],
   "source": [
    "from dotenv import load_dotenv\n",
    "from openai import OpenAI\n",
    "import os\n",
    "\n",
    "load_dotenv(override=True)  # This loads the environment variables from .env file\n",
    "client = OpenAI(api_key=os.getenv(\"OPENAI_API_KEY\"))"
   ]
  },
  {
   "cell_type": "code",
   "execution_count": 2,
   "metadata": {},
   "outputs": [],
   "source": [
    "def QnA(\n",
    "    art,\n",
    "    client,\n",
    "    model,\n",
    "    QnA_prompt,\n",
    "):\n",
    "\n",
    "    prompt_complete = QnA_prompt + \"\\n\" + art[\"body\"]\n",
    "    model = model\n",
    "    messages = [{\"role\": \"user\", \"content\": prompt_complete}]\n",
    "    try:\n",
    "        response = client.chat.completions.create(\n",
    "            model=model, messages=messages, temperature=0\n",
    "        )\n",
    "\n",
    "        content = response.choices[0].message.content\n",
    "        return content\n",
    "    except Exception as e:  # if the model fails to return a response\n",
    "        print(f\"Error: {e}\")\n",
    "        return \"Sorry, error from GPT.\""
   ]
  },
  {
   "cell_type": "code",
   "execution_count": 3,
   "metadata": {},
   "outputs": [],
   "source": [
    "import json\n",
    "\n",
    "\n",
    "def get_LLM_QnA(\n",
    "    src_filename,\n",
    "    client,\n",
    "    model=\"gpt-4o\",\n",
    "    QnA_prompt=\"\",\n",
    "):\n",
    "    import pandas as pd\n",
    "\n",
    "    # read the label file\n",
    "    labels_T = pd.read_csv(\"../CA/labels_4o.csv\", header=None, names=[\"label\"])\n",
    "    labels_T = labels_T.astype(int)\n",
    "    # get the label index if labe is 1\n",
    "    label_index = list(labels_T[labels_T[\"label\"] == 1].index)\n",
    "    label_index_zho = [i - 100 for i in label_index if i >= 100]\n",
    "\n",
    "    with open(src_filename, \"r\") as f:\n",
    "        data = f.read()\n",
    "        des_articles = []\n",
    "        src_articles = json.loads(data)\n",
    "\n",
    "        for i in label_index_zho:\n",
    "            art = {}\n",
    "            art[\"body_eng\"] = QnA(\n",
    "                src_articles[i],\n",
    "                client,\n",
    "                model=model,\n",
    "                QnA_prompt=QnA_prompt,\n",
    "            )\n",
    "\n",
    "            des_articles.append(art)\n",
    "\n",
    "    des_filename = \"eng_\" + src_filename\n",
    "    if os.path.exists(des_filename):\n",
    "        os.remove(des_filename)\n",
    "    with open(des_filename, \"w\") as f:\n",
    "        json.dump(des_articles, f, ensure_ascii=False, indent=4)"
   ]
  },
  {
   "cell_type": "code",
   "execution_count": 4,
   "metadata": {},
   "outputs": [],
   "source": [
    "question = \"You are an expert at translation. Please translate the following news article from Chinese to English.\"\n",
    "get_LLM_QnA(\n",
    "    \"narrative_QnA_summary_Russo_Ukrainian_War_zho.json\",\n",
    "    client,\n",
    "    model=\"gpt-4o\",\n",
    "    QnA_prompt=question,\n",
    ")"
   ]
  }
 ],
 "metadata": {
  "kernelspec": {
   "display_name": "base",
   "language": "python",
   "name": "python3"
  },
  "language_info": {
   "codemirror_mode": {
    "name": "ipython",
    "version": 3
   },
   "file_extension": ".py",
   "mimetype": "text/x-python",
   "name": "python",
   "nbconvert_exporter": "python",
   "pygments_lexer": "ipython3",
   "version": "3.11.5"
  }
 },
 "nbformat": 4,
 "nbformat_minor": 2
}
