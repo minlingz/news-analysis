{
 "cells": [
  {
   "cell_type": "code",
   "execution_count": 1,
   "metadata": {},
   "outputs": [],
   "source": [
    "from dotenv import load_dotenv\n",
    "from openai import OpenAI\n",
    "import os\n",
    "\n",
    "load_dotenv(override=True)  # This loads the environment variables from .env file\n",
    "client = OpenAI(api_key=os.getenv(\"OPENAI_API_KEY\"))"
   ]
  },
  {
   "cell_type": "code",
   "execution_count": 2,
   "metadata": {},
   "outputs": [],
   "source": [
    "import json\n",
    "\n",
    "\n",
    "def get_LLM_QnA(src_filename):\n",
    "    import pandas as pd\n",
    "\n",
    "    # read the label file\n",
    "    labels_T = pd.read_csv(\"../CA/labels_4o.csv\", header=None, names=[\"label\"])\n",
    "    labels_T = labels_T.astype(int)\n",
    "    # get the label index if labe is 1\n",
    "    label_index = list(labels_T[labels_T[\"label\"] == 1].index)\n",
    "    label_index_eng = [i for i in label_index if i < 100]\n",
    "\n",
    "    with open(src_filename, \"r\") as f:\n",
    "        data = f.read()\n",
    "        des_articles = []\n",
    "        src_articles = json.loads(data)\n",
    "\n",
    "        for i in label_index_eng:\n",
    "            art = {}\n",
    "            art[\"body_eng\"] = src_articles[i][\"body\"]\n",
    "\n",
    "            des_articles.append(art)\n",
    "\n",
    "    des_filename = \"eng_\" + src_filename\n",
    "    if os.path.exists(des_filename):\n",
    "        os.remove(des_filename)\n",
    "    with open(des_filename, \"w\") as f:\n",
    "        json.dump(des_articles, f, ensure_ascii=False, indent=4)"
   ]
  },
  {
   "cell_type": "code",
   "execution_count": 3,
   "metadata": {},
   "outputs": [],
   "source": [
    "get_LLM_QnA(\"narrative_QnA_summary_Russo_Ukrainian_War_eng.json\")"
   ]
  }
 ],
 "metadata": {
  "kernelspec": {
   "display_name": "base",
   "language": "python",
   "name": "python3"
  },
  "language_info": {
   "codemirror_mode": {
    "name": "ipython",
    "version": 3
   },
   "file_extension": ".py",
   "mimetype": "text/x-python",
   "name": "python",
   "nbconvert_exporter": "python",
   "pygments_lexer": "ipython3",
   "version": "3.11.5"
  }
 },
 "nbformat": 4,
 "nbformat_minor": 2
}
