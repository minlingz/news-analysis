{
 "cells": [
  {
   "cell_type": "code",
   "execution_count": 1,
   "metadata": {},
   "outputs": [],
   "source": [
    "from openai import OpenAI\n",
    "import json, os, sys\n",
    "import os\n",
    "import re\n",
    "import random"
   ]
  },
  {
   "cell_type": "code",
   "execution_count": 2,
   "metadata": {},
   "outputs": [],
   "source": [
    "client = OpenAI(api_key=os.getenv(\"OPENAI_API_KEY\"))"
   ]
  },
  {
   "cell_type": "code",
   "execution_count": 3,
   "metadata": {},
   "outputs": [],
   "source": [
    "def generate_difference(chunk, client, model=\"gpt-4o\"):\n",
    "    prompt = f\"\"\"\n",
    "You are an expert in news analysis and skilled at capturing narrative difference. \n",
    "I have some news articles in English and Chinese and I need you to help me identify the narrative differences between them.\n",
    "\n",
    "{chunk}\n",
    "\n",
    "\n",
    "\"\"\"\n",
    "    messages = [{\"role\": \"user\", \"content\": prompt}]\n",
    "    try:\n",
    "        response = client.chat.completions.create(\n",
    "            model=model, messages=messages, temperature=0\n",
    "        )\n",
    "\n",
    "        content = response.choices[0].message.content\n",
    "        return content\n",
    "    except Exception as e:  # if the model fails to return a response\n",
    "        print(f\"Error: {e}\")\n",
    "        return \"Sorry, error from GPT.\""
   ]
  },
  {
   "cell_type": "code",
   "execution_count": 4,
   "metadata": {},
   "outputs": [],
   "source": [
    "def process_batches(input_file, output_file, client, model, label_a_index):\n",
    "    # Read the article from the input JSON file\n",
    "    with open(input_file, \"r\") as f:\n",
    "        articles = json.load(f)\n",
    "\n",
    "    # Extract summaries from the articles\n",
    "    article_body = [article[\"body\"] for article in articles]\n",
    "\n",
    "    # get the article body with the label_a_index list\n",
    "\n",
    "    article_a = [article_body[i] for i in label_a_index]\n",
    "\n",
    "    # convert the article to JSON string\n",
    "    chunk = json.dumps(article_a)\n",
    "\n",
    "    responses = []\n",
    "\n",
    "    difference = generate_difference(chunk, client, model=model)\n",
    "    responses.append(\n",
    "        {\n",
    "            \"Difference\": difference,\n",
    "        }\n",
    "    )\n",
    "\n",
    "    # Write the generated questions to the output JSON file\n",
    "    with open(output_file, \"w\") as f:\n",
    "        json.dump(responses, f, indent=4)"
   ]
  },
  {
   "cell_type": "code",
   "execution_count": 22,
   "metadata": {},
   "outputs": [],
   "source": [
    "import pandas as pd\n",
    "\n",
    "# read the label file\n",
    "labels = pd.read_csv(\"labels_v3.csv\", header=None, names=[\"label\"])"
   ]
  },
  {
   "cell_type": "code",
   "execution_count": 27,
   "metadata": {},
   "outputs": [],
   "source": [
    "# get the label index if labe is 1\n",
    "label_a_index = list(labels[labels[\"label\"] == 1].index)\n",
    "# label_b_index = list(labels[labels[\"label\"] == 9].index)\n",
    "random.shuffle(label_a_index)"
   ]
  },
  {
   "cell_type": "code",
   "execution_count": 28,
   "metadata": {},
   "outputs": [
    {
     "data": {
      "text/plain": [
       "[25, 29, 2, 96, 143, 91, 46, 113, 48, 3]"
      ]
     },
     "execution_count": 28,
     "metadata": {},
     "output_type": "execute_result"
    }
   ],
   "source": [
    "label_a_index = label_a_index[:20]\n",
    "label_a_index"
   ]
  },
  {
   "cell_type": "code",
   "execution_count": 29,
   "metadata": {},
   "outputs": [],
   "source": [
    "input_file = \"combined_Russo_Ukrainian_War.json\"\n",
    "output_file = \"output_difference_v3.json\"\n",
    "\n",
    "# Assuming you have your OpenAI API client initialized as `client`\n",
    "process_batches(\n",
    "    input_file,\n",
    "    output_file,\n",
    "    client,\n",
    "    model=\"gpt-4o\",\n",
    "    label_a_index=label_a_index,\n",
    ")"
   ]
  },
  {
   "cell_type": "code",
   "execution_count": 30,
   "metadata": {},
   "outputs": [
    {
     "name": "stdout",
     "output_type": "stream",
     "text": [
      "To identify the narrative differences between the English and Chinese news articles, let's break down the key points and themes in each language.\n",
      "\n",
      "### English Articles:\n",
      "1. **U.S. Military Aid to Ukraine**:\n",
      "   - The U.S. Department of Defense announced a $150 million Presidential Drawdown Authority (PDA) package for Ukraine, including air defense interceptors, artillery, anti-tank weapons, and other military equipment.\n",
      "   - An additional $2.2 billion in Ukraine Security Assistance Initiative (USAI) funds will be used to purchase interceptors for Patriot and NASAMS air defense systems.\n",
      "   - The U.S. aims to accelerate the delivery of these munitions by re-sequencing upcoming Foreign Military Sales deliveries.\n",
      "   - The U.S. continues to work with around 50 allies and partners to support Ukraine against Russian aggression.\n",
      "\n",
      "2. **Disinformation and Propaganda**:\n",
      "   - A false claim circulated on social media that Ukraine's First Lady bought a $4 million Bugatti sports car using aid money.\n",
      "   - The claim was debunked by Bugatti and identified as Russian disinformation.\n",
      "   - The disinformation was traced back to a French publication, Verite Cachee, which has a pro-Russian slant and was created shortly before the NATO summit.\n",
      "\n",
      "3. **International Support**:\n",
      "   - The Netherlands is providing F-16 jets and training for Ukrainian pilots.\n",
      "   - Germany, despite providing military aid, has promised not to become a party to the conflict.\n",
      "   - The U.S. and its allies continue to provide critical capabilities to Ukraine to counter Russian aggression.\n",
      "\n",
      "### Chinese Articles:\n",
      "1. **U.S. Military Aid to Ukraine**:\n",
      "   - The U.S. Department of Defense announced a new $23 billion aid package for Ukraine, including key air defense interceptors and anti-tank weapons.\n",
      "   - The announcement was made during a meeting between U.S. Defense Secretary Lloyd Austin and Ukrainian Defense Minister Rustem Umerov.\n",
      "   - The U.S. has been a major military supporter of Ukraine since the conflict began, providing over $50 billion in military aid.\n",
      "\n",
      "2. **Support for Ukraine's NATO Membership**:\n",
      "   - During the meeting, Umerov expressed Ukraine's desire to join NATO and hoped for an invitation soon.\n",
      "   - Austin supported Ukraine's NATO aspirations and mentioned that measures would be taken to build a bridge for Ukraine to become a NATO member.\n",
      "\n",
      "3. **Concerns about Future U.S. Support**:\n",
      "   - There are concerns about the future of U.S. support for Ukraine if Donald Trump wins the presidential election in November.\n",
      "   - Trump's advisors have proposed a plan to end the Russia-Ukraine war, which would require Ukraine to engage in peace talks with Moscow to receive more U.S. weapons.\n",
      "\n",
      "### Narrative Differences:\n",
      "1. **Focus on Aid Amounts**:\n",
      "   - The English articles emphasize the specific amounts and types of military aid being provided, focusing on the immediate and practical aspects of the support.\n",
      "   - The Chinese articles mention a larger aid amount ($23 billion) and provide a broader context of U.S. support since the conflict began.\n",
      "\n",
      "2. **Disinformation and Propaganda**:\n",
      "   - The English articles highlight the issue of Russian disinformation, specifically debunking a false claim about Ukraine's First Lady.\n",
      "   - The Chinese articles do not mention this aspect, focusing instead on the official military aid and political support.\n",
      "\n",
      "3. **NATO Membership and Future Support**:\n",
      "   - The Chinese articles discuss Ukraine's aspirations to join NATO and the support from the U.S. for this goal.\n",
      "   - They also highlight concerns about the continuity of U.S. support depending on the outcome of the upcoming U.S. presidential election.\n",
      "   - The English articles do not delve into Ukraine's NATO membership aspirations or the potential impact of the U.S. election on future support.\n",
      "\n",
      "4. **Tone and Emphasis**:\n",
      "   - The English articles maintain a tone of solidarity and urgency, emphasizing the collective effort of the U.S. and its allies to support Ukraine.\n",
      "   - The Chinese articles have a more cautious tone, acknowledging the support but also highlighting uncertainties and potential political shifts in the U.S.\n",
      "\n",
      "By analyzing these differences, we can see how the same events are framed differently in English and Chinese media, reflecting varying priorities and concerns in the narratives.\n"
     ]
    }
   ],
   "source": [
    "# print the value from JSON file\n",
    "\n",
    "with open(output_file, \"r\") as f:\n",
    "    output = json.load(f)[0]\n",
    "    print(output[\"Difference\"])"
   ]
  },
  {
   "cell_type": "markdown",
   "metadata": {},
   "source": [
    "# Cluster 1\n",
    "\n",
    "To identify the narrative differences between the English and Chinese news articles, let's break down the key points and themes in each language.\n",
    "\n",
    "### English Articles:\n",
    "1. **U.S. Military Aid to Ukraine**:\n",
    "   - The U.S. Department of Defense announced a $150 million Presidential Drawdown Authority (PDA) package for Ukraine, including air defense interceptors, artillery, anti-tank weapons, and other military equipment.\n",
    "   - An additional $2.2 billion in Ukraine Security Assistance Initiative (USAI) funds will be used to purchase interceptors for Patriot and NASAMS air defense systems.\n",
    "   - The U.S. aims to accelerate the delivery of these munitions by re-sequencing upcoming Foreign Military Sales deliveries.\n",
    "   - The U.S. continues to work with around 50 allies and partners to support Ukraine against Russian aggression.\n",
    "\n",
    "2. **Disinformation and Propaganda**:\n",
    "   - A false claim circulated on social media that Ukraine's First Lady bought a $4 million Bugatti sports car using aid money.\n",
    "   - The claim was debunked by Bugatti and identified as Russian disinformation.\n",
    "   - The disinformation was traced back to a French publication, Verite Cachee, which has a pro-Russian slant and was created shortly before the NATO summit.\n",
    "\n",
    "3. **International Support**:\n",
    "   - The Netherlands is providing F-16 jets and training for Ukrainian pilots.\n",
    "   - Germany, despite providing military aid, has promised not to become a party to the conflict.\n",
    "   - The U.S. and its allies continue to provide critical capabilities to Ukraine to counter Russian aggression.\n",
    "\n",
    "### Chinese Articles:\n",
    "1. **U.S. Military Aid to Ukraine**:\n",
    "   - The U.S. Department of Defense announced a new $23 billion aid package for Ukraine, including key air defense interceptors and anti-tank weapons.\n",
    "   - The announcement was made during a meeting between U.S. Defense Secretary Lloyd Austin and Ukrainian Defense Minister Rustem Umerov.\n",
    "   - The U.S. has been a major military supporter of Ukraine since the conflict began, providing over $50 billion in military aid.\n",
    "\n",
    "2. **Support for Ukraine's NATO Membership**:\n",
    "   - During the meeting, Umerov expressed Ukraine's desire to join NATO and hoped for an invitation soon.\n",
    "   - Austin supported Ukraine's NATO aspirations and mentioned that measures would be taken to build a bridge for Ukraine to become a NATO member.\n",
    "\n",
    "3. **Concerns about Future U.S. Support**:\n",
    "   - There are concerns about the future of U.S. support for Ukraine if Donald Trump wins the presidential election in November.\n",
    "   - Trump's advisors have proposed a plan to end the Russia-Ukraine war, which would require Ukraine to engage in peace talks with Moscow to receive more U.S. weapons.\n",
    "\n",
    "### Narrative Differences:\n",
    "1. **Focus on Aid Amounts**:\n",
    "   - The English articles emphasize the specific amounts and types of military aid being provided, focusing on the immediate and practical aspects of the support.\n",
    "   - The Chinese articles mention a larger aid amount ($23 billion) and provide a broader context of U.S. support since the conflict began.\n",
    "\n",
    "2. **Disinformation and Propaganda**:\n",
    "   - The English articles highlight the issue of Russian disinformation, specifically debunking a false claim about Ukraine's First Lady.\n",
    "   - The Chinese articles do not mention this aspect, focusing instead on the official military aid and political support.\n",
    "\n",
    "3. **NATO Membership and Future Support**:\n",
    "   - The Chinese articles discuss Ukraine's aspirations to join NATO and the support from the U.S. for this goal.\n",
    "   - They also highlight concerns about the continuity of U.S. support depending on the outcome of the upcoming U.S. presidential election.\n",
    "   - The English articles do not delve into Ukraine's NATO membership aspirations or the potential impact of the U.S. election on future support.\n",
    "\n",
    "4. **Tone and Emphasis**:\n",
    "   - The English articles maintain a tone of solidarity and urgency, emphasizing the collective effort of the U.S. and its allies to support Ukraine.\n",
    "   - The Chinese articles have a more cautious tone, acknowledging the support but also highlighting uncertainties and potential political shifts in the U.S.\n",
    "\n",
    "By analyzing these differences, we can see how the same events are framed differently in English and Chinese media, reflecting varying priorities and concerns in the narratives."
   ]
  },
  {
   "cell_type": "markdown",
   "metadata": {},
   "source": [
    "## Cluster 0"
   ]
  },
  {
   "cell_type": "markdown",
   "metadata": {},
   "source": [
    "The English and Chinese articles present different narratives and focal points regarding the Ukraine conflict and related geopolitical dynamics. Here are the key narrative differences:\n",
    "\n",
    "1. **Technological Innovation and Military Strategy**:\n",
    "   - **English**: The English articles emphasize Ukraine's technological advancements, particularly in autonomous drones and AI-driven weaponry. They highlight Ukraine's transformation into a \"Silicon Valley\" for military tech, driven by necessity and innovation. The narrative focuses on the ethical and strategic implications of these technologies, including potential global arms races and the future of warfare.\n",
    "   - **Chinese**: The Chinese articles focus more on the immediate military engagements and outcomes, such as the effectiveness of Ukrainian and Russian military strategies, the use of drones, and specific battles. There is less emphasis on technological innovation and more on the tactical and operational aspects of the conflict.\n",
    "\n",
    "2. **Geopolitical Context and Alliances**:\n",
    "   - **English**: The English articles provide a broader geopolitical context, discussing NATO's role, the implications of Ukraine's potential NATO membership, and the international response to the conflict. They also cover the strategic interests of the US and its allies, and the potential long-term impacts on global security.\n",
    "   - **Chinese**: The Chinese articles tend to focus on the immediate geopolitical maneuvers, such as the involvement of North Korean soldiers, the impact of Western military aid, and the specific actions of countries like Germany and the US. There is a strong emphasis on the direct consequences of these actions on the battlefield.\n",
    "\n",
    "3. **Humanitarian and Ethical Concerns**:\n",
    "   - **English**: The English articles often touch on the humanitarian and ethical concerns related to the conflict, such as the use of autonomous weapons, the potential for civilian casualties, and the broader implications for international law and human rights.\n",
    "   - **Chinese**: The Chinese articles are more focused on the practical and immediate outcomes of the conflict, such as the effectiveness of military strategies and the impact on the involved nations' military capabilities. There is less emphasis on the ethical and humanitarian dimensions.\n",
    "\n",
    "4. **Narrative Tone and Perspective**:\n",
    "   - **English**: The tone in the English articles is analytical and often speculative, considering future scenarios and the broader implications of current events. There is a focus on the strategic and technological evolution of warfare.\n",
    "   - **Chinese**: The tone in the Chinese articles is more immediate and descriptive, focusing on the current state of the conflict, specific military engagements, and the direct actions of the involved parties. The narrative is more about reporting the ongoing developments rather than speculating on future implications.\n",
    "\n",
    "5. **Focus on Specific Events and Figures**:\n",
    "   - **English**: The English articles often highlight specific technological advancements, interviews with key figures, and detailed descriptions of new military technologies. They provide a more in-depth look at the innovations driving the conflict.\n",
    "   - **Chinese**: The Chinese articles focus more on the broader military and geopolitical landscape, including the involvement of various countries, the impact of military aid, and the strategic decisions of key players. There is a greater emphasis on the collective actions and responses of nations rather than individual innovations.\n",
    "\n",
    "In summary, the English articles provide a detailed, technology-focused, and speculative analysis of the Ukraine conflict, while the Chinese articles offer a more immediate, tactical, and descriptive account of the ongoing military and geopolitical developments."
   ]
  },
  {
   "cell_type": "markdown",
   "metadata": {},
   "source": [
    "## V2.1"
   ]
  },
  {
   "cell_type": "markdown",
   "metadata": {},
   "source": [
    "The narratives in the English and Chinese articles about the Ukraine conflict reveal distinct perspectives and emphases. Here are the key differences:\n",
    "\n",
    "1. **Focus on Human Experience vs. Military Analysis**:\n",
    "   - **Chinese Articles**: The Chinese narrative often focuses on personal stories and the human experience of the conflict. For example, the detailed account of a Chinese student returning to Ukraine amidst the war highlights the daily struggles, such as power outages and the emotional toll of the conflict.\n",
    "   - **English Articles**: The English articles, particularly those from UN reports and Western media, emphasize the broader humanitarian impact, casualty statistics, and the geopolitical implications of the conflict. They provide detailed accounts of civilian casualties, infrastructure damage, and international diplomatic efforts.\n",
    "\n",
    "2. **Narrative Tone**:\n",
    "   - **Chinese Articles**: The tone in the Chinese articles tends to be more personal and reflective, often using first-person narratives to convey the impact of the war on individuals. This approach creates a more intimate and emotional connection with the reader.\n",
    "   - **English Articles**: The tone in the English articles is more formal and analytical, focusing on factual reporting and statistical data. The narrative is often framed within the context of international law, human rights, and geopolitical strategy.\n",
    "\n",
    "3. **Emphasis on Military Developments**:\n",
    "   - **Chinese Articles**: There is a significant focus on specific military engagements and the technical aspects of warfare, such as the capabilities of different aircraft and the strategic use of drones. The articles discuss the effectiveness of various military technologies and tactics in detail.\n",
    "   - **English Articles**: While military developments are covered, the emphasis is more on the consequences of these actions, such as civilian casualties and the destruction of infrastructure. The articles also highlight the international response and the support provided to Ukraine by Western allies.\n",
    "\n",
    "4. **Geopolitical Context**:\n",
    "   - **Chinese Articles**: The geopolitical context in the Chinese articles often includes a broader discussion of international relations, including the roles of countries like the United States, Russia, and European nations. There is also mention of the potential impact on global security and economic stability.\n",
    "   - **English Articles**: The geopolitical context is framed around the actions and statements of international organizations like the UN and NATO. There is a strong focus on the legal and moral implications of the conflict, as well as the efforts to hold Russia accountable for its actions.\n",
    "\n",
    "5. **Humanitarian Impact**:\n",
    "   - **Chinese Articles**: The humanitarian impact is conveyed through personal anecdotes and the challenges faced by individuals, such as students and local residents. The articles describe the day-to-day difficulties and the resilience of the people affected by the war.\n",
    "   - **English Articles**: The humanitarian impact is presented through comprehensive reports and statistical data. The articles highlight the scale of the crisis, including the number of displaced persons, the extent of infrastructure damage, and the efforts of international aid organizations.\n",
    "\n",
    "6. **Diplomatic Efforts**:\n",
    "   - **Chinese Articles**: Diplomatic efforts are discussed in the context of broader international relations, with an emphasis on the positions and actions of major powers. There is also mention of the potential for peace talks and the conditions required for a ceasefire.\n",
    "   - **English Articles**: Diplomatic efforts are detailed with specific references to meetings, agreements, and statements by international leaders and organizations. The articles often include direct quotes from officials and provide analysis of the potential outcomes of these diplomatic initiatives.\n",
    "\n",
    "In summary, the Chinese articles provide a more personal and detailed account of the human and military aspects of the conflict, while the English articles focus on the broader humanitarian impact, geopolitical context, and diplomatic efforts. Both narratives offer valuable insights but cater to different aspects of the ongoing crisis."
   ]
  },
  {
   "cell_type": "markdown",
   "metadata": {},
   "source": [
    "## V2"
   ]
  },
  {
   "cell_type": "markdown",
   "metadata": {},
   "source": [
    "The news articles in English and Chinese present different narratives and emphases regarding the Ukraine-Russia conflict. Here are the key narrative differences:\n",
    "\n",
    "1. **Focus on Public Opinion and Polling**:\n",
    "   - **English**: The English articles emphasize public opinion and polling data, particularly from the European Council on Foreign Relations (ECFR). They discuss sustained public support for military aid to Ukraine, divisions on how the war will end, and the purpose of European aid. The narrative highlights the challenges NATO leaders face in reconciling differing opinions between Europeans and Ukrainians.\n",
    "   - **Chinese**: The Chinese articles do not focus on public opinion or polling data. Instead, they emphasize geopolitical maneuvers, military developments, and the involvement of various countries in the conflict.\n",
    "\n",
    "2. **Geopolitical Analysis and International Relations**:\n",
    "   - **English**: The English articles provide detailed analysis of international relations, including the roles of NATO, the EU, and the US. They discuss the implications of political shifts in Europe, the impact of US domestic politics on the conflict, and the strategic importance of maintaining unity within NATO.\n",
    "   - **Chinese**: The Chinese articles focus more on the geopolitical implications of the conflict, including the involvement of countries like China, North Korea, and the dynamics within the EU. They highlight China's stance and its potential influence on the conflict, as well as the strategic moves by Russia and its allies.\n",
    "\n",
    "3. **Military Developments and Aid**:\n",
    "   - **English**: The English articles detail specific military aid packages from the US and other NATO countries, including the types of weapons and equipment being provided to Ukraine. They also discuss the strategic importance of these aid packages in bolstering Ukraine's defense capabilities.\n",
    "   - **Chinese**: The Chinese articles provide a broader overview of military developments, including the involvement of North Korean troops and the strategic implications of military aid. They also discuss the potential impact of these developments on the overall conflict and the balance of power.\n",
    "\n",
    "4. **Political Statements and Leadership**:\n",
    "   - **English**: The English articles include statements from Western leaders, such as German Chancellor Olaf Scholz and former US President Donald Trump. They discuss the political rhetoric and promises made by these leaders regarding the conflict.\n",
    "   - **Chinese**: The Chinese articles include statements from Chinese and Russian officials, as well as other international leaders. They focus on the diplomatic and political maneuvers being made by these countries and their leaders' perspectives on the conflict.\n",
    "\n",
    "5. **Narrative Tone and Perspective**:\n",
    "   - **English**: The English articles generally adopt a tone of cautious optimism about the potential for unity within NATO and the effectiveness of military aid. They emphasize the importance of continued support for Ukraine and the challenges of achieving a negotiated settlement.\n",
    "   - **Chinese**: The Chinese articles adopt a more critical tone towards Western involvement in the conflict. They highlight the complexities and potential pitfalls of the conflict, including the risks of escalation and the strategic calculations of various countries.\n",
    "\n",
    "6. **Specific Incidents and Developments**:\n",
    "   - **English**: The English articles provide detailed accounts of specific incidents, such as the delay of US support packages and the political shifts in Europe. They also discuss the implications of these developments for the conflict.\n",
    "   - **Chinese**: The Chinese articles provide a broader overview of recent developments, including military engagements, strategic moves by various countries, and the potential impact of these developments on the conflict.\n",
    "\n",
    "In summary, the English articles focus more on public opinion, international relations, and specific military aid packages, while the Chinese articles emphasize geopolitical analysis, military developments, and the strategic implications of the conflict. The narratives reflect different perspectives and priorities, with the English articles highlighting the challenges and efforts to maintain unity within NATO, and the Chinese articles focusing on the broader geopolitical context and the involvement of various countries in the conflict."
   ]
  }
 ],
 "metadata": {
  "kernelspec": {
   "display_name": "env",
   "language": "python",
   "name": "python3"
  },
  "language_info": {
   "codemirror_mode": {
    "name": "ipython",
    "version": 3
   },
   "file_extension": ".py",
   "mimetype": "text/x-python",
   "name": "python",
   "nbconvert_exporter": "python",
   "pygments_lexer": "ipython3",
   "version": "3.11.5"
  }
 },
 "nbformat": 4,
 "nbformat_minor": 2
}
