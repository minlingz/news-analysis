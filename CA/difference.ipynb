{
 "cells": [
  {
   "cell_type": "code",
   "execution_count": 1,
   "metadata": {},
   "outputs": [],
   "source": [
    "from openai import OpenAI\n",
    "import json, os, sys\n",
    "import os\n",
    "import re\n",
    "import random"
   ]
  },
  {
   "cell_type": "code",
   "execution_count": 2,
   "metadata": {},
   "outputs": [],
   "source": [
    "client = OpenAI(api_key=os.getenv(\"OPENAI_API_KEY\"))"
   ]
  },
  {
   "cell_type": "code",
   "execution_count": 3,
   "metadata": {},
   "outputs": [],
   "source": [
    "def generate_difference(chunk, client, model=\"gpt-4o\"):\n",
    "    prompt = f\"\"\"\n",
    "You are an expert in news analysis and skilled at capturing narrative difference. \n",
    "I have some news articles in English and Chinese and I need you to help me identify the narrative differences between them.\n",
    "\n",
    "{chunk}\n",
    "\n",
    "\n",
    "\"\"\"\n",
    "    messages = [{\"role\": \"user\", \"content\": prompt}]\n",
    "    try:\n",
    "        response = client.chat.completions.create(\n",
    "            model=model, messages=messages, temperature=0\n",
    "        )\n",
    "\n",
    "        content = response.choices[0].message.content\n",
    "        return content\n",
    "    except Exception as e:  # if the model fails to return a response\n",
    "        print(f\"Error: {e}\")\n",
    "        return \"Sorry, error from GPT.\""
   ]
  },
  {
   "cell_type": "code",
   "execution_count": 4,
   "metadata": {},
   "outputs": [],
   "source": [
    "def process_batches(input_file, output_file, client, model, label_a_index):\n",
    "    # Read the article from the input JSON file\n",
    "    with open(input_file, \"r\") as f:\n",
    "        articles = json.load(f)\n",
    "\n",
    "    # Extract summaries from the articles\n",
    "    article_body = [article[\"body\"] for article in articles]\n",
    "\n",
    "    # get the article body with the label_a_index list\n",
    "\n",
    "    article_a = [article_body[i] for i in label_a_index]\n",
    "\n",
    "    # convert the article to JSON string\n",
    "    chunk = json.dumps(article_a)\n",
    "\n",
    "    responses = []\n",
    "\n",
    "    difference = generate_difference(chunk, client, model=model)\n",
    "    responses.append(\n",
    "        {\n",
    "            \"Difference\": difference,\n",
    "        }\n",
    "    )\n",
    "\n",
    "    # Write the generated questions to the output JSON file\n",
    "    with open(output_file, \"w\") as f:\n",
    "        json.dump(responses, f, indent=4)"
   ]
  },
  {
   "cell_type": "code",
   "execution_count": 5,
   "metadata": {},
   "outputs": [],
   "source": [
    "import pandas as pd\n",
    "\n",
    "# read the label file\n",
    "labels = pd.read_csv(\"labels_4o.csv\", header=None, names=[\"label\"])"
   ]
  },
  {
   "cell_type": "code",
   "execution_count": 6,
   "metadata": {},
   "outputs": [],
   "source": [
    "# get the label index if labe is 1\n",
    "label_a_index = list(labels[labels[\"label\"] == 1].index)\n",
    "# label_b_index = list(labels[labels[\"label\"] == 9].index)\n",
    "random.shuffle(label_a_index)"
   ]
  },
  {
   "cell_type": "code",
   "execution_count": 7,
   "metadata": {},
   "outputs": [
    {
     "data": {
      "text/plain": [
       "[56,\n",
       " 91,\n",
       " 104,\n",
       " 192,\n",
       " 160,\n",
       " 10,\n",
       " 112,\n",
       " 117,\n",
       " 130,\n",
       " 1,\n",
       " 103,\n",
       " 46,\n",
       " 2,\n",
       " 165,\n",
       " 33,\n",
       " 87,\n",
       " 62,\n",
       " 65,\n",
       " 25,\n",
       " 162]"
      ]
     },
     "execution_count": 7,
     "metadata": {},
     "output_type": "execute_result"
    }
   ],
   "source": [
    "label_a_index = label_a_index[:20]\n",
    "label_a_index"
   ]
  },
  {
   "cell_type": "code",
   "execution_count": 9,
   "metadata": {},
   "outputs": [],
   "source": [
    "input_file = \"combined_Russo_Ukrainian_War.json\"\n",
    "output_file = \"output_difference_7.json\"\n",
    "\n",
    "# Assuming you have your OpenAI API client initialized as `client`\n",
    "process_batches(\n",
    "    input_file,\n",
    "    output_file,\n",
    "    client,\n",
    "    model=\"gpt-4o\",\n",
    "    label_a_index=label_a_index,\n",
    ")"
   ]
  },
  {
   "cell_type": "code",
   "execution_count": 10,
   "metadata": {},
   "outputs": [
    {
     "name": "stdout",
     "output_type": "stream",
     "text": [
      "The news articles in English and Chinese present different narratives and emphases regarding the Ukraine-Russia conflict. Here are the key narrative differences:\n",
      "\n",
      "1. **Focus on Public Opinion and Polling**:\n",
      "   - **English**: The English articles emphasize public opinion and polling data, particularly from the European Council on Foreign Relations (ECFR). They discuss sustained public support for military aid to Ukraine, divisions on how the war will end, and the purpose of European aid. The narrative highlights the challenges NATO leaders face in reconciling differing opinions between Europeans and Ukrainians.\n",
      "   - **Chinese**: The Chinese articles do not focus on public opinion or polling data. Instead, they emphasize geopolitical maneuvers, military developments, and the involvement of various countries in the conflict.\n",
      "\n",
      "2. **Geopolitical Analysis and International Relations**:\n",
      "   - **English**: The English articles provide detailed analysis of international relations, including the roles of NATO, the EU, and the US. They discuss the implications of political shifts in Europe, the impact of US domestic politics on the conflict, and the strategic importance of maintaining unity within NATO.\n",
      "   - **Chinese**: The Chinese articles focus more on the geopolitical implications of the conflict, including the involvement of countries like China, North Korea, and the dynamics within the EU. They highlight China's stance and its potential influence on the conflict, as well as the strategic moves by Russia and its allies.\n",
      "\n",
      "3. **Military Developments and Aid**:\n",
      "   - **English**: The English articles detail specific military aid packages from the US and other NATO countries, including the types of weapons and equipment being provided to Ukraine. They also discuss the strategic importance of these aid packages in bolstering Ukraine's defense capabilities.\n",
      "   - **Chinese**: The Chinese articles provide a broader overview of military developments, including the involvement of North Korean troops and the strategic implications of military aid. They also discuss the potential impact of these developments on the overall conflict and the balance of power.\n",
      "\n",
      "4. **Political Statements and Leadership**:\n",
      "   - **English**: The English articles include statements from Western leaders, such as German Chancellor Olaf Scholz and former US President Donald Trump. They discuss the political rhetoric and promises made by these leaders regarding the conflict.\n",
      "   - **Chinese**: The Chinese articles include statements from Chinese and Russian officials, as well as other international leaders. They focus on the diplomatic and political maneuvers being made by these countries and their leaders' perspectives on the conflict.\n",
      "\n",
      "5. **Narrative Tone and Perspective**:\n",
      "   - **English**: The English articles generally adopt a tone of cautious optimism about the potential for unity within NATO and the effectiveness of military aid. They emphasize the importance of continued support for Ukraine and the challenges of achieving a negotiated settlement.\n",
      "   - **Chinese**: The Chinese articles adopt a more critical tone towards Western involvement in the conflict. They highlight the complexities and potential pitfalls of the conflict, including the risks of escalation and the strategic calculations of various countries.\n",
      "\n",
      "6. **Specific Incidents and Developments**:\n",
      "   - **English**: The English articles provide detailed accounts of specific incidents, such as the delay of US support packages and the political shifts in Europe. They also discuss the implications of these developments for the conflict.\n",
      "   - **Chinese**: The Chinese articles provide a broader overview of recent developments, including military engagements, strategic moves by various countries, and the potential impact of these developments on the conflict.\n",
      "\n",
      "In summary, the English articles focus more on public opinion, international relations, and specific military aid packages, while the Chinese articles emphasize geopolitical analysis, military developments, and the strategic implications of the conflict. The narratives reflect different perspectives and priorities, with the English articles highlighting the challenges and efforts to maintain unity within NATO, and the Chinese articles focusing on the broader geopolitical context and the involvement of various countries in the conflict.\n"
     ]
    }
   ],
   "source": [
    "# print the value from JSON file\n",
    "\n",
    "with open(output_file, \"r\") as f:\n",
    "    output = json.load(f)[0]\n",
    "    print(output[\"Difference\"])"
   ]
  },
  {
   "cell_type": "markdown",
   "metadata": {},
   "source": [
    "The news articles in English and Chinese present different narratives and emphases regarding the Ukraine-Russia conflict. Here are the key narrative differences:\n",
    "\n",
    "1. **Focus on Public Opinion and Polling**:\n",
    "   - **English**: The English articles emphasize public opinion and polling data, particularly from the European Council on Foreign Relations (ECFR). They discuss sustained public support for military aid to Ukraine, divisions on how the war will end, and the purpose of European aid. The narrative highlights the challenges NATO leaders face in reconciling differing opinions between Europeans and Ukrainians.\n",
    "   - **Chinese**: The Chinese articles do not focus on public opinion or polling data. Instead, they emphasize geopolitical maneuvers, military developments, and the involvement of various countries in the conflict.\n",
    "\n",
    "2. **Geopolitical Analysis and International Relations**:\n",
    "   - **English**: The English articles provide detailed analysis of international relations, including the roles of NATO, the EU, and the US. They discuss the implications of political shifts in Europe, the impact of US domestic politics on the conflict, and the strategic importance of maintaining unity within NATO.\n",
    "   - **Chinese**: The Chinese articles focus more on the geopolitical implications of the conflict, including the involvement of countries like China, North Korea, and the dynamics within the EU. They highlight China's stance and its potential influence on the conflict, as well as the strategic moves by Russia and its allies.\n",
    "\n",
    "3. **Military Developments and Aid**:\n",
    "   - **English**: The English articles detail specific military aid packages from the US and other NATO countries, including the types of weapons and equipment being provided to Ukraine. They also discuss the strategic importance of these aid packages in bolstering Ukraine's defense capabilities.\n",
    "   - **Chinese**: The Chinese articles provide a broader overview of military developments, including the involvement of North Korean troops and the strategic implications of military aid. They also discuss the potential impact of these developments on the overall conflict and the balance of power.\n",
    "\n",
    "4. **Political Statements and Leadership**:\n",
    "   - **English**: The English articles include statements from Western leaders, such as German Chancellor Olaf Scholz and former US President Donald Trump. They discuss the political rhetoric and promises made by these leaders regarding the conflict.\n",
    "   - **Chinese**: The Chinese articles include statements from Chinese and Russian officials, as well as other international leaders. They focus on the diplomatic and political maneuvers being made by these countries and their leaders' perspectives on the conflict.\n",
    "\n",
    "5. **Narrative Tone and Perspective**:\n",
    "   - **English**: The English articles generally adopt a tone of cautious optimism about the potential for unity within NATO and the effectiveness of military aid. They emphasize the importance of continued support for Ukraine and the challenges of achieving a negotiated settlement.\n",
    "   - **Chinese**: The Chinese articles adopt a more critical tone towards Western involvement in the conflict. They highlight the complexities and potential pitfalls of the conflict, including the risks of escalation and the strategic calculations of various countries.\n",
    "\n",
    "6. **Specific Incidents and Developments**:\n",
    "   - **English**: The English articles provide detailed accounts of specific incidents, such as the delay of US support packages and the political shifts in Europe. They also discuss the implications of these developments for the conflict.\n",
    "   - **Chinese**: The Chinese articles provide a broader overview of recent developments, including military engagements, strategic moves by various countries, and the potential impact of these developments on the conflict.\n",
    "\n",
    "In summary, the English articles focus more on public opinion, international relations, and specific military aid packages, while the Chinese articles emphasize geopolitical analysis, military developments, and the strategic implications of the conflict. The narratives reflect different perspectives and priorities, with the English articles highlighting the challenges and efforts to maintain unity within NATO, and the Chinese articles focusing on the broader geopolitical context and the involvement of various countries in the conflict."
   ]
  }
 ],
 "metadata": {
  "kernelspec": {
   "display_name": "env",
   "language": "python",
   "name": "python3"
  },
  "language_info": {
   "codemirror_mode": {
    "name": "ipython",
    "version": 3
   },
   "file_extension": ".py",
   "mimetype": "text/x-python",
   "name": "python",
   "nbconvert_exporter": "python",
   "pygments_lexer": "ipython3",
   "version": "3.11.5"
  }
 },
 "nbformat": 4,
 "nbformat_minor": 2
}
