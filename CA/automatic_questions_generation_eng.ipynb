{
 "cells": [
  {
   "cell_type": "code",
   "execution_count": 1,
   "metadata": {},
   "outputs": [],
   "source": [
    "from openai import OpenAI\n",
    "import json, os, sys\n",
    "import os\n",
    "import re\n",
    "import random"
   ]
  },
  {
   "cell_type": "code",
   "execution_count": 2,
   "metadata": {},
   "outputs": [],
   "source": [
    "client = OpenAI(api_key=os.getenv(\"OPENAI_API_KEY\"))"
   ]
  },
  {
   "cell_type": "code",
   "execution_count": 3,
   "metadata": {},
   "outputs": [],
   "source": [
    "def generate_questions(chunk, client, model=\"gpt-4o\"):\n",
    "    prompt = f\"\"\"\n",
    "You are an expert in news analysis and skilled at creating multiple-choice question answers that help to differentiate topics between articles. \n",
    "I have article summary and I need to generate unique, comprehensive multiple-choice questions based on these summaries.\n",
    "\n",
    "Your task is to generate questions that:\n",
    "- Help to differentiate topics between the articles.\n",
    "- Are common to all articles, not specific to any one article.\n",
    "- Are unique and not repeated in any other batch.\n",
    "- Include \"None of the above\" as one of the options for each question.\n",
    "\n",
    "Below is the format and example I need:\n",
    "\n",
    "1. What is the primary focus of the article?\n",
    "   - A. The expansion of the U.S. Navy's fleet.\n",
    "   - B. The development of new space exploration technologies.\n",
    "   - C. The signing of a peace treaty with neighboring countries.\n",
    "   - D. The introduction of new economic reforms.\n",
    "   - E. None of the above\n",
    "\n",
    "Below is the questions that need multiple choice answers to be generated:\n",
    "\n",
    "1. What is the main theme of the article?\n",
    "2. What are the primary keywords or phrases in this article? \n",
    "3. What event or issue is the article centered around?\n",
    "4. Which region or country is primarily discussed in the article?\n",
    "5. Who is most affected by the issues discussed in the article?\n",
    "6. What type of sources does the article cite?\n",
    "\n",
    "Summaries: {chunk}\n",
    "\n",
    "Generate as many as you can unique questions based on the above summaries.\n",
    "\n",
    "\"\"\"\n",
    "    messages = [{\"role\": \"user\", \"content\": prompt}]\n",
    "    try:\n",
    "        response = client.chat.completions.create(\n",
    "            model=model, messages=messages, temperature=0\n",
    "        )\n",
    "\n",
    "        content = response.choices[0].message.content\n",
    "        return content\n",
    "    except Exception as e:  # if the model fails to return a response\n",
    "        print(f\"Error: {e}\")\n",
    "        return \"Sorry, error from GPT.\""
   ]
  },
  {
   "cell_type": "code",
   "execution_count": 4,
   "metadata": {},
   "outputs": [],
   "source": [
    "def process_batches(input_file, output_file, client, model):\n",
    "    # Read the article summaries from the input JSON file\n",
    "    with open(input_file, \"r\") as f:\n",
    "        articles = json.load(f)\n",
    "\n",
    "    # Shuffle the data\n",
    "    random.shuffle(articles)\n",
    "\n",
    "    # Extract summaries from the articles\n",
    "    article_summaries = [article[\"summary\"] for article in articles]\n",
    "    num_summaries = len(article_summaries)\n",
    "    batch_size = 200\n",
    "\n",
    "    responses = []\n",
    "\n",
    "    # Process the article summaries in batches of 100\n",
    "    for i in range(0, num_summaries, batch_size):\n",
    "        batch = article_summaries[i : i + batch_size]\n",
    "        chunk = json.dumps(batch)  # Convert the batch to a JSON string\n",
    "\n",
    "        questions = generate_questions(chunk, client, model=model)\n",
    "        responses.append(\n",
    "            {\n",
    "                \"batch_start\": i,\n",
    "                \"batch_end\": min(i + batch_size - 1, num_summaries - 1),\n",
    "                \"questions\": questions,\n",
    "            }\n",
    "        )\n",
    "\n",
    "    # Write the generated questions to the output JSON file\n",
    "    with open(output_file, \"w\") as f:\n",
    "        json.dump(responses, f, ensure_ascii=False, indent=4)"
   ]
  },
  {
   "cell_type": "code",
   "execution_count": 5,
   "metadata": {},
   "outputs": [],
   "source": [
    "input_file = \"combined_Russo_Ukrainian_War.json\"\n",
    "output_file = \"output_questions_eng.json\"\n",
    "\n",
    "# Assuming you have your OpenAI API client initialized as `client`\n",
    "process_batches(input_file, output_file, client, model=\"gpt-4o\")"
   ]
  },
  {
   "cell_type": "code",
   "execution_count": 6,
   "metadata": {},
   "outputs": [],
   "source": [
    "def extract_questions(batch_questions):\n",
    "    questions = {}\n",
    "    q_count = 1\n",
    "    for batch in batch_questions:\n",
    "        batch_qs = batch[\"questions\"].split(\"\\n\\n\")\n",
    "        for q in batch_qs:\n",
    "            match = re.match(\n",
    "                r\"\\d+\\. (.+?)\\n\\s+- A\\. (.+?)\\n\\s+- B\\. (.+?)\\n\\s+- C\\. (.+?)\\n\\s+- D\\. (.+?)\\n\\s+- E\\. (.+?)$\",\n",
    "                q.strip(),\n",
    "                re.DOTALL,\n",
    "            )\n",
    "            if match:\n",
    "                question = match.group(1).strip()\n",
    "                choices = {\n",
    "                    \"A\": match.group(2).strip(),\n",
    "                    \"B\": match.group(3).strip(),\n",
    "                    \"C\": match.group(4).strip(),\n",
    "                    \"D\": match.group(5).strip(),\n",
    "                    \"E\": match.group(6).strip(),\n",
    "                }\n",
    "                if question not in questions:\n",
    "                    questions[question] = choices\n",
    "    return questions\n",
    "\n",
    "\n",
    "def convert_to_json2_format(unique_questions):\n",
    "    formatted_questions = {}\n",
    "    q_num = 1\n",
    "    for question, choices in unique_questions.items():\n",
    "        formatted_questions[f\"Q{q_num}\"] = {\"question\": question, \"choices\": choices}\n",
    "        q_num += 1\n",
    "    return formatted_questions\n",
    "\n",
    "\n",
    "def process_json(input_json):\n",
    "    unique_questions = extract_questions(input_json)\n",
    "    return convert_to_json2_format(unique_questions)"
   ]
  },
  {
   "cell_type": "code",
   "execution_count": 7,
   "metadata": {},
   "outputs": [],
   "source": [
    "# Load JSON 1\n",
    "with open(\"output_questions_eng.json\", \"r\") as f:\n",
    "    json1 = json.load(f)\n",
    "\n",
    "# Process JSON 1 to get JSON 2 format\n",
    "json2_format = process_json(json1)\n",
    "\n",
    "# Save the result to a new JSON file\n",
    "with open(\"formated_output_questions_eng.json\", \"w\") as f:\n",
    "    json.dump(json2_format, f, ensure_ascii=False, indent=4)"
   ]
  },
  {
   "cell_type": "code",
   "execution_count": 8,
   "metadata": {},
   "outputs": [
    {
     "name": "stdout",
     "output_type": "stream",
     "text": [
      "[{'batch_start': 0, 'batch_end': 199, 'questions': \"1. What is the main theme of the article?\\n   - A. Military aid and support for Ukraine.\\n   - B. Economic development in the Gulf Cooperation Council (GCC) countries.\\n   - C. Technological advancements in the electric toothbrush market.\\n   - D. Political dynamics within the European Union.\\n   - E. None of the above\\n\\n2. What are the primary keywords or phrases in this article?\\n   - A. Military aid, NATO, Ukraine.\\n   - B. Real estate, tourism, oil prices.\\n   - C. Oral hygiene, smart toothbrushes, e-commerce.\\n   - D. Sanctions, EU, Dr. Moshe Kantor.\\n   - E. None of the above\\n\\n3. What event or issue is the article centered around?\\n   - A. The Russia-Ukraine conflict and international responses.\\n   - B. The economic growth forecast for GCC countries.\\n   - C. The market growth of electric toothbrushes.\\n   - D. The EU's sanctions regime and its flaws.\\n   - E. None of the above\\n\\n4. Which region or country is primarily discussed in the article?\\n   - A. Ukraine and its international allies.\\n   - B. Gulf Cooperation Council (GCC) countries.\\n   - C. North America and Asia-Pacific.\\n   - D. European Union member states.\\n   - E. None of the above\\n\\n5. Who is most affected by the issues discussed in the article?\\n   - A. Ukrainian civilians and military forces.\\n   - B. Investors and businesses in the GCC region.\\n   - C. Consumers and manufacturers of electric toothbrushes.\\n   - D. Individuals and entities on the EU sanctions list.\\n   - E. None of the above\\n\\n6. What type of sources does the article cite?\\n   - A. Government announcements and military reports.\\n   - B. Economic forecasts and market analysis reports.\\n   - C. Industry reports and market research studies.\\n   - D. Legal documents and court hearings.\\n   - E. None of the above\"}]\n"
     ]
    }
   ],
   "source": [
    "print(json1)"
   ]
  }
 ],
 "metadata": {
  "kernelspec": {
   "display_name": "env",
   "language": "python",
   "name": "python3"
  },
  "language_info": {
   "codemirror_mode": {
    "name": "ipython",
    "version": 3
   },
   "file_extension": ".py",
   "mimetype": "text/x-python",
   "name": "python",
   "nbconvert_exporter": "python",
   "pygments_lexer": "ipython3",
   "version": "3.11.5"
  }
 },
 "nbformat": 4,
 "nbformat_minor": 2
}
