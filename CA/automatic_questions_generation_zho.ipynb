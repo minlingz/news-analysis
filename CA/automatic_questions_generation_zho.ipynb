{
 "cells": [
  {
   "cell_type": "code",
   "execution_count": 1,
   "metadata": {},
   "outputs": [],
   "source": [
    "from openai import OpenAI\n",
    "import json, os, sys\n",
    "import os\n",
    "import re\n",
    "import random"
   ]
  },
  {
   "cell_type": "code",
   "execution_count": 2,
   "metadata": {},
   "outputs": [],
   "source": [
    "client = OpenAI(api_key=os.getenv(\"OPENAI_API_KEY\"))"
   ]
  },
  {
   "cell_type": "code",
   "execution_count": 3,
   "metadata": {},
   "outputs": [],
   "source": [
    "def generate_questions(chunk, client, model=\"gpt-4o\"):\n",
    "    prompt = f\"\"\"\n",
    "你是一位新闻分析专家，擅长创建有助于区分文章主题的多项选择题答案。\n",
    "我有一些文章摘要，我需要基于这些摘要生成独特的、全面的多项选择题。\n",
    "\n",
    "你的任务是生成问题和答案，要求如下：\n",
    "\n",
    "\t•\t有助于区分不同文章的主题。\n",
    "\t•\t问题适用于所有文章，而不是针对某一篇文章。\n",
    "\t•\t每批问题都是独特的，不与其他批重复。\n",
    "\t•\t每个问题都包含“以上皆非”作为选项之一。\n",
    "\n",
    "以下是我需要的格式和示例：\n",
    "\n",
    "1. 做了什么？\n",
    "   - A. 中国海警扣押了菲律宾军用飞机投下的四个食品包之一，这些食品包是为菲律宾海军人员在领土哨所准备的。在发现包裹里装的是食物后，他们将其扔进了海里。\n",
    "   - B. 据报道，菲律宾士兵在向搁浅的“马德雷山”号船进行补给任务时，曾用枪指向中国海警人员。中国海警在这次补给行动中作出反应，包括观察到菲律宾士兵在船甲板上持枪。\n",
    "   - C. 土耳其外长哈坎·菲丹开始了对中国的访问，并表示优先支持哈马斯对抗以色列并增加与中国的贸易，但未谴责维吾尔种族灭绝。\n",
    "   - D. 菲律宾正与美国和日本合作，以确保在与中国海上力量的紧张局势中保持西菲律宾海（WPS）的自由和安全。\n",
    "   - E. 以上皆非\n",
    "\n",
    "摘要： {chunk}\n",
    "\n",
    "生成尽可能多的独特问题基于上述摘要。\n",
    "\"\"\"\n",
    "    messages = [{\"role\": \"user\", \"content\": prompt}]\n",
    "    try:\n",
    "        response = client.chat.completions.create(\n",
    "            model=model, messages=messages, temperature=0\n",
    "        )\n",
    "\n",
    "        content = response.choices[0].message.content\n",
    "        return content\n",
    "    except Exception as e:  # if the model fails to return a response\n",
    "        print(f\"Error: {e}\")\n",
    "        return \"Sorry, error from GPT.\""
   ]
  },
  {
   "cell_type": "code",
   "execution_count": 4,
   "metadata": {},
   "outputs": [],
   "source": [
    "def process_batches(input_file, output_file, client, model):\n",
    "    # Read the article summaries from the input JSON file\n",
    "    with open(input_file, \"r\") as f:\n",
    "        articles = json.load(f)\n",
    "\n",
    "    # Shuffle the data\n",
    "    random.shuffle(articles)\n",
    "\n",
    "    # Extract summaries from the articles\n",
    "    article_summaries = [article[\"summary\"] for article in articles]\n",
    "    num_summaries = len(article_summaries)\n",
    "    batch_size = 200\n",
    "\n",
    "    responses = []\n",
    "\n",
    "    # Process the article summaries in batches of 100\n",
    "    for i in range(0, num_summaries, batch_size):\n",
    "        batch = article_summaries[i : i + batch_size]\n",
    "        chunk = json.dumps(batch)  # Convert the batch to a JSON string\n",
    "\n",
    "        questions = generate_questions(chunk, client, model=model)\n",
    "        responses.append(\n",
    "            {\n",
    "                \"batch_start\": i,\n",
    "                \"batch_end\": min(i + batch_size - 1, num_summaries - 1),\n",
    "                \"questions\": questions,\n",
    "            }\n",
    "        )\n",
    "\n",
    "    # Write the generated questions to the output JSON file\n",
    "    with open(output_file, \"w\") as f:\n",
    "        json.dump(responses, f, ensure_ascii=False, indent=4)"
   ]
  },
  {
   "cell_type": "code",
   "execution_count": 5,
   "metadata": {},
   "outputs": [],
   "source": [
    "input_file = \"combined_Russo_Ukrainian_War.json\"\n",
    "output_file = \"output_questions_zho.json\"\n",
    "\n",
    "# Assuming you have your OpenAI API client initialized as `client`\n",
    "process_batches(input_file, output_file, client, model=\"gpt-4o\")"
   ]
  },
  {
   "cell_type": "code",
   "execution_count": 6,
   "metadata": {},
   "outputs": [],
   "source": [
    "def extract_questions(batch_questions):\n",
    "    questions = {}\n",
    "    q_count = 1\n",
    "    for batch in batch_questions:\n",
    "        batch_qs = batch[\"questions\"].split(\"\\n\\n\")\n",
    "        for q in batch_qs:\n",
    "            match = re.match(\n",
    "                r\"\\d+\\. (.+?)\\n\\s+- A\\. (.+?)\\n\\s+- B\\. (.+?)\\n\\s+- C\\. (.+?)\\n\\s+- D\\. (.+?)\\n\\s+- E\\. (.+?)$\",\n",
    "                q.strip(),\n",
    "                re.DOTALL,\n",
    "            )\n",
    "            if match:\n",
    "                question = match.group(1).strip()\n",
    "                choices = {\n",
    "                    \"A\": match.group(2).strip(),\n",
    "                    \"B\": match.group(3).strip(),\n",
    "                    \"C\": match.group(4).strip(),\n",
    "                    \"D\": match.group(5).strip(),\n",
    "                    \"E\": match.group(6).strip(),\n",
    "                }\n",
    "                if question not in questions:\n",
    "                    questions[question] = choices\n",
    "    return questions\n",
    "\n",
    "\n",
    "def convert_to_json2_format(unique_questions):\n",
    "    formatted_questions = {}\n",
    "    q_num = 1\n",
    "    for question, choices in unique_questions.items():\n",
    "        formatted_questions[f\"Q{q_num}\"] = {\"question\": question, \"choices\": choices}\n",
    "        q_num += 1\n",
    "    return formatted_questions\n",
    "\n",
    "\n",
    "def process_json(input_json):\n",
    "    unique_questions = extract_questions(input_json)\n",
    "    return convert_to_json2_format(unique_questions)"
   ]
  },
  {
   "cell_type": "code",
   "execution_count": 7,
   "metadata": {},
   "outputs": [],
   "source": [
    "# Load JSON 1\n",
    "with open(\"output_questions_zho.json\", \"r\") as f:\n",
    "    json1 = json.load(f)\n",
    "\n",
    "# Process JSON 1 to get JSON 2 format\n",
    "json2_format = process_json(json1)\n",
    "\n",
    "# Save the result to a new JSON file\n",
    "with open(\"formated_output_questions_zho.json\", \"w\") as f:\n",
    "    json.dump(json2_format, f, ensure_ascii=False, indent=4)"
   ]
  },
  {
   "cell_type": "code",
   "execution_count": 8,
   "metadata": {},
   "outputs": [
    {
     "name": "stdout",
     "output_type": "stream",
     "text": [
      "[{'batch_start': 0, 'batch_end': 199, 'questions': '1. 文章主要讨论了什么？\\n   - A. 北约为应对特朗普可能重返白宫而制定的“B计划”，包括要求欧洲成员国增加国防开支和建立新的军事指挥中心。\\n   - B. 英国首相里希·苏纳克呼吁选民防止工党在即将到来的大选中获得“超级多数”，并强调投票给保守党以避免更高的税收。\\n   - C. 俄罗斯总统普京在越南的新闻发布会上表示，俄罗斯不会从乌克兰撤军，并强调只有乌克兰完全失败才能结束战争。\\n   - D. 明阿平谷的居民要求恢复和加快当地发展项目，并警告如果他们的要求得不到满足，将进行抗议。\\n   - E. 以上皆非\\n\\n2. 文章提到的主要人物是谁？\\n   - A. 北约秘书长延斯·斯托尔滕贝格\\n   - B. 英国首相里希·苏纳克\\n   - C. 俄罗斯总统弗拉基米尔·普京\\n   - D. 土耳其外长哈坎·菲丹\\n   - E. 以上皆非\\n\\n3. 文章中提到的主要事件是什么？\\n   - A. 北约计划在德国威斯巴登建立新的军事指挥中心以支持乌克兰。\\n   - B. 英国首相里希·苏纳克呼吁选民防止工党在即将到来的大选中获得“超级多数”。\\n   - C. 俄罗斯总统普京在越南的新闻发布会上表示，俄罗斯不会从乌克兰撤军。\\n   - D. 明阿平谷的居民要求恢复和加快当地发展项目。\\n   - E. 以上皆非\\n\\n4. 文章中提到的主要国家或地区是哪里？\\n   - A. 乌克兰\\n   - B. 英国\\n   - C. 俄罗斯\\n   - D. 明阿平谷\\n   - E. 以上皆非\\n\\n5. 文章中提到的主要组织是什么？\\n   - A. 北约\\n   - B. 英国保守党\\n   - C. 俄罗斯政府\\n   - D. 明阿平谷居民委员会\\n   - E. 以上皆非\\n\\n6. 文章中提到的主要问题是什么？\\n   - A. 北约为应对特朗普可能重返白宫而制定的“B计划”\\n   - B. 英国首相里希·苏纳克呼吁选民防止工党在即将到来的大选中获得“超级多数”\\n   - C. 俄罗斯总统普京在越南的新闻发布会上表示，俄罗斯不会从乌克兰撤军\\n   - D. 明阿平谷的居民要求恢复和加快当地发展项目\\n   - E. 以上皆非\\n\\n7. 文章中提到的主要行动是什么？\\n   - A. 北约计划在德国威斯巴登建立新的军事指挥中心以支持乌克兰\\n   - B. 英国首相里希·苏纳克呼吁选民防止工党在即将到来的大选中获得“超级多数”\\n   - C. 俄罗斯总统普京在越南的新闻发布会上表示，俄罗斯不会从乌克兰撤军\\n   - D. 明阿平谷的居民要求恢复和加快当地发展项目\\n   - E. 以上皆非\\n\\n8. 文章中提到的主要目标是什么？\\n   - A. 北约确保对乌克兰的持续支持\\n   - B. 英国保守党避免工党获得“超级多数”\\n   - C. 俄罗斯在乌克兰的军事行动\\n   - D. 明阿平谷的居民要求恢复和加快当地发展项目\\n   - E. 以上皆非\\n\\n9. 文章中提到的主要挑战是什么？\\n   - A. 北约成员国增加国防开支的挑战\\n   - B. 英国保守党在大选中的挑战\\n   - C. 俄罗斯在乌克兰的军事行动面临的挑战\\n   - D. 明阿平谷的居民面临的基础设施问题\\n   - E. 以上皆非\\n\\n10. 文章中提到的主要解决方案是什么？\\n   - A. 北约制定“B计划”以确保对乌克兰的持续支持\\n   - B. 英国保守党呼吁选民投票以避免工党获得“超级多数”\\n   - C. 俄罗斯总统普京表示只有乌克兰完全失败才能结束战争\\n   - D. 明阿平谷的居民要求恢复和加快当地发展项目\\n   - E. 以上皆非'}]\n"
     ]
    }
   ],
   "source": [
    "print(json1)"
   ]
  }
 ],
 "metadata": {
  "kernelspec": {
   "display_name": "env",
   "language": "python",
   "name": "python3"
  },
  "language_info": {
   "codemirror_mode": {
    "name": "ipython",
    "version": 3
   },
   "file_extension": ".py",
   "mimetype": "text/x-python",
   "name": "python",
   "nbconvert_exporter": "python",
   "pygments_lexer": "ipython3",
   "version": "3.11.5"
  }
 },
 "nbformat": 4,
 "nbformat_minor": 2
}
