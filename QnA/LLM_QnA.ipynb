{
 "cells": [
  {
   "cell_type": "code",
   "execution_count": 2,
   "metadata": {},
   "outputs": [],
   "source": [
    "from dotenv import load_dotenv\n",
    "from openai import OpenAI\n",
    "import os\n",
    "\n",
    "load_dotenv(override=True)  # This loads the environment variables from .env file\n",
    "client = OpenAI(api_key=os.getenv(\"OPENAI_API_KEY\"))"
   ]
  },
  {
   "cell_type": "code",
   "execution_count": 3,
   "metadata": {},
   "outputs": [],
   "source": [
    "def QnA(\n",
    "    art,\n",
    "    client,\n",
    "    model,\n",
    "    QnA_prompt,\n",
    "    QnA_answer,\n",
    "):\n",
    "\n",
    "    prompt_complete = (\n",
    "        QnA_prompt\n",
    "        + \"\\n\"\n",
    "        + art[\"title\"]\n",
    "        + \"\\n\"\n",
    "        + art[\"body\"]\n",
    "        + \"\\n\"\n",
    "        + \"Please choose from the options below:\"\n",
    "        + QnA_answer\n",
    "    )\n",
    "    model = model\n",
    "    messages = [{\"role\": \"user\", \"content\": prompt_complete}]\n",
    "    try:\n",
    "        response = client.chat.completions.create(\n",
    "            model=model, messages=messages, temperature=0\n",
    "        )\n",
    "\n",
    "        content = response.choices[0].message.content\n",
    "        return content\n",
    "    except Exception as e:  # if the model fails to return a response\n",
    "        print(f\"Error: {e}\")\n",
    "        return \"Sorry, error from GPT.\""
   ]
  },
  {
   "cell_type": "code",
   "execution_count": 4,
   "metadata": {},
   "outputs": [],
   "source": [
    "import json\n",
    "\n",
    "\n",
    "def get_LLM_QnA(\n",
    "    src_filename,\n",
    "    client,\n",
    "    model=\"gpt-4o\",\n",
    "    QnA_prompt=\"Which of the following is correct tone that this article discuss about Raisi's reputation:\",\n",
    "    QnA_answer=\"A) Positive\\nB) Neutral\\nC) Negative\\nD) Not applicable\\n\",\n",
    "):\n",
    "    with open(src_filename, \"r\") as f:\n",
    "        data = f.read()\n",
    "        des_articles = []\n",
    "        src_articles = json.loads(data)\n",
    "        for src_art in src_articles:\n",
    "            src_art[\"Question\"] = QnA_prompt\n",
    "            src_art[\"Answers\"] = QnA_answer\n",
    "            src_art[\"LLM_answer\"] = QnA(\n",
    "                src_art,\n",
    "                client,\n",
    "                model=model,\n",
    "                QnA_prompt=QnA_prompt,\n",
    "                QnA_answer=QnA_answer,\n",
    "            )\n",
    "\n",
    "            des_articles.append(src_art)\n",
    "    des_filename = \"QnA_\" + src_filename\n",
    "    if os.path.exists(des_filename):\n",
    "        os.remove(des_filename)\n",
    "    with open(des_filename, \"w\") as f:\n",
    "        json.dump(des_articles, f, ensure_ascii=False, indent=4)"
   ]
  },
  {
   "cell_type": "code",
   "execution_count": 11,
   "metadata": {},
   "outputs": [],
   "source": [
    "import re\n",
    "\n",
    "\n",
    "def extract_answer(qna_text):\n",
    "    # Use a regular expression to find the answer choice (A, B, C, or D) at the start of the QnA field\n",
    "    match = re.search(r\"\\s*([A-D])\\)\", qna_text)\n",
    "    if match:\n",
    "        return match.group(1)\n",
    "    return None\n",
    "\n",
    "\n",
    "def extract_answer_from_json(src_filename):\n",
    "    # Load the JSON data\n",
    "    with open(src_filename, \"r\") as file:\n",
    "        data = json.load(file)\n",
    "\n",
    "    # Iterate through the records and extract answers\n",
    "    for record in data:\n",
    "        LLM_answer = record.get(\"LLM_answer\", \"\")\n",
    "        answer = extract_answer(LLM_answer)\n",
    "        if answer:\n",
    "            print(f\"Extracted answer: {answer}\")\n",
    "        else:\n",
    "            print(\"No answer extracted\")"
   ]
  },
  {
   "cell_type": "markdown",
   "metadata": {},
   "source": [
    "# Repeat below steps to verify question and llm answer"
   ]
  },
  {
   "cell_type": "code",
   "execution_count": 41,
   "metadata": {},
   "outputs": [],
   "source": [
    "question = \"Does the article talk about people express joy over the death of Raisi\"\n",
    "answers = \"A) Yes B) No\"\n",
    "get_LLM_QnA(\n",
    "    \"2024-05-19_hin.json\",\n",
    "    client,\n",
    "    model=\"gpt-4o\",\n",
    "    QnA_prompt=question,\n",
    "    QnA_answer=answers,\n",
    ")"
   ]
  },
  {
   "cell_type": "code",
   "execution_count": 40,
   "metadata": {},
   "outputs": [
    {
     "name": "stdout",
     "output_type": "stream",
     "text": [
      "Extracted answer: A\n",
      "Extracted answer: A\n",
      "Extracted answer: A\n",
      "Extracted answer: B\n",
      "Extracted answer: B\n",
      "Extracted answer: B\n",
      "Extracted answer: B\n",
      "Extracted answer: B\n",
      "Extracted answer: B\n",
      "Extracted answer: B\n"
     ]
    }
   ],
   "source": [
    "extract_answer_from_json(\"QnA_2024-05-19_eng.json\")"
   ]
  },
  {
   "cell_type": "code",
   "execution_count": 38,
   "metadata": {},
   "outputs": [
    {
     "name": "stdout",
     "output_type": "stream",
     "text": [
      "Extracted answer: B\n",
      "Extracted answer: B\n",
      "Extracted answer: B\n",
      "Extracted answer: B\n",
      "Extracted answer: B\n",
      "Extracted answer: B\n",
      "Extracted answer: B\n",
      "Extracted answer: B\n",
      "Extracted answer: B\n",
      "Extracted answer: B\n"
     ]
    }
   ],
   "source": [
    "extract_answer_from_json(\"QnA_2024-05-19_zho.json\")"
   ]
  },
  {
   "cell_type": "code",
   "execution_count": 42,
   "metadata": {},
   "outputs": [
    {
     "name": "stdout",
     "output_type": "stream",
     "text": [
      "Extracted answer: B\n",
      "Extracted answer: B\n",
      "Extracted answer: B\n",
      "Extracted answer: B\n",
      "Extracted answer: B\n",
      "Extracted answer: B\n",
      "Extracted answer: B\n",
      "Extracted answer: B\n",
      "Extracted answer: B\n",
      "Extracted answer: B\n"
     ]
    }
   ],
   "source": [
    "extract_answer_from_json(\"QnA_2024-05-19_hin.json\")"
   ]
  },
  {
   "cell_type": "markdown",
   "metadata": {},
   "source": [
    "# Save question and answer"
   ]
  },
  {
   "cell_type": "code",
   "execution_count": 43,
   "metadata": {},
   "outputs": [],
   "source": [
    "import csv\n",
    "\n",
    "# Q and A to be added as a new row\n",
    "new_row = [question, answers]\n",
    "\n",
    "# name of the csv file\n",
    "filename = \"QnA.csv\"\n",
    "\n",
    "# writing to csv file\n",
    "with open(filename, \"a\") as csvfile:\n",
    "    # creating a csv writer object\n",
    "    csvwriter = csv.writer(csvfile)\n",
    "\n",
    "    # writing the data row\n",
    "    csvwriter.writerow(new_row)"
   ]
  },
  {
   "cell_type": "code",
   "execution_count": 15,
   "metadata": {},
   "outputs": [],
   "source": [
    "def copy_LLM_QnA(\n",
    "    src_filename,\n",
    "    des_filename,\n",
    "    N=10,\n",
    "):\n",
    "    with open(des_filename, \"r\") as f:\n",
    "        data = f.read()\n",
    "        des_articles = json.loads(data)\n",
    "\n",
    "    with open(src_filename, \"r\") as f:\n",
    "        data = f.read()\n",
    "\n",
    "        src_articles = json.loads(data)\n",
    "        for n in range(N):\n",
    "            qna = {}\n",
    "            qna[\"Question\"] = src_articles[n][\"Question\"]\n",
    "            qna[\"Answers\"] = src_articles[n][\"Answers\"]\n",
    "            qna[\"LLM_answer\"] = src_articles[n][\"LLM_answer\"]\n",
    "            match = re.search(r\"\\s*([A-D])\\)\", qna[\"LLM_answer\"])\n",
    "            if match:\n",
    "                qna[\"post_LLM_answer\"] = match.group(1)\n",
    "            else:\n",
    "                qna[\"post_LLM_answer\"] = \"NaN\"\n",
    "\n",
    "            if \"QnA\" in des_articles[n]:\n",
    "                des_articles[n][\"QnA\"].append(qna)\n",
    "            else:\n",
    "                des_articles[n][\"QnA\"] = [qna]\n",
    "\n",
    "            # overwrite the file\n",
    "    with open(des_filename, \"w\") as f:\n",
    "        json.dump(des_articles, f, ensure_ascii=False, indent=4)"
   ]
  },
  {
   "cell_type": "code",
   "execution_count": 44,
   "metadata": {},
   "outputs": [],
   "source": [
    "copy_LLM_QnA(\n",
    "    src_filename=\"QnA_2024-05-19_hin.json\", des_filename=\"LLM_2024-05-19_hin.json\", N=10\n",
    ")\n",
    "copy_LLM_QnA(\n",
    "    src_filename=\"QnA_2024-05-19_eng.json\", des_filename=\"LLM_2024-05-19_eng.json\", N=10\n",
    ")\n",
    "copy_LLM_QnA(\n",
    "    src_filename=\"QnA_2024-05-19_zho.json\", des_filename=\"LLM_2024-05-19_zho.json\", N=10\n",
    ")"
   ]
  }
 ],
 "metadata": {
  "kernelspec": {
   "display_name": "my-env",
   "language": "python",
   "name": "python3"
  },
  "language_info": {
   "codemirror_mode": {
    "name": "ipython",
    "version": 3
   },
   "file_extension": ".py",
   "mimetype": "text/x-python",
   "name": "python",
   "nbconvert_exporter": "python",
   "pygments_lexer": "ipython3",
   "version": "3.11.5"
  }
 },
 "nbformat": 4,
 "nbformat_minor": 2
}
