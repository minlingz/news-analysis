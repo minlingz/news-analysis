{
 "cells": [
  {
   "cell_type": "code",
   "execution_count": 9,
   "metadata": {},
   "outputs": [],
   "source": [
    "import json\n",
    "import os\n",
    "import re\n",
    "\n",
    "\n",
    "def generate_JSON_for_GF(\n",
    "    src_filename,\n",
    "    template_filename=\"GF_template.json\",\n",
    "):\n",
    "\n",
    "    # add pre-defined section to from template\n",
    "    with open(template_filename, \"r\") as f:\n",
    "        des_section = json.load(f)\n",
    "\n",
    "    with open(src_filename, \"r\") as f:\n",
    "        data = f.read()\n",
    "\n",
    "        src_articles = json.loads(data)\n",
    "        for src_art in src_articles:\n",
    "            section_item = {}\n",
    "            section_item[\"type\"] = \"Section\"\n",
    "            section_item[\"title\"] = \"Article\"\n",
    "            section_item[\"description\"] = src_art[\"body\"]\n",
    "\n",
    "            des_section.append(section_item)\n",
    "\n",
    "            QnA = src_art[\"QnA\"]\n",
    "            for qna in QnA:\n",
    "                question_item = {}\n",
    "                question_item[\"type\"] = \"Dropdown\"\n",
    "                question_item[\"description\"] = \"\"\n",
    "                question_item[\"title\"] = qna[\"Question\"]\n",
    "                choices = re.split(\"(?=\\s[A-D]\\))\", qna[\"Answers\"])\n",
    "                question_item[\"choices\"] = choices\n",
    "                des_section.append(question_item)\n",
    "\n",
    "    des_filename = \"GF_\" + src_filename\n",
    "    if os.path.exists(des_filename):\n",
    "        os.remove(des_filename)\n",
    "    with open(des_filename, \"w\") as f:\n",
    "        json.dump(des_section, f, ensure_ascii=False, indent=4)"
   ]
  },
  {
   "cell_type": "code",
   "execution_count": 10,
   "metadata": {},
   "outputs": [],
   "source": [
    "generate_JSON_for_GF(\n",
    "    src_filename=\"LLM_2024-05-19_eng.json\", template_filename=\"GF_template.json\"\n",
    ")"
   ]
  },
  {
   "cell_type": "code",
   "execution_count": 11,
   "metadata": {},
   "outputs": [],
   "source": [
    "generate_JSON_for_GF(\n",
    "    src_filename=\"LLM_2024-05-19_hin.json\", template_filename=\"GF_template.json\"\n",
    ")"
   ]
  },
  {
   "cell_type": "code",
   "execution_count": 12,
   "metadata": {},
   "outputs": [],
   "source": [
    "generate_JSON_for_GF(\n",
    "    src_filename=\"LLM_2024-05-19_zho.json\", template_filename=\"GF_template.json\"\n",
    ")"
   ]
  }
 ],
 "metadata": {
  "kernelspec": {
   "display_name": "my-env",
   "language": "python",
   "name": "python3"
  },
  "language_info": {
   "codemirror_mode": {
    "name": "ipython",
    "version": 3
   },
   "file_extension": ".py",
   "mimetype": "text/x-python",
   "name": "python",
   "nbconvert_exporter": "python",
   "pygments_lexer": "ipython3",
   "version": "3.11.5"
  }
 },
 "nbformat": 4,
 "nbformat_minor": 2
}
