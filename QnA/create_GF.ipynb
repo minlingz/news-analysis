{
 "cells": [
  {
   "cell_type": "code",
   "execution_count": 44,
   "metadata": {},
   "outputs": [],
   "source": [
    "import json\n",
    "from google.oauth2 import service_account\n",
    "from googleapiclient.discovery import build\n",
    "\n",
    "# Replace with your service account credentials file\n",
    "SERVICE_ACCOUNT_FILE = \"../env/llmsummer2024-60489508c5f8.json\"\n",
    "user_email = \"minling.zhou@gmail.com\"\n",
    "# Scopes required for the API\n",
    "SCOPES = [\n",
    "    \"https://www.googleapis.com/auth/drive\",\n",
    "    \"https://www.googleapis.com/auth/forms.body\",\n",
    "]\n",
    "\n",
    "# Authenticate and create the service\n",
    "credentials = service_account.Credentials.from_service_account_file(\n",
    "    SERVICE_ACCOUNT_FILE, scopes=SCOPES\n",
    ")\n",
    "service = build(\"forms\", \"v1\", credentials=credentials)\n",
    "\n",
    "\n",
    "def create_form_from_json(json_file):\n",
    "    # Read JSON file\n",
    "    with open(json_file, \"r\") as file:\n",
    "        questions = json.load(file)\n",
    "\n",
    "    # Prepare form body\n",
    "    form_body = {\n",
    "        \"info\": {\n",
    "            \"title\": f\"Google Form from {json_file}\",\n",
    "            \"documentTitle\": f\"Google Form from {json_file}\",\n",
    "        },\n",
    "    }\n",
    "\n",
    "    # Create the form\n",
    "    form = service.forms().create(body=form_body).execute()\n",
    "    print(\"Form created: {}\".format(form[\"responderUri\"]))\n",
    "\n",
    "    # share the form\n",
    "    drive_service = build(\"drive\", \"v3\", credentials=credentials)\n",
    "\n",
    "    # Define the permissions\n",
    "    permissions_body = {\"type\": \"user\", \"role\": \"writer\", \"emailAddress\": user_email}\n",
    "\n",
    "    # Share the form\n",
    "    drive_service.permissions().create(\n",
    "        fileId=form[\"formId\"], body=permissions_body, fields=\"id\"\n",
    "    ).execute()\n",
    "    print(f\"Form shared with {user_email}\")\n",
    "\n",
    "    # Prepare items to be added\n",
    "    items = []\n",
    "    for i, question in enumerate(questions):\n",
    "        question_type = question[\"type\"]\n",
    "        title = question[\"title\"]\n",
    "        description = question[\"description\"]\n",
    "        choices = question.get(\"choices\", [])\n",
    "\n",
    "        if question_type == \"Section\":\n",
    "            question_item = {\n",
    "                \"title\": title,\n",
    "                \"description\": description,\n",
    "                \"pageBreakItem\": {},\n",
    "            }\n",
    "        elif question_type == \"Dropdown\":\n",
    "            question_item = {\n",
    "                \"title\": title,\n",
    "                \"description\": description,\n",
    "                \"questionItem\": {\n",
    "                    \"question\": {\n",
    "                        \"required\": True,\n",
    "                        \"choiceQuestion\": {\n",
    "                            \"type\": \"DROP_DOWN\",\n",
    "                            \"options\": [{\"value\": choice} for choice in choices],\n",
    "                        },\n",
    "                    }\n",
    "                },\n",
    "            }\n",
    "        elif question_type == \"Multiple Choice\":\n",
    "            question_item = {\n",
    "                \"title\": title,\n",
    "                \"description\": description,\n",
    "                \"questionItem\": {\n",
    "                    \"question\": {\n",
    "                        \"required\": True,\n",
    "                        \"choiceQuestion\": {\n",
    "                            \"type\": \"RADIO\",\n",
    "                            \"options\": [{\"value\": choice} for choice in choices],\n",
    "                        },\n",
    "                    }\n",
    "                },\n",
    "            }\n",
    "        elif question_type == \"Text\":\n",
    "            question_item = {\n",
    "                \"title\": title,\n",
    "                \"description\": description,\n",
    "                \"questionItem\": {\"question\": {\"required\": True, \"textQuestion\": {}}},\n",
    "            }\n",
    "        elif question_type == \"Date\":\n",
    "            question_item = {\n",
    "                \"title\": title,\n",
    "                \"description\": description,\n",
    "                \"questionItem\": {\"question\": {\"required\": True, \"dateQuestion\": {}}},\n",
    "            }\n",
    "\n",
    "        items.append({\"createItem\": {\"item\": question_item, \"location\": {\"index\": i}}})\n",
    "\n",
    "    # Update the form\n",
    "    service.forms().batchUpdate(\n",
    "        formId=form[\"formId\"],\n",
    "        body={\"requests\": items},\n",
    "    ).execute()"
   ]
  },
  {
   "cell_type": "markdown",
   "metadata": {},
   "source": [
    "# Generate Google Form from JSON file"
   ]
  },
  {
   "cell_type": "code",
   "execution_count": 45,
   "metadata": {},
   "outputs": [
    {
     "name": "stdout",
     "output_type": "stream",
     "text": [
      "Form created: https://docs.google.com/forms/d/e/1FAIpQLSccUe0PJRC5iLwhherB80XIeYxmnckm5jYKKqVxnNfKnQsZLQ/viewform\n",
      "Form shared with minling.zhou@gmail.com\n"
     ]
    }
   ],
   "source": [
    "# Path to your JSON file\n",
    "json_file_path = \"GF_LLM_2024-05-19_eng.json\"\n",
    "create_form_from_json(json_file_path)"
   ]
  },
  {
   "cell_type": "code",
   "execution_count": 46,
   "metadata": {},
   "outputs": [
    {
     "name": "stdout",
     "output_type": "stream",
     "text": [
      "Form created: https://docs.google.com/forms/d/e/1FAIpQLSc4IXHonfSwda27_tU6hmPURMaDK1puxfwFttJzF4XXB8OELQ/viewform\n",
      "Form shared with minling.zhou@gmail.com\n"
     ]
    }
   ],
   "source": [
    "# Path to your JSON file\n",
    "json_file_path = \"GF_LLM_2024-05-19_hin.json\"\n",
    "create_form_from_json(json_file_path)"
   ]
  },
  {
   "cell_type": "code",
   "execution_count": 47,
   "metadata": {},
   "outputs": [
    {
     "name": "stdout",
     "output_type": "stream",
     "text": [
      "Form created: https://docs.google.com/forms/d/e/1FAIpQLSdcXESV6Ev0_-G9HCL2ySNXsBmdH0eEbxEiCIGqVli7rPi2wA/viewform\n",
      "Form shared with minling.zhou@gmail.com\n"
     ]
    }
   ],
   "source": [
    "# Path to your JSON file\n",
    "json_file_path = \"GF_LLM_2024-05-19_zho.json\"\n",
    "create_form_from_json(json_file_path)"
   ]
  },
  {
   "cell_type": "markdown",
   "metadata": {},
   "source": [
    "# Share the google form"
   ]
  },
  {
   "cell_type": "code",
   "execution_count": 20,
   "metadata": {},
   "outputs": [
    {
     "name": "stdout",
     "output_type": "stream",
     "text": [
      "Form shared with minling.zhou@gmail.com\n"
     ]
    }
   ],
   "source": [
    "from google.oauth2.credentials import Credentials\n",
    "from google_auth_oauthlib.flow import InstalledAppFlow\n",
    "import os\n",
    "\n",
    "# Share the form with a specific email address\n",
    "user_email = \"minling.zhou@gmail.com\"  # Replace with your email address\n",
    "form_id = \"1D512HrppJIac82RkVruUNojmioTuMryu1fjA6JbIUq8\"\n",
    "SCOPES = [\n",
    "    \"https://www.googleapis.com/auth/drive\",\n",
    "    \"https://www.googleapis.com/auth/forms.body\",\n",
    "]\n",
    "\n",
    "credentials = service_account.Credentials.from_service_account_file(\n",
    "    SERVICE_ACCOUNT_FILE, scopes=SCOPES\n",
    ")\n",
    "\n",
    "drive_service = build(\"drive\", \"v3\", credentials=credentials)\n",
    "# Define the permissions\n",
    "permissions_body = {\"type\": \"user\", \"role\": \"writer\", \"emailAddress\": user_email}\n",
    "\n",
    "# Share the form\n",
    "drive_service.permissions().create(\n",
    "    fileId=form_id, body=permissions_body, fields=\"id\"\n",
    ").execute()\n",
    "print(f\"Form shared with {user_email}\")"
   ]
  },
  {
   "cell_type": "markdown",
   "metadata": {},
   "source": [
    "# List google form as the owner"
   ]
  },
  {
   "cell_type": "code",
   "execution_count": 42,
   "metadata": {},
   "outputs": [
    {
     "name": "stdout",
     "output_type": "stream",
     "text": [
      "No Google Forms found.\n"
     ]
    }
   ],
   "source": [
    "from google.oauth2 import service_account\n",
    "from googleapiclient.discovery import build\n",
    "\n",
    "# Replace with your service account credentials file\n",
    "SERVICE_ACCOUNT_FILE = \"../env/llmsummer2024-60489508c5f8.json\"\n",
    "\n",
    "# Scopes required for the API\n",
    "SCOPES = [\"https://www.googleapis.com/auth/drive.metadata.readonly\"]\n",
    "\n",
    "# Authenticate and create the service\n",
    "credentials = service_account.Credentials.from_service_account_file(\n",
    "    SERVICE_ACCOUNT_FILE, scopes=SCOPES\n",
    ")\n",
    "service = build(\"drive\", \"v3\", credentials=credentials)\n",
    "\n",
    "\n",
    "def list_google_forms():\n",
    "    # Query to find all Google Forms\n",
    "    query = \"mimeType='application/vnd.google-apps.form'\"\n",
    "\n",
    "    results = (\n",
    "        service.files().list(q=query, pageSize=100, fields=\"files(id, name)\").execute()\n",
    "    )\n",
    "    items = results.get(\"files\", [])\n",
    "\n",
    "    if not items:\n",
    "        print(\"No Google Forms found.\")\n",
    "    else:\n",
    "        print(\"Google Forms:\")\n",
    "        for item in items:\n",
    "            print(f\"{item['name']} (ID: {item['id']})\")\n",
    "\n",
    "\n",
    "# List all Google Forms\n",
    "list_google_forms()"
   ]
  },
  {
   "cell_type": "markdown",
   "metadata": {},
   "source": [
    "# Delete the google form by form id"
   ]
  },
  {
   "cell_type": "code",
   "execution_count": 41,
   "metadata": {},
   "outputs": [
    {
     "name": "stdout",
     "output_type": "stream",
     "text": [
      "Form with ID 1HDZIlaPmfDi1bpA-0MHDr8IDlcYZY-0O3E8Q4SYZyqU has been deleted successfully.\n"
     ]
    }
   ],
   "source": [
    "from google.oauth2 import service_account\n",
    "from googleapiclient.discovery import build\n",
    "\n",
    "# Path to your service account credentials file\n",
    "# Replace with your service account credentials file\n",
    "SERVICE_ACCOUNT_FILE = \"../env/llmsummer2024-60489508c5f8.json\"\n",
    "\n",
    "# Scopes required for the API\n",
    "SCOPES = [\"https://www.googleapis.com/auth/drive\"]\n",
    "\n",
    "# Authenticate and create the service\n",
    "credentials = service_account.Credentials.from_service_account_file(\n",
    "    SERVICE_ACCOUNT_FILE, scopes=SCOPES\n",
    ")\n",
    "drive_service = build(\"drive\", \"v3\", credentials=credentials)\n",
    "\n",
    "\n",
    "def delete_google_form(form_id):\n",
    "    try:\n",
    "        # Delete the form\n",
    "        drive_service.files().delete(fileId=form_id).execute()\n",
    "        print(f\"Form with ID {form_id} has been deleted successfully.\")\n",
    "    except Exception as e:\n",
    "        print(f\"An error occurred: {e}\")\n",
    "\n",
    "\n",
    "# The ID of the form you want to delete\n",
    "form_id = (\n",
    "    \"1HDZIlaPmfDi1bpA-0MHDr8IDlcYZY-0O3E8Q4SYZyqU\"  # Replace with your Google Form ID\n",
    ")\n",
    "\n",
    "# Call the function to delete the form\n",
    "delete_google_form(form_id)"
   ]
  }
 ],
 "metadata": {
  "kernelspec": {
   "display_name": "my-env",
   "language": "python",
   "name": "python3"
  },
  "language_info": {
   "codemirror_mode": {
    "name": "ipython",
    "version": 3
   },
   "file_extension": ".py",
   "mimetype": "text/x-python",
   "name": "python",
   "nbconvert_exporter": "python",
   "pygments_lexer": "ipython3",
   "version": "3.11.5"
  }
 },
 "nbformat": 4,
 "nbformat_minor": 2
}
