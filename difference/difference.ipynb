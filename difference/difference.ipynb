{
 "cells": [
  {
   "cell_type": "code",
   "execution_count": 1,
   "metadata": {},
   "outputs": [],
   "source": [
    "from openai import OpenAI\n",
    "import json, os, sys\n",
    "import os\n",
    "import re\n",
    "import random"
   ]
  },
  {
   "cell_type": "code",
   "execution_count": 2,
   "metadata": {},
   "outputs": [],
   "source": [
    "client = OpenAI(api_key=os.getenv(\"OPENAI_API_KEY\"))"
   ]
  },
  {
   "cell_type": "code",
   "execution_count": 3,
   "metadata": {},
   "outputs": [],
   "source": [
    "def generate_difference(chunk, client, model=\"gpt-4o\"):\n",
    "    prompt = f\"\"\"\n",
    "You are an expert in news analysis and skilled at capturing narrative difference. \n",
    "I have some news articles in English and Chinese and I need you to help me identify the narrative differences between them.\n",
    "\n",
    "{chunk}\n",
    "\n",
    "\n",
    "\"\"\"\n",
    "    messages = [{\"role\": \"user\", \"content\": prompt}]\n",
    "    try:\n",
    "        response = client.chat.completions.create(\n",
    "            model=model, messages=messages, temperature=0\n",
    "        )\n",
    "\n",
    "        content = response.choices[0].message.content\n",
    "        return content\n",
    "    except Exception as e:  # if the model fails to return a response\n",
    "        print(f\"Error: {e}\")\n",
    "        return \"Sorry, error from GPT.\""
   ]
  },
  {
   "cell_type": "code",
   "execution_count": 4,
   "metadata": {},
   "outputs": [],
   "source": [
    "def process_batches(input_file, output_file, client, model, label_a_index):\n",
    "    # Read the article from the input JSON file\n",
    "    with open(input_file, \"r\") as f:\n",
    "        articles = json.load(f)\n",
    "\n",
    "    # Extract summaries from the articles\n",
    "    article_body = [article[\"body\"] for article in articles]\n",
    "\n",
    "    # get the article body with the label_a_index list\n",
    "\n",
    "    article_a = [article_body[i] for i in label_a_index]\n",
    "\n",
    "    # convert the article to JSON string\n",
    "    chunk = json.dumps(article_a)\n",
    "\n",
    "    responses = []\n",
    "\n",
    "    difference = generate_difference(chunk, client, model=model)\n",
    "    responses.append(\n",
    "        {\n",
    "            \"Difference\": difference,\n",
    "        }\n",
    "    )\n",
    "\n",
    "    # Write the generated questions to the output JSON file\n",
    "    with open(output_file, \"w\") as f:\n",
    "        json.dump(responses, f, indent=4)"
   ]
  },
  {
   "cell_type": "code",
   "execution_count": 5,
   "metadata": {},
   "outputs": [],
   "source": [
    "import pandas as pd\n",
    "\n",
    "# read the label file\n",
    "labels = pd.read_csv(\"../BDP/labels_4o.csv\", header=None, names=[\"label\"])"
   ]
  },
  {
   "cell_type": "code",
   "execution_count": 6,
   "metadata": {},
   "outputs": [],
   "source": [
    "# get the label index if labe is 1\n",
    "label_a_index = list(labels[labels[\"label\"] == 7].index)\n",
    "# label_b_index = list(labels[labels[\"label\"] == 9].index)"
   ]
  },
  {
   "cell_type": "code",
   "execution_count": 7,
   "metadata": {},
   "outputs": [
    {
     "data": {
      "text/plain": [
       "[32, 37, 50, 65, 66, 69, 89, 100, 106, 110, 111, 113, 114, 116, 117]"
      ]
     },
     "execution_count": 7,
     "metadata": {},
     "output_type": "execute_result"
    }
   ],
   "source": [
    "label_a_index = label_a_index[:15]\n",
    "label_a_index"
   ]
  },
  {
   "cell_type": "code",
   "execution_count": 8,
   "metadata": {},
   "outputs": [],
   "source": [
    "# label_b_index"
   ]
  },
  {
   "cell_type": "code",
   "execution_count": 9,
   "metadata": {},
   "outputs": [],
   "source": [
    "input_file = \"../CA/combined_Territorial_disputes_in_the_South_China_Sea.json\"\n",
    "output_file = \"output_difference_7.json\"\n",
    "\n",
    "# Assuming you have your OpenAI API client initialized as `client`\n",
    "process_batches(\n",
    "    input_file,\n",
    "    output_file,\n",
    "    client,\n",
    "    model=\"gpt-4o\",\n",
    "    label_a_index=label_a_index,\n",
    ")"
   ]
  },
  {
   "cell_type": "code",
   "execution_count": 10,
   "metadata": {},
   "outputs": [
    {
     "name": "stdout",
     "output_type": "stream",
     "text": [
      "Certainly! Here are the narrative differences between the English and Chinese news articles regarding the Shangri-La Dialogue and related geopolitical issues:\n",
      "\n",
      "### English Articles:\n",
      "1. **Tone and Perspective**:\n",
      "   - The English articles generally adopt a more neutral or Western-aligned perspective, focusing on the strategic and diplomatic aspects of the Shangri-La Dialogue.\n",
      "   - They highlight the presence of key figures like Ukrainian President Volodymyr Zelensky and U.S. Defense Secretary Lloyd Austin, emphasizing their speeches and interactions.\n",
      "\n",
      "2. **Focus on Ukraine and Russia**:\n",
      "   - The English articles give significant attention to Zelensky's surprise appearance and his criticism of China for its stance on the Russia-Ukraine conflict.\n",
      "   - They discuss the broader implications of the conflict, including the potential for escalation and the role of international alliances.\n",
      "\n",
      "3. **U.S.-China Relations**:\n",
      "   - The articles emphasize the strained relations between the U.S. and China, particularly regarding Taiwan and the South China Sea.\n",
      "   - They highlight the U.S. efforts to build alliances in the Indo-Pacific region and the strategic importance of these alliances in countering China's influence.\n",
      "\n",
      "4. **Narrative on China's Actions**:\n",
      "   - The English articles often portray China's actions in the South China Sea and towards Taiwan as aggressive and expansionist.\n",
      "   - They include criticisms from various countries, including the Philippines and Australia, about China's maritime activities.\n",
      "\n",
      "5. **Diplomatic Interactions**:\n",
      "   - The articles detail the diplomatic interactions and speeches at the Shangri-La Dialogue, including the confrontations and exchanges between officials from different countries.\n",
      "   - They provide a detailed account of the speeches and the responses they elicited from the audience and other delegates.\n",
      "\n",
      "### Chinese Articles:\n",
      "1. **Tone and Perspective**:\n",
      "   - The Chinese articles adopt a more defensive and nationalistic tone, emphasizing China's stance on global security and its efforts to promote peace and stability.\n",
      "   - They highlight China's vision of a \"community with a shared future for mankind\" and its various global initiatives.\n",
      "\n",
      "2. **Focus on China's Position**:\n",
      "   - The articles emphasize China's restraint and its calls for dialogue and consultation to resolve disputes, particularly in the South China Sea and Taiwan.\n",
      "   - They criticize the U.S. and its allies for their \"hegemonic behavior\" and attempts to create bloc confrontations.\n",
      "\n",
      "3. **Narrative on U.S. Actions**:\n",
      "   - The Chinese articles accuse the U.S. of stoking tensions in the region and interfering in China's internal affairs, particularly regarding Taiwan.\n",
      "   - They highlight the U.S. military presence and alliance-building in the Indo-Pacific as destabilizing factors.\n",
      "\n",
      "4. **Diplomatic Interactions**:\n",
      "   - The articles provide a detailed account of Chinese Defense Minister Dong Jun's speeches and interactions at the Shangri-La Dialogue.\n",
      "   - They emphasize China's calls for mutual respect, equality, and non-interference in internal affairs.\n",
      "\n",
      "5. **Criticism of Other Countries**:\n",
      "   - The Chinese articles criticize the Philippines and other countries for their actions in the South China Sea, accusing them of being influenced by external powers like the U.S.\n",
      "   - They highlight China's efforts to maintain peace and stability in the region despite provocations.\n",
      "\n",
      "### Key Differences:\n",
      "- **Narrative Focus**: The English articles focus more on the strategic and diplomatic maneuvers of the U.S. and its allies, while the Chinese articles emphasize China's defensive stance and calls for peace and stability.\n",
      "- **Tone**: The English articles adopt a more critical tone towards China, portraying its actions as aggressive, whereas the Chinese articles adopt a defensive tone, criticizing the U.S. and its allies for their interference and provocations.\n",
      "- **Diplomatic Interactions**: The English articles highlight the confrontations and exchanges at the Shangri-La Dialogue, while the Chinese articles focus on China's efforts to promote dialogue and mutual respect.\n",
      "- **Geopolitical Context**: The English articles provide a broader geopolitical context, including the Russia-Ukraine conflict and its implications, while the Chinese articles focus more on regional issues in the South China Sea and Taiwan.\n",
      "\n",
      "These narrative differences reflect the broader geopolitical tensions and differing perspectives of the involved parties.\n"
     ]
    }
   ],
   "source": [
    "# print the value from JSON file\n",
    "\n",
    "with open(output_file, \"r\") as f:\n",
    "    output = json.load(f)[0]\n",
    "    print(output[\"Difference\"])"
   ]
  },
  {
   "cell_type": "markdown",
   "metadata": {},
   "source": [
    "The English and Chinese news articles on the incident involving the Chinese coast guard and the Philippine military in the South China Sea present differing narratives and emphases. Here are the key narrative differences:\n",
    "\n",
    "### 1. **Focus on Legitimacy and Sovereignty:**\n",
    "- **English Articles:**\n",
    "  - Emphasize the Philippines' claim to the Second Thomas Shoal based on international law, particularly the 2016 international arbitration ruling that invalidated China's expansive claims in the South China Sea.\n",
    "  - Highlight the Philippines' assertion that the shoal lies within its exclusive economic zone (EEZ).\n",
    "  - Mention the U.S. obligation to defend the Philippines under the mutual defense treaty if Filipino forces are attacked.\n",
    "\n",
    "- **Chinese Articles:**\n",
    "  - Stress China's historical and legal claims to the South China Sea, including the Second Thomas Shoal (referred to as Ren'ai Reef).\n",
    "  - Accuse the Philippines of illegal actions and provocations, including the grounding of the BRP Sierra Madre and the resupply missions.\n",
    "  - Emphasize China's demand for the Philippines to remove the grounded ship and cease provocations.\n",
    "\n",
    "### 2. **Characterization of Actions:**\n",
    "- **English Articles:**\n",
    "  - Describe the Chinese coast guard's actions as aggressive and illegal, including the seizure and dumping of food supplies meant for Filipino troops.\n",
    "  - Highlight the dangerous maneuvers and close encounters between Chinese and Philippine vessels.\n",
    "  - Report on the Philippines' condemnation of China's actions and calls for international support.\n",
    "\n",
    "- **Chinese Articles:**\n",
    "  - Portray the Chinese coast guard's actions as lawful and necessary to enforce China's sovereignty and prevent illegal activities by the Philippines.\n",
    "  - Accuse the Philippines of escalating tensions and violating agreements by attempting to resupply the grounded ship.\n",
    "  - Emphasize China's restraint and professionalism in handling the situation.\n",
    "\n",
    "### 3. **Narrative on Military Presence and Engagement:**\n",
    "- **English Articles:**\n",
    "  - Focus on the Philippine military's efforts to resupply their troops and the challenges posed by Chinese interference.\n",
    "  - Mention the professionalism and restraint of Filipino troops, denying any deliberate pointing of guns at Chinese personnel.\n",
    "  - Highlight the broader geopolitical implications, including the potential for U.S. involvement due to treaty obligations.\n",
    "\n",
    "- **Chinese Articles:**\n",
    "  - Accuse Filipino troops of provocative actions, including allegedly pointing guns at Chinese coast guard personnel.\n",
    "  - Emphasize the Chinese coast guard's role in maintaining order and preventing illegal activities.\n",
    "  - Highlight China's calls for the Philippines to return to dialogue and consultation to resolve disputes.\n",
    "\n",
    "### 4. **Public and Political Reactions:**\n",
    "- **English Articles:**\n",
    "  - Report on the reactions of Philippine officials, including condemnation of China's actions and calls for international support.\n",
    "  - Mention protests and public outcry in the Philippines against China's actions.\n",
    "  - Highlight statements from U.S. officials reaffirming support for the Philippines.\n",
    "\n",
    "- **Chinese Articles:**\n",
    "  - Focus on official statements from the Chinese government and foreign ministry, reiterating China's claims and condemning Philippine provocations.\n",
    "  - Emphasize China's calls for the Philippines to stop creating incidents and adhere to agreements.\n",
    "  - Highlight China's narrative of maintaining peace and stability in the region.\n",
    "\n",
    "### 5. **Context and Historical Background:**\n",
    "- **English Articles:**\n",
    "  - Provide background on the 2016 arbitration ruling and the historical context of the territorial disputes.\n",
    "  - Mention the strategic importance of the South China Sea and the involvement of other claimant countries.\n",
    "\n",
    "- **Chinese Articles:**\n",
    "  - Emphasize China's historical claims and the legal basis for its actions.\n",
    "  - Provide context on previous incidents and agreements, accusing the Philippines of repeatedly violating them.\n",
    "\n",
    "### Conclusion:\n",
    "The English articles generally present the Philippines as a victim of Chinese aggression, emphasizing international law and the need for international support. In contrast, the Chinese articles portray China as the rightful sovereign, enforcing its laws against Philippine provocations and calling for a return to dialogue. These narrative differences reflect the broader geopolitical tensions and differing perspectives on sovereignty and international law in the South China Sea dispute."
   ]
  },
  {
   "cell_type": "markdown",
   "metadata": {},
   "source": [
    "## Cluster 7"
   ]
  },
  {
   "cell_type": "markdown",
   "metadata": {},
   "source": [
    "Certainly! Here are the narrative differences between the English and Chinese news articles regarding the Shangri-La Dialogue and related geopolitical issues:\n",
    "\n",
    "### English Articles:\n",
    "1. **Tone and Perspective**:\n",
    "   - The English articles generally adopt a more neutral or Western-aligned perspective, focusing on the strategic and diplomatic aspects of the Shangri-La Dialogue.\n",
    "   - They highlight the presence of key figures like Ukrainian President Volodymyr Zelensky and U.S. Defense Secretary Lloyd Austin, emphasizing their speeches and interactions.\n",
    "\n",
    "2. **Focus on Ukraine and Russia**:\n",
    "   - The English articles give significant attention to Zelensky's surprise appearance and his criticism of China for its stance on the Russia-Ukraine conflict.\n",
    "   - They discuss the broader implications of the conflict, including the potential for escalation and the role of international alliances.\n",
    "\n",
    "3. **U.S.-China Relations**:\n",
    "   - The articles emphasize the strained relations between the U.S. and China, particularly regarding Taiwan and the South China Sea.\n",
    "   - They highlight the U.S. efforts to build alliances in the Indo-Pacific region and the strategic importance of these alliances in countering China's influence.\n",
    "\n",
    "4. **Narrative on China's Actions**:\n",
    "   - The English articles often portray China's actions in the South China Sea and towards Taiwan as aggressive and expansionist.\n",
    "   - They include criticisms from various countries, including the Philippines and Australia, about China's maritime activities.\n",
    "\n",
    "5. **Diplomatic Interactions**:\n",
    "   - The articles detail the diplomatic interactions and speeches at the Shangri-La Dialogue, including the confrontations and exchanges between officials from different countries.\n",
    "   - They provide a detailed account of the speeches and the responses they elicited from the audience and other delegates.\n",
    "\n",
    "### Chinese Articles:\n",
    "1. **Tone and Perspective**:\n",
    "   - The Chinese articles adopt a more defensive and nationalistic tone, emphasizing China's stance on global security and its efforts to promote peace and stability.\n",
    "   - They highlight China's vision of a \"community with a shared future for mankind\" and its various global initiatives.\n",
    "\n",
    "2. **Focus on China's Position**:\n",
    "   - The articles emphasize China's restraint and its calls for dialogue and consultation to resolve disputes, particularly in the South China Sea and Taiwan.\n",
    "   - They criticize the U.S. and its allies for their \"hegemonic behavior\" and attempts to create bloc confrontations.\n",
    "\n",
    "3. **Narrative on U.S. Actions**:\n",
    "   - The Chinese articles accuse the U.S. of stoking tensions in the region and interfering in China's internal affairs, particularly regarding Taiwan.\n",
    "   - They highlight the U.S. military presence and alliance-building in the Indo-Pacific as destabilizing factors.\n",
    "\n",
    "4. **Diplomatic Interactions**:\n",
    "   - The articles provide a detailed account of Chinese Defense Minister Dong Jun's speeches and interactions at the Shangri-La Dialogue.\n",
    "   - They emphasize China's calls for mutual respect, equality, and non-interference in internal affairs.\n",
    "\n",
    "5. **Criticism of Other Countries**:\n",
    "   - The Chinese articles criticize the Philippines and other countries for their actions in the South China Sea, accusing them of being influenced by external powers like the U.S.\n",
    "   - They highlight China's efforts to maintain peace and stability in the region despite provocations.\n",
    "\n",
    "### Key Differences:\n",
    "- **Narrative Focus**: The English articles focus more on the strategic and diplomatic maneuvers of the U.S. and its allies, while the Chinese articles emphasize China's defensive stance and calls for peace and stability.\n",
    "- **Tone**: The English articles adopt a more critical tone towards China, portraying its actions as aggressive, whereas the Chinese articles adopt a defensive tone, criticizing the U.S. and its allies for their interference and provocations.\n",
    "- **Diplomatic Interactions**: The English articles highlight the confrontations and exchanges at the Shangri-La Dialogue, while the Chinese articles focus on China's efforts to promote dialogue and mutual respect.\n",
    "- **Geopolitical Context**: The English articles provide a broader geopolitical context, including the Russia-Ukraine conflict and its implications, while the Chinese articles focus more on regional issues in the South China Sea and Taiwan.\n",
    "\n",
    "These narrative differences reflect the broader geopolitical tensions and differing perspectives of the involved parties."
   ]
  }
 ],
 "metadata": {
  "kernelspec": {
   "display_name": "env",
   "language": "python",
   "name": "python3"
  },
  "language_info": {
   "codemirror_mode": {
    "name": "ipython",
    "version": 3
   },
   "file_extension": ".py",
   "mimetype": "text/x-python",
   "name": "python",
   "nbconvert_exporter": "python",
   "pygments_lexer": "ipython3",
   "version": "3.11.5"
  }
 },
 "nbformat": 4,
 "nbformat_minor": 2
}
