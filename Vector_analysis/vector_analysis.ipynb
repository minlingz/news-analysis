{
 "cells": [
  {
   "cell_type": "code",
   "execution_count": 1,
   "metadata": {},
   "outputs": [],
   "source": [
    "import pandas as pd\n",
    "import numpy as np\n",
    "import warnings\n",
    "\n",
    "warnings.filterwarnings(\"ignore\")\n",
    "\n",
    "pd.set_option(\"mode.copy_on_write\", True)\n",
    "\n",
    "latent_vectors = pd.read_csv(\n",
    "    \"/Users/minlingzhou/Library/CloudStorage/OneDrive-DukeUniversity/vc/Summer/NarrativeNexus/data/latent_vector/latent_vectors_5.csv\",\n",
    "    header=None,\n",
    ")"
   ]
  },
  {
   "cell_type": "code",
   "execution_count": 2,
   "metadata": {},
   "outputs": [],
   "source": [
    "latent_vectors.rename(\n",
    "    columns={0: \"d0\", 1: \"d1\", 2: \"d2\", 3: \"d3\", 4: \"d4\"}, inplace=True\n",
    ")"
   ]
  },
  {
   "cell_type": "code",
   "execution_count": 3,
   "metadata": {},
   "outputs": [
    {
     "data": {
      "text/html": [
       "<div>\n",
       "<style scoped>\n",
       "    .dataframe tbody tr th:only-of-type {\n",
       "        vertical-align: middle;\n",
       "    }\n",
       "\n",
       "    .dataframe tbody tr th {\n",
       "        vertical-align: top;\n",
       "    }\n",
       "\n",
       "    .dataframe thead th {\n",
       "        text-align: right;\n",
       "    }\n",
       "</style>\n",
       "<table border=\"1\" class=\"dataframe\">\n",
       "  <thead>\n",
       "    <tr style=\"text-align: right;\">\n",
       "      <th></th>\n",
       "      <th>d0</th>\n",
       "      <th>d1</th>\n",
       "      <th>d2</th>\n",
       "      <th>d3</th>\n",
       "      <th>d4</th>\n",
       "    </tr>\n",
       "  </thead>\n",
       "  <tbody>\n",
       "    <tr>\n",
       "      <th>0</th>\n",
       "      <td>-3.795183</td>\n",
       "      <td>0.330126</td>\n",
       "      <td>-3.065162</td>\n",
       "      <td>-0.930737</td>\n",
       "      <td>-3.230841</td>\n",
       "    </tr>\n",
       "    <tr>\n",
       "      <th>1</th>\n",
       "      <td>-4.540903</td>\n",
       "      <td>-0.186621</td>\n",
       "      <td>-0.197622</td>\n",
       "      <td>1.868128</td>\n",
       "      <td>-4.527591</td>\n",
       "    </tr>\n",
       "    <tr>\n",
       "      <th>2</th>\n",
       "      <td>-5.385657</td>\n",
       "      <td>-2.320496</td>\n",
       "      <td>-4.145564</td>\n",
       "      <td>1.096804</td>\n",
       "      <td>-1.615107</td>\n",
       "    </tr>\n",
       "    <tr>\n",
       "      <th>3</th>\n",
       "      <td>-2.544352</td>\n",
       "      <td>1.825146</td>\n",
       "      <td>-0.812640</td>\n",
       "      <td>4.090239</td>\n",
       "      <td>3.297484</td>\n",
       "    </tr>\n",
       "    <tr>\n",
       "      <th>4</th>\n",
       "      <td>-2.537612</td>\n",
       "      <td>0.276029</td>\n",
       "      <td>3.807901</td>\n",
       "      <td>0.559974</td>\n",
       "      <td>-0.308866</td>\n",
       "    </tr>\n",
       "    <tr>\n",
       "      <th>...</th>\n",
       "      <td>...</td>\n",
       "      <td>...</td>\n",
       "      <td>...</td>\n",
       "      <td>...</td>\n",
       "      <td>...</td>\n",
       "    </tr>\n",
       "    <tr>\n",
       "      <th>595</th>\n",
       "      <td>-1.561392</td>\n",
       "      <td>5.190272</td>\n",
       "      <td>-0.049563</td>\n",
       "      <td>1.363981</td>\n",
       "      <td>0.157194</td>\n",
       "    </tr>\n",
       "    <tr>\n",
       "      <th>596</th>\n",
       "      <td>-1.561392</td>\n",
       "      <td>5.190271</td>\n",
       "      <td>-0.049564</td>\n",
       "      <td>1.363981</td>\n",
       "      <td>0.157195</td>\n",
       "    </tr>\n",
       "    <tr>\n",
       "      <th>597</th>\n",
       "      <td>2.318553</td>\n",
       "      <td>2.290906</td>\n",
       "      <td>0.120580</td>\n",
       "      <td>-0.960496</td>\n",
       "      <td>-5.078055</td>\n",
       "    </tr>\n",
       "    <tr>\n",
       "      <th>598</th>\n",
       "      <td>2.318552</td>\n",
       "      <td>2.290906</td>\n",
       "      <td>0.120580</td>\n",
       "      <td>-0.960495</td>\n",
       "      <td>-5.078054</td>\n",
       "    </tr>\n",
       "    <tr>\n",
       "      <th>599</th>\n",
       "      <td>1.433445</td>\n",
       "      <td>5.009815</td>\n",
       "      <td>-0.241256</td>\n",
       "      <td>-1.328716</td>\n",
       "      <td>1.085729</td>\n",
       "    </tr>\n",
       "  </tbody>\n",
       "</table>\n",
       "<p>600 rows × 5 columns</p>\n",
       "</div>"
      ],
      "text/plain": [
       "           d0        d1        d2        d3        d4\n",
       "0   -3.795183  0.330126 -3.065162 -0.930737 -3.230841\n",
       "1   -4.540903 -0.186621 -0.197622  1.868128 -4.527591\n",
       "2   -5.385657 -2.320496 -4.145564  1.096804 -1.615107\n",
       "3   -2.544352  1.825146 -0.812640  4.090239  3.297484\n",
       "4   -2.537612  0.276029  3.807901  0.559974 -0.308866\n",
       "..        ...       ...       ...       ...       ...\n",
       "595 -1.561392  5.190272 -0.049563  1.363981  0.157194\n",
       "596 -1.561392  5.190271 -0.049564  1.363981  0.157195\n",
       "597  2.318553  2.290906  0.120580 -0.960496 -5.078055\n",
       "598  2.318552  2.290906  0.120580 -0.960495 -5.078054\n",
       "599  1.433445  5.009815 -0.241256 -1.328716  1.085729\n",
       "\n",
       "[600 rows x 5 columns]"
      ]
     },
     "execution_count": 3,
     "metadata": {},
     "output_type": "execute_result"
    }
   ],
   "source": [
    "latent_vectors"
   ]
  },
  {
   "cell_type": "code",
   "execution_count": 4,
   "metadata": {},
   "outputs": [],
   "source": [
    "lv = pd.DataFrame(latent_vectors)"
   ]
  },
  {
   "cell_type": "code",
   "execution_count": 5,
   "metadata": {},
   "outputs": [],
   "source": [
    "lv[\"topic\"] = (\n",
    "    [\"Gaza\"] * 100\n",
    "    + [\"India Election\"] * 100\n",
    "    + [\"South China Sea Dispute\"] * 100\n",
    "    + [\"India Election\"] * 100\n",
    "    + [\"Gaza\"] * 100\n",
    "    + [\"South China Sea Dispute\"] * 100\n",
    ")"
   ]
  },
  {
   "cell_type": "code",
   "execution_count": 6,
   "metadata": {},
   "outputs": [],
   "source": [
    "import pandas as pd\n",
    "\n",
    "# Set the display option to None (no limit)\n",
    "pd.set_option(\"display.max_colwidth\", None)"
   ]
  },
  {
   "cell_type": "code",
   "execution_count": 7,
   "metadata": {},
   "outputs": [],
   "source": [
    "import json\n",
    "import pandas as pd\n",
    "\n",
    "\n",
    "def extract_answers(file, n=100):\n",
    "    with open(file) as f:\n",
    "        data = json.load(f)\n",
    "    # Initialize a list to store the extracted values\n",
    "    summary = []\n",
    "    for item in data:\n",
    "\n",
    "        if \"answers\" in item:\n",
    "            s = list(item[\"answers\"].values())\n",
    "            summary.append(s)\n",
    "    return summary[:n]\n",
    "\n",
    "\n",
    "# read the summary from json file\n",
    "answers = []\n",
    "file_list = pd.read_csv(\n",
    "    \"/Users/minlingzhou/Library/CloudStorage/OneDrive-DukeUniversity/vc/Summer/NarrativeNexus/data/meta_data/QnA_file_list.csv\"\n",
    ")\n",
    "for file in file_list[\"file_name\"]:\n",
    "    s = extract_answers(\n",
    "        \"/Users/minlingzhou/Library/CloudStorage/OneDrive-DukeUniversity/vc/Summer/NarrativeNexus/data/QnA_data/\"\n",
    "        + file\n",
    "    )\n",
    "    answers = answers + s"
   ]
  },
  {
   "cell_type": "code",
   "execution_count": 8,
   "metadata": {},
   "outputs": [
    {
     "data": {
      "text/plain": [
       "(600, 80)"
      ]
     },
     "execution_count": 8,
     "metadata": {},
     "output_type": "execute_result"
    }
   ],
   "source": [
    "# convert the summary a numpy array of 600 * 80\n",
    "answers = np.array(answers)\n",
    "answers.shape"
   ]
  },
  {
   "cell_type": "code",
   "execution_count": 9,
   "metadata": {},
   "outputs": [],
   "source": [
    "lv[\"answers\"] = answers.tolist()"
   ]
  },
  {
   "cell_type": "code",
   "execution_count": 10,
   "metadata": {},
   "outputs": [],
   "source": [
    "def get_intersection(lv, column, top_n):\n",
    "    top_n_summary = lv.sort_values(by=column, ascending=False).head(top_n)[\"answers\"]\n",
    "    top_n_summary_list = top_n_summary.to_list()\n",
    "    top_n_summary_list = [list(i) for i in zip(*top_n_summary_list)]\n",
    "    top_n_summary_unique = [(set(i)) for i in top_n_summary_list]\n",
    "\n",
    "    bottom_n_summary = lv.sort_values(by=column, ascending=True).head(top_n)[\"answers\"]\n",
    "    bottom_n_summary_list = bottom_n_summary.to_list()\n",
    "    bottom_n_summary_list = [list(i) for i in zip(*bottom_n_summary_list)]\n",
    "    bottom_n_summary_unique = [(set(i)) for i in bottom_n_summary_list]\n",
    "\n",
    "    for j in range(80):\n",
    "        intersection = [\n",
    "            i for i in top_n_summary_unique[j] if i in bottom_n_summary_unique[j]\n",
    "        ]\n",
    "        if len(intersection) == 0:\n",
    "            print(j + 1, top_n_summary_unique[j], bottom_n_summary_unique[j])"
   ]
  },
  {
   "cell_type": "code",
   "execution_count": 11,
   "metadata": {},
   "outputs": [],
   "source": [
    "topic_mean = pd.DataFrame(lv.groupby(\"topic\").mean())"
   ]
  },
  {
   "cell_type": "code",
   "execution_count": 12,
   "metadata": {},
   "outputs": [
    {
     "data": {
      "text/plain": [
       "Index(['Gaza', 'India Election', 'South China Sea Dispute'], dtype='object', name='topic')"
      ]
     },
     "execution_count": 12,
     "metadata": {},
     "output_type": "execute_result"
    }
   ],
   "source": [
    "topic_mean.index"
   ]
  },
  {
   "cell_type": "code",
   "execution_count": 13,
   "metadata": {},
   "outputs": [
    {
     "data": {
      "image/png": "[encoded data removed]",
      "text/plain": [
       "<Figure size 1500x500 with 5 Axes>"
      ]
     },
     "metadata": {},
     "output_type": "display_data"
    }
   ],
   "source": [
    "# plot 5 subplot, each plot for one dimension and all topics, y-axis is the mean value of the dimension\n",
    "import matplotlib.pyplot as plt\n",
    "import seaborn as sns\n",
    "\n",
    "color_mapping = {\n",
    "    \"Gaza\": \"blue\",\n",
    "    \"India Election\": \"green\",\n",
    "    \"South China Sea Dispute\": \"red\",\n",
    "}\n",
    "\n",
    "fig, axs = plt.subplots(1, 5, figsize=(15, 5))\n",
    "for i in range(5):\n",
    "    colors = [color_mapping[x] for x in topic_mean.index]\n",
    "    sns.barplot(\n",
    "        x=topic_mean.index,\n",
    "        y=topic_mean.iloc[:, i],\n",
    "        ax=axs[i],\n",
    "        palette=colors,\n",
    "        hue=topic_mean.index,\n",
    "    )\n",
    "    axs[i].set_title(\"Dimension \" + str(i))\n",
    "    axs[i].set_xticklabels(\n",
    "        axs[i].get_xticklabels(), rotation=45, horizontalalignment=\"right\"\n",
    "    )\n",
    "    axs[i].set_ylabel(\"Mean Value\")\n",
    "    axs[i].set_xlabel(\"\")\n",
    "plt.tight_layout()\n",
    "plt.show()"
   ]
  },
  {
   "cell_type": "code",
   "execution_count": 14,
   "metadata": {},
   "outputs": [
    {
     "name": "stdout",
     "output_type": "stream",
     "text": [
      "1 {'E'} {'C'}\n",
      "3 {'E'} {'A'}\n",
      "5 {'E'} {'A'}\n",
      "6 {'E'} {'A', 'D'}\n",
      "7 {'E'} {'B', 'C'}\n",
      "8 {'E'} {'C'}\n",
      "10 {'E'} {'A'}\n",
      "13 {'E'} {'D'}\n",
      "14 {'E'} {'B'}\n",
      "16 {'B'} {'A'}\n",
      "23 {'B'} {'A'}\n",
      "25 {'B'} {'A'}\n",
      "30 {'B'} {'A'}\n",
      "33 {'B'} {'A'}\n"
     ]
    }
   ],
   "source": [
    "get_intersection(lv, \"d0\", 3)"
   ]
  },
  {
   "cell_type": "code",
   "execution_count": 15,
   "metadata": {},
   "outputs": [
    {
     "name": "stdout",
     "output_type": "stream",
     "text": [
      "1 {'E'} {'D', 'C'}\n",
      "3 {'E'} {'A', 'D'}\n"
     ]
    }
   ],
   "source": [
    "get_intersection(lv, \"d0\", 4)"
   ]
  },
  {
   "cell_type": "code",
   "execution_count": 16,
   "metadata": {},
   "outputs": [
    {
     "name": "stdout",
     "output_type": "stream",
     "text": [
      "1 {'E'} {'D', 'B', 'C'}\n",
      "3 {'E'} {'A', 'D'}\n"
     ]
    }
   ],
   "source": [
    "get_intersection(lv, \"d0\", 8)"
   ]
  },
  {
   "cell_type": "code",
   "execution_count": 17,
   "metadata": {},
   "outputs": [
    {
     "name": "stdout",
     "output_type": "stream",
     "text": [
      "3 {'E'} {'A', 'D'}\n"
     ]
    }
   ],
   "source": [
    "get_intersection(lv, \"d0\", 9)"
   ]
  },
  {
   "cell_type": "markdown",
   "metadata": {},
   "source": [
    "## d0: Humanitarian impact and casualties/Gaza\""
   ]
  },
  {
   "cell_type": "code",
   "execution_count": 18,
   "metadata": {},
   "outputs": [
    {
     "name": "stdout",
     "output_type": "stream",
     "text": [
      "3 {'D'} {'E'}\n",
      "32 {'A'} {'B'}\n",
      "40 {'D', 'B'} {'A'}\n",
      "43 {'D'} {'A'}\n",
      "44 {'E'} {'C'}\n",
      "46 {'D'} {'C'}\n",
      "47 {'D', 'B'} {'A', 'C'}\n",
      "49 {'D'} {'C'}\n",
      "50 {'D'} {'A', 'C'}\n",
      "56 {'D'} {'A', 'C'}\n",
      "57 {'D'} {'A'}\n",
      "60 {'A'} {'B'}\n",
      "61 {'A'} {'B'}\n",
      "62 {'A'} {'B'}\n",
      "63 {'A'} {'B'}\n",
      "67 {'A'} {'B'}\n",
      "68 {'A'} {'B'}\n",
      "73 {'A'} {'B'}\n",
      "74 {'A'} {'B'}\n",
      "78 {'A'} {'B'}\n",
      "80 {'A', 'C'} {'E'}\n"
     ]
    }
   ],
   "source": [
    "get_intersection(lv, \"d1\", 3)"
   ]
  },
  {
   "cell_type": "code",
   "execution_count": 19,
   "metadata": {},
   "outputs": [
    {
     "name": "stdout",
     "output_type": "stream",
     "text": [
      "32 {'A'} {'B'}\n",
      "40 {'C', 'D', 'B'} {'A'}\n",
      "61 {'A'} {'B'}\n",
      "62 {'A'} {'B'}\n",
      "73 {'A'} {'B'}\n",
      "74 {'A'} {'B'}\n"
     ]
    }
   ],
   "source": [
    "get_intersection(lv, \"d1\", 33)"
   ]
  },
  {
   "cell_type": "code",
   "execution_count": 20,
   "metadata": {},
   "outputs": [
    {
     "name": "stdout",
     "output_type": "stream",
     "text": [
      "32 {'A'} {'B'}\n"
     ]
    }
   ],
   "source": [
    "get_intersection(lv, \"d1\", 34)"
   ]
  },
  {
   "cell_type": "markdown",
   "metadata": {},
   "source": [
    "## d1: \"political statements or negotiations\""
   ]
  },
  {
   "cell_type": "code",
   "execution_count": 21,
   "metadata": {},
   "outputs": [
    {
     "name": "stdout",
     "output_type": "stream",
     "text": [
      "3 {'E'} {'A'}\n",
      "5 {'E'} {'A'}\n",
      "32 {'A'} {'B'}\n",
      "38 {'A'} {'E'}\n",
      "39 {'A', 'C'} {'D'}\n",
      "40 {'A'} {'D'}\n",
      "41 {'A'} {'D'}\n",
      "42 {'A'} {'D'}\n",
      "44 {'C'} {'E'}\n",
      "46 {'C'} {'D'}\n",
      "47 {'A'} {'D'}\n",
      "49 {'C'} {'D'}\n",
      "51 {'A'} {'D'}\n",
      "59 {'A', 'C'} {'D'}\n",
      "80 {'B'} {'E'}\n"
     ]
    }
   ],
   "source": [
    "get_intersection(lv, \"d2\", 3)"
   ]
  },
  {
   "cell_type": "code",
   "execution_count": 21,
   "metadata": {},
   "outputs": [
    {
     "name": "stdout",
     "output_type": "stream",
     "text": [
      "38 {'A'} {'D', 'E'}\n",
      "39 {'A', 'E', 'C'} {'D'}\n",
      "40 {'A'} {'D'}\n",
      "41 {'A', 'B'} {'D'}\n",
      "42 {'A', 'B', 'C'} {'D'}\n",
      "44 {'B', 'C'} {'E'}\n",
      "46 {'B', 'C'} {'D'}\n",
      "47 {'A', 'B'} {'D'}\n",
      "59 {'A', 'C'} {'D'}\n"
     ]
    }
   ],
   "source": [
    "get_intersection(lv, \"d2\", 30)"
   ]
  },
  {
   "cell_type": "code",
   "execution_count": 22,
   "metadata": {},
   "outputs": [
    {
     "name": "stdout",
     "output_type": "stream",
     "text": [
      "38 {'A'} {'E', 'D'}\n",
      "40 {'A'} {'D'}\n",
      "42 {'A', 'C', 'B'} {'D'}\n",
      "46 {'C', 'B'} {'D'}\n",
      "47 {'A', 'B'} {'D'}\n",
      "59 {'A', 'C'} {'D'}\n"
     ]
    }
   ],
   "source": [
    "get_intersection(lv, \"d2\", 40)"
   ]
  },
  {
   "cell_type": "code",
   "execution_count": 23,
   "metadata": {},
   "outputs": [
    {
     "name": "stdout",
     "output_type": "stream",
     "text": [
      "38 {'A'} {'E', 'D'}\n",
      "40 {'A', 'C'} {'D'}\n",
      "46 {'C', 'B'} {'D'}\n"
     ]
    }
   ],
   "source": [
    "get_intersection(lv, \"d2\", 45)"
   ]
  },
  {
   "cell_type": "code",
   "execution_count": 24,
   "metadata": {},
   "outputs": [
    {
     "name": "stdout",
     "output_type": "stream",
     "text": [
      "38 {'A'} {'E', 'D'}\n",
      "40 {'A', 'C'} {'D'}\n"
     ]
    }
   ],
   "source": [
    "get_intersection(lv, \"d2\", 50)"
   ]
  },
  {
   "cell_type": "code",
   "execution_count": 25,
   "metadata": {},
   "outputs": [
    {
     "name": "stdout",
     "output_type": "stream",
     "text": [
      "40 {'A', 'C'} {'D'}\n"
     ]
    }
   ],
   "source": [
    "get_intersection(lv, \"d2\", 55)"
   ]
  },
  {
   "cell_type": "markdown",
   "metadata": {},
   "source": [
    "## d2: \"Political alliances, election results, India\""
   ]
  },
  {
   "cell_type": "code",
   "execution_count": 18,
   "metadata": {},
   "outputs": [
    {
     "name": "stdout",
     "output_type": "stream",
     "text": [
      "1 {'B'} {'E'}\n",
      "2 {'A'} {'E'}\n",
      "3 {'A'} {'E'}\n",
      "4 {'D'} {'E'}\n",
      "5 {'E'} {'A'}\n",
      "6 {'A'} {'E'}\n",
      "7 {'B'} {'E'}\n",
      "8 {'D'} {'E'}\n",
      "9 {'A'} {'D'}\n",
      "12 {'A'} {'E'}\n",
      "13 {'D'} {'E'}\n",
      "15 {'A'} {'B'}\n",
      "16 {'A'} {'B'}\n",
      "18 {'A'} {'B'}\n",
      "23 {'A'} {'B'}\n",
      "32 {'A'} {'B'}\n",
      "48 {'A'} {'E'}\n",
      "51 {'A'} {'D'}\n",
      "80 {'C'} {'E'}\n"
     ]
    }
   ],
   "source": [
    "get_intersection(lv, \"d3\", 1)"
   ]
  },
  {
   "cell_type": "code",
   "execution_count": 26,
   "metadata": {},
   "outputs": [
    {
     "name": "stdout",
     "output_type": "stream",
     "text": [
      "1 {'B'} {'E', 'D'}\n",
      "2 {'A'} {'E', 'B'}\n",
      "3 {'A'} {'E'}\n",
      "4 {'D'} {'E'}\n",
      "5 {'E'} {'A'}\n",
      "6 {'A'} {'E'}\n",
      "7 {'B'} {'E'}\n",
      "8 {'D'} {'E'}\n",
      "9 {'A'} {'E', 'D'}\n",
      "12 {'A'} {'E'}\n",
      "13 {'D'} {'E'}\n",
      "16 {'A'} {'B'}\n",
      "23 {'A'} {'B'}\n",
      "32 {'A'} {'B'}\n",
      "48 {'A'} {'E'}\n",
      "51 {'A'} {'D'}\n",
      "80 {'C'} {'E'}\n"
     ]
    }
   ],
   "source": [
    "get_intersection(lv, \"d3\", 3)"
   ]
  },
  {
   "cell_type": "code",
   "execution_count": 27,
   "metadata": {},
   "outputs": [
    {
     "name": "stdout",
     "output_type": "stream",
     "text": [
      "3 {'A'} {'E'}\n",
      "8 {'C', 'D'} {'E'}\n",
      "9 {'A'} {'E', 'D'}\n",
      "12 {'A', 'D'} {'E'}\n",
      "13 {'D'} {'E'}\n",
      "48 {'A'} {'E', 'B'}\n"
     ]
    }
   ],
   "source": [
    "get_intersection(lv, \"d3\", 17)"
   ]
  },
  {
   "cell_type": "code",
   "execution_count": 28,
   "metadata": {},
   "outputs": [
    {
     "name": "stdout",
     "output_type": "stream",
     "text": [
      "48 {'A'} {'E', 'B'}\n"
     ]
    }
   ],
   "source": [
    "get_intersection(lv, \"d3\", 20)"
   ]
  },
  {
   "cell_type": "code",
   "execution_count": 29,
   "metadata": {},
   "outputs": [
    {
     "name": "stdout",
     "output_type": "stream",
     "text": [
      "48 {'A'} {'E', 'B'}\n"
     ]
    }
   ],
   "source": [
    "get_intersection(lv, \"d3\", 28)"
   ]
  },
  {
   "cell_type": "markdown",
   "metadata": {},
   "source": [
    "## d3: \"Official statements and reports\""
   ]
  },
  {
   "cell_type": "code",
   "execution_count": 19,
   "metadata": {},
   "outputs": [
    {
     "name": "stdout",
     "output_type": "stream",
     "text": [
      "1 {'E'} {'C'}\n",
      "2 {'E'} {'A'}\n",
      "3 {'E'} {'A'}\n",
      "4 {'E'} {'A'}\n",
      "5 {'E'} {'A'}\n",
      "7 {'E'} {'C'}\n",
      "8 {'E'} {'C'}\n",
      "9 {'E'} {'A'}\n",
      "10 {'E'} {'A'}\n",
      "11 {'E'} {'B'}\n",
      "12 {'E'} {'D'}\n",
      "13 {'E'} {'D'}\n",
      "14 {'E'} {'A'}\n",
      "15 {'B'} {'A'}\n",
      "24 {'B'} {'A'}\n",
      "27 {'B'} {'A'}\n",
      "30 {'B'} {'A'}\n",
      "31 {'B'} {'A'}\n",
      "32 {'B'} {'A'}\n",
      "33 {'B'} {'A'}\n",
      "34 {'B'} {'A'}\n",
      "38 {'E'} {'D'}\n",
      "39 {'E', 'B'} {'D'}\n",
      "40 {'A'} {'D'}\n",
      "41 {'E'} {'D'}\n",
      "42 {'E'} {'D'}\n",
      "46 {'E', 'C'} {'D'}\n",
      "47 {'A', 'E'} {'D'}\n",
      "51 {'D'} {'A'}\n",
      "80 {'E'} {'B'}\n"
     ]
    }
   ],
   "source": [
    "get_intersection(lv, \"d4\", 2)"
   ]
  },
  {
   "cell_type": "code",
   "execution_count": 30,
   "metadata": {},
   "outputs": [
    {
     "name": "stdout",
     "output_type": "stream",
     "text": [
      "1 {'E', 'D'} {'C', 'B'}\n",
      "2 {'E'} {'A'}\n",
      "4 {'E'} {'A', 'D'}\n",
      "7 {'E'} {'C'}\n",
      "8 {'E'} {'C', 'D'}\n",
      "12 {'E'} {'A', 'D'}\n",
      "27 {'B'} {'A'}\n",
      "30 {'B'} {'A'}\n",
      "31 {'B'} {'A'}\n",
      "32 {'B'} {'A'}\n",
      "33 {'B'} {'A'}\n",
      "34 {'B'} {'A'}\n",
      "51 {'D'} {'A'}\n",
      "80 {'E'} {'C', 'B'}\n"
     ]
    }
   ],
   "source": [
    "get_intersection(lv, \"d4\", 3)"
   ]
  },
  {
   "cell_type": "code",
   "execution_count": 31,
   "metadata": {},
   "outputs": [
    {
     "name": "stdout",
     "output_type": "stream",
     "text": [
      "1 {'E', 'D'} {'C', 'B'}\n",
      "2 {'E'} {'A'}\n",
      "32 {'B'} {'A'}\n",
      "80 {'E'} {'C', 'B'}\n"
     ]
    }
   ],
   "source": [
    "get_intersection(lv, \"d4\", 5)"
   ]
  },
  {
   "cell_type": "code",
   "execution_count": 20,
   "metadata": {},
   "outputs": [
    {
     "name": "stdout",
     "output_type": "stream",
     "text": [
      "1 {'D', 'E'} {'A', 'B', 'C'}\n",
      "2 {'E'} {'A'}\n"
     ]
    }
   ],
   "source": [
    "get_intersection(lv, \"d4\", 19)"
   ]
  },
  {
   "cell_type": "code",
   "execution_count": 32,
   "metadata": {},
   "outputs": [
    {
     "name": "stdout",
     "output_type": "stream",
     "text": [
      "1 {'E', 'D'} {'A', 'C', 'B'}\n",
      "2 {'E'} {'A'}\n"
     ]
    }
   ],
   "source": [
    "get_intersection(lv, \"d4\", 20)"
   ]
  },
  {
   "cell_type": "code",
   "execution_count": 33,
   "metadata": {},
   "outputs": [
    {
     "name": "stdout",
     "output_type": "stream",
     "text": [
      "1 {'E', 'D'} {'A', 'C', 'B'}\n"
     ]
    }
   ],
   "source": [
    "get_intersection(lv, \"d4\", 21)"
   ]
  },
  {
   "cell_type": "markdown",
   "metadata": {},
   "source": [
    "## d4: United Nations"
   ]
  },
  {
   "cell_type": "markdown",
   "metadata": {},
   "source": [
    "# Create plot"
   ]
  },
  {
   "cell_type": "code",
   "execution_count": 34,
   "metadata": {},
   "outputs": [],
   "source": [
    "import plotly.graph_objs as go\n",
    "import pandas as pd\n",
    "import json\n",
    "import numpy as np\n",
    "from sklearn.manifold import TSNE\n",
    "\n",
    "pd.set_option(\"mode.copy_on_write\", True)\n",
    "\n",
    "\n",
    "def extract_summary(file):\n",
    "    with open(file) as f:\n",
    "        data = json.load(f)\n",
    "    # Initialize a list to store the extracted values\n",
    "    summary = []\n",
    "    for item in data:\n",
    "        if \"summary\" in item:\n",
    "            s = item[\"summary\"]\n",
    "            summary.append(s)\n",
    "    return summary\n",
    "\n",
    "\n",
    "latent_vectors = pd.read_csv(\n",
    "    \"/Users/minlingzhou/Library/CloudStorage/OneDrive-DukeUniversity/vc/Summer/NarrativeNexus/data/latent_vector/latent_vectors_5.csv\",\n",
    "    header=None,\n",
    ")"
   ]
  },
  {
   "cell_type": "code",
   "execution_count": 35,
   "metadata": {},
   "outputs": [],
   "source": [
    "latent_vectors.rename(\n",
    "    columns={0: \"d0\", 1: \"d1\", 2: \"d2\", 3: \"d3\", 4: \"d4\"}, inplace=True\n",
    ")"
   ]
  },
  {
   "cell_type": "code",
   "execution_count": 36,
   "metadata": {},
   "outputs": [],
   "source": [
    "v_2d_df = pd.DataFrame(latent_vectors)\n",
    "\n",
    "v_2d_df[\"topic\"] = (\n",
    "    [\"Gaza\"] * 100\n",
    "    + [\"India Election\"] * 100\n",
    "    + [\"South China Sea Dispute\"] * 100\n",
    "    + [\"India Election\"] * 100\n",
    "    + [\"Gaza\"] * 100\n",
    "    + [\"South China Sea Dispute\"] * 100\n",
    ")\n",
    "\n",
    "# read the summary from json file\n",
    "summary = []\n",
    "file_list = pd.read_csv(\n",
    "    \"/Users/minlingzhou/Library/CloudStorage/OneDrive-DukeUniversity/vc/Summer/NarrativeNexus/data/meta_data/QnA_file_list.csv\"\n",
    ")\n",
    "for file in file_list[\"file_name\"]:\n",
    "    s = extract_summary(\n",
    "        \"/Users/minlingzhou/Library/CloudStorage/OneDrive-DukeUniversity/vc/Summer/NarrativeNexus/data/QnA_data/\"\n",
    "        + file\n",
    "    )\n",
    "    summary = summary + s\n",
    "v_2d_df[\"summary\"] = summary\n",
    "\n",
    "\n",
    "# Function to format summaries for hover text\n",
    "def format_summary(text):\n",
    "    return text.replace(\"\\n\", \"<br>\")\n",
    "\n",
    "\n",
    "v_2d_df[\"formatted_summary\"] = v_2d_df[\"summary\"].apply(format_summary)\n",
    "\n",
    "# Plot using Plotly\n",
    "# Create a color mapping for languages\n",
    "color_map = {\n",
    "    \"Gaza\": \"blue\",\n",
    "    \"South China Sea Dispute\": \"red\",\n",
    "    \"India Election\": \"green\",\n",
    "}\n",
    "v_2d_df[\"color\"] = v_2d_df[\"topic\"].map(color_map)\n",
    "\n",
    "# Create a symbol mapping for languages\n",
    "symbol_map = {\n",
    "    \"Gaza\": \"circle\",\n",
    "    \"South China Sea Dispute\": \"x\",\n",
    "    \"India Election\": \"triangle-up\",\n",
    "}\n",
    "\n",
    "v_2d_df[\"symbol\"] = v_2d_df[\"topic\"].map(symbol_map)\n",
    "\n",
    "# Create traces for each topic\n",
    "traces = []\n",
    "for topic in v_2d_df[\"topic\"].unique():\n",
    "    df = v_2d_df[v_2d_df[\"topic\"] == topic]\n",
    "    trace = go.Scatter(\n",
    "        x=df[\"d4\"],\n",
    "        y=df[\"d0\"],\n",
    "        mode=\"markers\",\n",
    "        name=topic,\n",
    "        marker=dict(color=color_map[topic], symbol=symbol_map[topic], size=6),\n",
    "        customdata=df[[\"formatted_summary\"]],\n",
    "        # hovertemplate=\"<b>%{customdata[0]}</b><extra></extra>\",\n",
    "        hoverinfo=\"none\",\n",
    "    )\n",
    "    traces.append(trace)\n",
    "\n",
    "# Create the layout\n",
    "layout = go.Layout(\n",
    "    title=\"Latent Vector Visualization of News Articles\",\n",
    "    xaxis=dict(title=\"Dimension 4\"),\n",
    "    yaxis=dict(title=\"Dimension 0\"),\n",
    "    showlegend=True,\n",
    ")\n",
    "\n",
    "# Create the figure\n",
    "fig = go.Figure(data=traces, layout=layout)\n",
    "\n",
    "# Customize the hover template to instruct user to hover\n",
    "# fig.update_traces(\n",
    "#    hovertemplate=\"<b>Hover over a point to see the summary</b><extra></extra>\",\n",
    "#    customdata=v_2d_df[[\"formatted_summary\"]].values,\n",
    "# )\n",
    "# Update layout to adjust the width of the scatter plot\n",
    "# fig.update_layout(width=1000)  # Set the width in pixels\n",
    "\n",
    "# Save the plot as an HTML file with embedded JavaScript and CSS\n",
    "html_content = f\"\"\"\n",
    "<html>\n",
    "<head>\n",
    "    <title>Interactive Plot</title>\n",
    "    <script src=\"https://cdn.plot.ly/plotly-latest.min.js\"></script>\n",
    "    <style>\n",
    "        #summary-box {{\n",
    "            position: absolute;\n",
    "            top: 10px;\n",
    "            right: 10px;\n",
    "            width: 30vw;\n",
    "            max-height: 98vh;\n",
    "            overflow-y: auto;\n",
    "            background-color: white;\n",
    "            border: 1px solid black;\n",
    "            padding: 10px;\n",
    "            z-index: 1000;\n",
    "            white-space: pre-line;\n",
    "        }}\n",
    "    </style>\n",
    "</head>\n",
    "<body>\n",
    "    <div id=\"plot\">{fig.to_html(full_html=False, include_plotlyjs='cdn')}</div>\n",
    "    <div id=\"summary-box\">Hover over a point to see the summary here.</div>\n",
    "    <script>\n",
    "        document.addEventListener('DOMContentLoaded', function() {{\n",
    "            const plotDiv = document.getElementById('plot');\n",
    "            const plotElement = plotDiv.querySelector('.js-plotly-plot');\n",
    "            const newWidth = window.innerWidth * 2 / 3;\n",
    "            Plotly.relayout(plotElement, 'width', newWidth);\n",
    "            plotElement.on('plotly_hover', function(data) {{\n",
    "                if(data.points.length > 0) {{\n",
    "                    const summary = data.points[0].customdata[0];\n",
    "                    document.getElementById('summary-box').innerHTML = summary;\n",
    "                }}\n",
    "            }});\n",
    "            plotElement.on('plotly_unhover', function(data) {{\n",
    "                document.getElementById('summary-box').innerHTML = 'Hover over a point to see the summary here.';\n",
    "            }});\n",
    "            \n",
    "        }});\n",
    "    </script>\n",
    "</body>\n",
    "</html>\n",
    "\"\"\"\n",
    "\n",
    "# Save the HTML content to a file\n",
    "with open(\"d_0_4_interactive_plot_5.html\", \"w\") as f:\n",
    "    f.write(html_content)"
   ]
  }
 ],
 "metadata": {
  "kernelspec": {
   "display_name": "my-env",
   "language": "python",
   "name": "python3"
  },
  "language_info": {
   "codemirror_mode": {
    "name": "ipython",
    "version": 3
   },
   "file_extension": ".py",
   "mimetype": "text/x-python",
   "name": "python",
   "nbconvert_exporter": "python",
   "pygments_lexer": "ipython3",
   "version": "3.11.5"
  }
 },
 "nbformat": 4,
 "nbformat_minor": 2
}
