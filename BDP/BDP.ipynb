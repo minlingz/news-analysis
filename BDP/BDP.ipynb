{
 "cells": [
  {
   "cell_type": "code",
   "execution_count": 1,
   "metadata": {},
   "outputs": [],
   "source": [
    "from openai import OpenAI\n",
    "import json, os, sys\n",
    "import os\n",
    "import re\n",
    "import random"
   ]
  },
  {
   "cell_type": "code",
   "execution_count": 2,
   "metadata": {},
   "outputs": [],
   "source": [
    "client = OpenAI(api_key=os.getenv(\"OPENAI_API_KEY\"))"
   ]
  },
  {
   "cell_type": "code",
   "execution_count": 3,
   "metadata": {},
   "outputs": [],
   "source": [
    "def generate_questions(chunk, client, model=\"gpt-4o\"):\n",
    "    prompt = f\"\"\"\n",
    "You are an expert in news analysis and skilled at creating multiple-choice question answers that help to differentiate between articles. \n",
    "I have some summaries of news articles and I need to generate unique, comprehensive multiple-choice questions based on these summaries.\n",
    "\n",
    "Your task is to generate questions that:\n",
    "- Focusing on Kenneth Burke’s Dramatistic Pentad, which is a tool for analyzing stories and narratives.\n",
    "- Help to differentiate between the articles.\n",
    "- Are common to all articles, not specific to any one article.\n",
    "- Are unique and not repeated in any other batch.\n",
    "- Include \"None of the above\" as one of the options for each question.\n",
    "\n",
    "Below is the format and example I need:\n",
    "\n",
    "1. What was done?\n",
    "   - A. The Chinese coast guard seized one of four food packs dropped by a Philippine military plane for Filipino navy personnel at a territorial outpost. After discovering the package contained food, they dumped it into the sea.\n",
    "   - B. Philippine soldiers were reported to have pointed guns at Chinese coast guard personnel during a resupply mission to the grounded Sierra Madre ship. The Chinese coast guard responded to the resupply operation, which included food drops, by observing armed Philippine soldiers on the ship’s deck.\n",
    "   - C. Turkish Foreign Minister Hakan Fidan began a trip to China and expressed priorities to support Hamas against Israel and increase trade with China, without condemning the Uyghur genocide.\n",
    "   - D. The Philippines is collaborating with the United States and Japan to ensure the West Philippine Sea (WPS) remains free and safe amid tensions with Chinese maritime forces.\n",
    "   - E. None of the above\n",
    "\n",
    "Below is the questions that need multiple choice answers to be generated:\n",
    "\n",
    "1. What was done?\n",
    "2. Who was involved?\n",
    "3. Where did the event take place?\n",
    "4. When did the event occur?\n",
    "5. Why did the event happen?\n",
    "6. How was the event carried out?\n",
    "7. What was the outcome?\n",
    "8. What was the primary motive behind the actions?\n",
    "9. What was the reaction of the involved parties?\n",
    "10. What was the broader context of the event?\n",
    "\n",
    "Please generate as many unique and comprehensive answers as possible based on the given article summaries below. \n",
    "Make sure each answer is designed to highlight differences between the articles.\n",
    "\n",
    "Summaries: {chunk}\n",
    "\n",
    "Generate as many as you can unique questions based on the above summaries.\n",
    "\"\"\"\n",
    "    messages = [{\"role\": \"user\", \"content\": prompt}]\n",
    "    try:\n",
    "        response = client.chat.completions.create(\n",
    "            model=model, messages=messages, temperature=0\n",
    "        )\n",
    "\n",
    "        content = response.choices[0].message.content\n",
    "        return content\n",
    "    except Exception as e:  # if the model fails to return a response\n",
    "        print(f\"Error: {e}\")\n",
    "        return \"Sorry, error from GPT.\""
   ]
  },
  {
   "cell_type": "code",
   "execution_count": 4,
   "metadata": {},
   "outputs": [],
   "source": [
    "def process_batches(input_file, output_file, client, model):\n",
    "    # Read the article summaries from the input JSON file\n",
    "    with open(input_file, \"r\") as f:\n",
    "        articles = json.load(f)\n",
    "\n",
    "    # Extract summaries from the articles\n",
    "    article_summaries = [article[\"summary\"] for article in articles]\n",
    "    article_summaries = (\n",
    "        article_summaries[200:300] + article_summaries[500:]\n",
    "    )  # Limit to 200 summaries\n",
    "\n",
    "    # Shuffle the data\n",
    "    random.shuffle(article_summaries)\n",
    "\n",
    "    num_summaries = len(article_summaries)\n",
    "    batch_size = 200\n",
    "    print(article_summaries[:5])\n",
    "    responses = []\n",
    "\n",
    "    # Process the article summaries in batches of 100\n",
    "    for i in range(0, num_summaries, batch_size):\n",
    "        batch = article_summaries[i : i + batch_size]\n",
    "        chunk = json.dumps(batch)  # Convert the batch to a JSON string\n",
    "\n",
    "        questions = generate_questions(chunk, client, model=model)\n",
    "        responses.append(\n",
    "            {\n",
    "                \"batch_start\": i,\n",
    "                \"batch_end\": min(i + batch_size - 1, num_summaries - 1),\n",
    "                \"questions\": questions,\n",
    "            }\n",
    "        )\n",
    "\n",
    "    # Write the generated questions to the output JSON file\n",
    "    with open(output_file, \"w\") as f:\n",
    "        json.dump(responses, f, indent=4)"
   ]
  },
  {
   "cell_type": "code",
   "execution_count": 5,
   "metadata": {},
   "outputs": [
    {
     "name": "stdout",
     "output_type": "stream",
     "text": [
      "[\"The annual Shangri-La Dialogue in Singapore brought together global military leaders and defense ministers to discuss pressing security issues. Key topics included China's assertive actions in the Asia-Pacific, the ongoing war in Ukraine, and geopolitical tensions involving the US. Philippine President Ferdinand Marcos Jr. and China's Defense Minister Adm Dong Jun exchanged sharp remarks over the South China Sea dispute. US Secretary of Defense Lloyd Austin and Adm Dong had a notable face-to-face meeting, with Austin rejecting claims that NATO's expansion caused the Ukraine crisis. Ukrainian President Volodymyr Zelensky made a surprise appearance, criticizing China's support for Russia. The summit also touched on the potential implications of former US President Donald Trump's legal troubles and possible re-election. Concerns about climate change, nuclear proliferation, and the risk of US-China military miscalculations were also highlighted. The event underscored the importance of diplomatic dialogue in a fraught geopolitical landscape.\", 'The article argues that the Philippine government should abandon its confrontational policies in the South China Sea and instead engage in friendly negotiations with China to promote regional peace and prosperity. Recently, the Philippines has aligned with external powers, particularly the United States, by expanding military bases and participating in joint military exercises, which has negatively impacted regional stability and marginalized the Philippines in regional cooperation.\\n\\nThe article highlights that the previous Philippine administration maintained an independent foreign policy, fostering cooperation and dialogue, which benefited the country\\'s economic development and strengthened ties with China. In contrast, the current administration\\'s confrontational approach has escalated tensions and hindered peaceful resolution efforts, potentially destabilizing ASEAN and the broader region.\\n\\nThe author, a deputy director at the Philippine \"Asia Century\" Strategic Studies Institute, urges the Philippine government to value regional independence and stability, and to return to a path of friendly consultation with China. This shift would reduce conflict risks, enhance regional stability, and send a positive signal to the people of the region.', 'Beijing criticized the United States on Monday for its support of the Philippines in the South China Sea dispute, labeling the U.S. role as \"extremely ignoble.\" This statement came after Philippine President Ferdinand Marcos Jr. warned that any deliberate killing of a Philippine citizen by the China Coast Guard would be considered \"an act of war.\" Marcos made this declaration during his keynote address at the Shangri-La Dialogue in Singapore. China\\'s Foreign Ministry accused the U.S. of using the South China Sea issue to create divisions between China and other regional countries for selfish geopolitical reasons.', \"The Bureau of Fisheries and Aquatic Resources (BFAR) reported no incidents of China preventing Filipino fishermen from fishing in the West Philippine Sea (WPS) despite China's unilateral fishing ban in the South China Sea. BFAR spokesperson Nazario Briguera stated that the bureau does not recognize China's ban and emphasized that Filipino fishermen should continue their activities. The Philippines had previously protested the ban, citing violations of international law and infringement on its sovereignty. The Philippine Coast Guard (PCG) and BFAR are increasing their presence in the Bajo de Masinloc area to support local fishermen. This area, also known as Scarborough Shoal, is part of the disputed territories in the South China Sea, where China's extensive claims overlap with those of several Southeast Asian nations. An international tribunal in 2016 ruled against China's claims, a decision China does not accept.\", \"The Philippines accused the Chinese coast guard of seizing and dumping food supplies intended for Filipino forces stationed at Second Thomas Shoal, a disputed area in the South China Sea. General Romeo Brawner stated that Chinese personnel may have mistaken the food packages for construction materials meant to reinforce a grounded Philippine navy ship used as an outpost. The incident occurred during a May 19 airdrop, leading to a scramble between Chinese and Filipino forces to retrieve the packages. The Chinese managed to seize one package and discarded its contents into the sea. The Philippines condemned the action as illegal, emphasizing that the shoal lies within its exclusive economic zone, supported by a 2016 international arbitration ruling against China's claims. The territorial dispute has heightened tensions, with potential implications for U.S.-China relations, given the U.S.'s defense commitments to the Philippines. Other nations involved in the South China Sea disputes include Vietnam, Malaysia, Brunei, and Taiwan.\"]\n"
     ]
    }
   ],
   "source": [
    "input_file = \"../data/QnA_data/combined_summary.json\"\n",
    "output_file = \"output_questions.json\"\n",
    "\n",
    "# Assuming you have your OpenAI API client initialized as `client`\n",
    "process_batches(input_file, output_file, client, model=\"gpt-4o\")"
   ]
  },
  {
   "cell_type": "code",
   "execution_count": 6,
   "metadata": {},
   "outputs": [],
   "source": [
    "def extract_questions(batch_questions):\n",
    "    questions = {}\n",
    "    q_count = 1\n",
    "    for batch in batch_questions:\n",
    "        batch_qs = batch[\"questions\"].split(\"\\n\\n\")\n",
    "        for q in batch_qs:\n",
    "            match = re.match(\n",
    "                r\"\\d+\\. (.+?)\\n\\s+- A\\. (.+?)\\n\\s+- B\\. (.+?)\\n\\s+- C\\. (.+?)\\n\\s+- D\\. (.+?)\\n\\s+- E\\. (.+?)$\",\n",
    "                q.strip(),\n",
    "                re.DOTALL,\n",
    "            )\n",
    "            if match:\n",
    "                question = match.group(1).strip()\n",
    "                choices = {\n",
    "                    \"A\": match.group(2).strip(),\n",
    "                    \"B\": match.group(3).strip(),\n",
    "                    \"C\": match.group(4).strip(),\n",
    "                    \"D\": match.group(5).strip(),\n",
    "                    \"E\": match.group(6).strip(),\n",
    "                }\n",
    "                # if question not in questions:\n",
    "                questions[question] = choices\n",
    "    print(questions)\n",
    "    return questions\n",
    "\n",
    "\n",
    "def convert_to_json2_format(unique_questions):\n",
    "    formatted_questions = {}\n",
    "    q_num = 1\n",
    "    for question, choices in unique_questions.items():\n",
    "        formatted_questions[f\"Q{q_num}\"] = {\"question\": question, \"choices\": choices}\n",
    "        q_num += 1\n",
    "    return formatted_questions\n",
    "\n",
    "\n",
    "def process_json(input_json):\n",
    "    unique_questions = extract_questions(input_json)\n",
    "    return convert_to_json2_format(unique_questions)"
   ]
  },
  {
   "cell_type": "code",
   "execution_count": 7,
   "metadata": {},
   "outputs": [],
   "source": [
    "# Load JSON 1\n",
    "with open(\"output_questions.json\", \"r\") as f:\n",
    "    json1 = json.load(f)"
   ]
  },
  {
   "cell_type": "code",
   "execution_count": 8,
   "metadata": {},
   "outputs": [
    {
     "name": "stdout",
     "output_type": "stream",
     "text": [
      "{'What was done?': {'A': 'The annual Shangri-La Dialogue in Singapore brought together global military leaders and defense ministers to discuss pressing security issues.', 'B': 'The Philippine government was urged to abandon its confrontational policies in the South China Sea and engage in friendly negotiations with China.', 'C': 'The Chinese coast guard seized and dumped food supplies intended for Filipino forces stationed at Second Thomas Shoal.', 'D': 'The Bureau of Fisheries and Aquatic Resources (BFAR) reported no incidents of China preventing Filipino fishermen from fishing in the West Philippine Sea.', 'E': 'None of the above'}, 'Who was involved?': {'A': \"Global military leaders and defense ministers, including Philippine President Ferdinand Marcos Jr. and China's Defense Minister Adm Dong Jun.\", 'B': 'The Philippine government, the United States, and China.', 'C': 'Chinese coast guard personnel and Filipino forces stationed at Second Thomas Shoal.', 'D': 'The Bureau of Fisheries and Aquatic Resources (BFAR) and Filipino fishermen.', 'E': 'None of the above'}, 'Where did the event take place?': {'A': 'Singapore', 'B': 'Second Thomas Shoal in the South China Sea', 'C': 'The West Philippine Sea', 'D': 'Washington, D.C.', 'E': 'None of the above'}, 'When did the event occur?': {'A': 'During the annual Shangri-La Dialogue', 'B': 'On May 19', 'C': 'On June 3', 'D': 'In August 2023', 'E': 'None of the above'}, 'Why did the event happen?': {'A': 'To discuss pressing security issues and geopolitical tensions.', 'B': 'To promote regional peace and prosperity through friendly negotiations.', 'C': 'Due to a misunderstanding about the contents of the food packages.', 'D': \"To support local fishermen amid China's unilateral fishing ban.\", 'E': 'None of the above'}, 'How was the event carried out?': {'A': 'Through a high-level security forum with speeches and discussions.', 'B': 'By urging the Philippine government to change its policies.', 'C': 'By seizing and dumping food supplies during an airdrop.', 'D': 'By increasing the presence of the Philippine Coast Guard and BFAR in disputed areas.', 'E': 'None of the above'}, 'What was the outcome?': {'A': 'Heightened tensions and potential implications for U.S.-China relations.', 'B': 'A call for the Philippine government to value regional independence and stability.', 'C': \"Condemnation of China's actions as illegal by the Philippines.\", 'D': 'No incidents of China preventing Filipino fishermen from fishing.', 'E': 'None of the above'}, 'What was the primary motive behind the actions?': {'A': 'To address pressing security issues and geopolitical tensions.', 'B': 'To promote regional peace and prosperity through friendly negotiations.', 'C': 'To prevent the reinforcement of a grounded Philippine navy ship.', 'D': \"To support local fishermen amid China's unilateral fishing ban.\", 'E': 'None of the above'}, 'What was the reaction of the involved parties?': {'A': \"Sharp remarks exchanged between Philippine President Ferdinand Marcos Jr. and China's Defense Minister Adm Dong Jun.\", 'B': 'Urging the Philippine government to change its confrontational policies.', 'C': \"Condemnation of the Chinese coast guard's actions by the Philippines.\", 'D': 'Emphasis on the importance of continuing fishing activities by BFAR.', 'E': 'None of the above'}, 'What was the broader context of the event?': {'A': 'The annual Shangri-La Dialogue focusing on global security issues.', 'B': 'The need for regional peace and stability in the South China Sea.', 'C': 'Ongoing territorial disputes and heightened tensions in the South China Sea.', 'D': \"The impact of China's unilateral fishing ban on local fishermen.\", 'E': 'None of the above'}}\n"
     ]
    }
   ],
   "source": [
    "# Process JSON 1 to get JSON 2 format\n",
    "json2_format = process_json(json1)"
   ]
  },
  {
   "cell_type": "code",
   "execution_count": 9,
   "metadata": {},
   "outputs": [],
   "source": [
    "# Save the result to a new JSON file\n",
    "with open(\"formated_output_questions.json\", \"w\") as f:\n",
    "    json.dump(json2_format, f, indent=4)"
   ]
  }
 ],
 "metadata": {
  "kernelspec": {
   "display_name": "env",
   "language": "python",
   "name": "python3"
  },
  "language_info": {
   "codemirror_mode": {
    "name": "ipython",
    "version": 3
   },
   "file_extension": ".py",
   "mimetype": "text/x-python",
   "name": "python",
   "nbconvert_exporter": "python",
   "pygments_lexer": "ipython3",
   "version": "3.11.5"
  }
 },
 "nbformat": 4,
 "nbformat_minor": 2
}
